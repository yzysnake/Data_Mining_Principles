{
 "cells": [
  {
   "cell_type": "markdown",
   "metadata": {},
   "source": [
    "# Mining Relationships Among Records: Clustering\n",
    "An unsupervised machine learning model\n",
    "\n",
    "Cluster analysis divides data into groups (clusters) that are meaningful, useful, or both, using on information found only in the data that describes the objects and their relationships. \n",
    "\n",
    "> If meaningful groups are the goal, then the clusters should capture the natural structure of the data (customer segmentation). \n",
    "\n",
    "> If the goal is utility, then cluster analysis can be defined as the study of technicques for finding the most representative cluster prototypes - to create an abstraction or a summarization (data compression/vector quantization, generating cluster prototypes for further analysis). "
   ]
  },
  {
   "cell_type": "code",
   "execution_count": 1,
   "metadata": {
    "ExecuteTime": {
     "end_time": "2024-01-17T01:57:17.528042Z",
     "start_time": "2024-01-17T01:57:14.802774Z"
    }
   },
   "outputs": [],
   "source": [
    "import pandas as pd\n",
    "from sklearn import preprocessing\n",
    "from sklearn.metrics import pairwise\n",
    "import matplotlib.pylab as plt\n",
    "from pandas.plotting import parallel_coordinates"
   ]
  },
  {
   "cell_type": "markdown",
   "metadata": {},
   "source": [
    "## Example: Utilities Dataset\n",
    "\n",
    "\n",
    "Utilities.csv gives corporate data on 22 U.S. public utility companies. We are interested in forming groups of similar utilities. The records to be clustered are the utilities, and the clustering will be based on the eight measurements on each utility. An example where clustering would be useful is a study to predict the cost impact of deregulation. To do the requisite analysis, economists would need to build a detailed cost model of the various utilities. It would save a considerable amount of time and effort if we could cluster similar types of utilities and build detailed cost models for just one “typical” utility in each cluster and then scale up from these models to estimate results for all utilities.\n",
    "For each company that will be impacted, economists would create a separate model. However, as a data scientist we like to find other ways -- how about identifying similar companies, so that economists can focus on the vital few \"groups\" of companies!\n",
    "\n",
    "**Data dictionary:**\n",
    "- Fixed: fixed-charge covering ratio (income/debt)\n",
    "- RoR: rate of return on capital\n",
    "- Cost: cost per kilowatt capacity in place\n",
    "- Load: annual load factor\n",
    "- Demand: pealk kiliwatthour demand groth from 1974 to 1975\n",
    "- Sales: sales (kilowatthour use per year)\n",
    "- Nuclear: percent nuclear\n",
    "- Fuel Cost: total fuel costs (cents per kilowatthour)"
   ]
  },
  {
   "cell_type": "code",
   "execution_count": 2,
   "metadata": {
    "ExecuteTime": {
     "end_time": "2024-01-17T01:58:40.743072Z",
     "start_time": "2024-01-17T01:58:40.698105Z"
    }
   },
   "outputs": [
    {
     "data": {
      "text/plain": "                 Fixed_charge   RoR   Cost  Load  D Demand   Sales  Nuclear  \\\nCompany                                                                       \nArizona                  1.06   9.2  151.0  54.4       1.6  9077.0      0.0   \nBoston                   0.89  10.3  202.0  57.9       2.2  5088.0     25.3   \nCentral                  1.43  15.4  113.0  53.0       3.4  9212.0      0.0   \nCommonwealth             1.02  11.2  168.0  56.0       0.3  6423.0     34.3   \nConsolidated NY          1.49   8.8  192.0  51.2       1.0  3300.0     15.6   \n\n                 Fuel_Cost  \nCompany                     \nArizona              0.628  \nBoston               1.555  \nCentral              1.058  \nCommonwealth         0.700  \nConsolidated NY      2.044  ",
      "text/html": "<div>\n<style scoped>\n    .dataframe tbody tr th:only-of-type {\n        vertical-align: middle;\n    }\n\n    .dataframe tbody tr th {\n        vertical-align: top;\n    }\n\n    .dataframe thead th {\n        text-align: right;\n    }\n</style>\n<table border=\"1\" class=\"dataframe\">\n  <thead>\n    <tr style=\"text-align: right;\">\n      <th></th>\n      <th>Fixed_charge</th>\n      <th>RoR</th>\n      <th>Cost</th>\n      <th>Load</th>\n      <th>D Demand</th>\n      <th>Sales</th>\n      <th>Nuclear</th>\n      <th>Fuel_Cost</th>\n    </tr>\n    <tr>\n      <th>Company</th>\n      <th></th>\n      <th></th>\n      <th></th>\n      <th></th>\n      <th></th>\n      <th></th>\n      <th></th>\n      <th></th>\n    </tr>\n  </thead>\n  <tbody>\n    <tr>\n      <th>Arizona</th>\n      <td>1.06</td>\n      <td>9.2</td>\n      <td>151.0</td>\n      <td>54.4</td>\n      <td>1.6</td>\n      <td>9077.0</td>\n      <td>0.0</td>\n      <td>0.628</td>\n    </tr>\n    <tr>\n      <th>Boston</th>\n      <td>0.89</td>\n      <td>10.3</td>\n      <td>202.0</td>\n      <td>57.9</td>\n      <td>2.2</td>\n      <td>5088.0</td>\n      <td>25.3</td>\n      <td>1.555</td>\n    </tr>\n    <tr>\n      <th>Central</th>\n      <td>1.43</td>\n      <td>15.4</td>\n      <td>113.0</td>\n      <td>53.0</td>\n      <td>3.4</td>\n      <td>9212.0</td>\n      <td>0.0</td>\n      <td>1.058</td>\n    </tr>\n    <tr>\n      <th>Commonwealth</th>\n      <td>1.02</td>\n      <td>11.2</td>\n      <td>168.0</td>\n      <td>56.0</td>\n      <td>0.3</td>\n      <td>6423.0</td>\n      <td>34.3</td>\n      <td>0.700</td>\n    </tr>\n    <tr>\n      <th>Consolidated NY</th>\n      <td>1.49</td>\n      <td>8.8</td>\n      <td>192.0</td>\n      <td>51.2</td>\n      <td>1.0</td>\n      <td>3300.0</td>\n      <td>15.6</td>\n      <td>2.044</td>\n    </tr>\n  </tbody>\n</table>\n</div>"
     },
     "execution_count": 2,
     "metadata": {},
     "output_type": "execute_result"
    }
   ],
   "source": [
    "utilities_df = pd.read_csv(\"Utilities.csv\")\n",
    "# set riw names to the utilities column\n",
    "utilities_df.set_index('Company',inplace=True)\n",
    "# convert to integer to float to avoid sclae function warning\n",
    "utilities_df = utilities_df.apply(lambda x: x.astype('float64'))\n",
    "utilities_df.head()"
   ]
  },
  {
   "cell_type": "markdown",
   "metadata": {},
   "source": [
    "### Focus on Sales and Fuel Cost Features"
   ]
  },
  {
   "cell_type": "code",
   "execution_count": 4,
   "metadata": {
    "ExecuteTime": {
     "end_time": "2024-01-17T01:59:07.645104Z",
     "start_time": "2024-01-17T01:59:07.471929Z"
    }
   },
   "outputs": [
    {
     "data": {
      "text/plain": "<Figure size 640x480 with 1 Axes>",
      "image/png": "[encoded data removed]"
     },
     "metadata": {},
     "output_type": "display_data"
    }
   ],
   "source": [
    "utilities_df.plot.scatter(x='Sales', y='Fuel_Cost', marker='o');"
   ]
  },
  {
   "cell_type": "code",
   "execution_count": 5,
   "metadata": {
    "ExecuteTime": {
     "end_time": "2024-01-17T01:59:44.008130Z",
     "start_time": "2024-01-17T01:59:43.998967Z"
    }
   },
   "outputs": [
    {
     "data": {
      "text/plain": "           Company  Fixed_charge   RoR   Cost  Load  D Demand   Sales  \\\n0          Arizona          1.06   9.2  151.0  54.4       1.6  9077.0   \n1           Boston          0.89  10.3  202.0  57.9       2.2  5088.0   \n2          Central          1.43  15.4  113.0  53.0       3.4  9212.0   \n3     Commonwealth          1.02  11.2  168.0  56.0       0.3  6423.0   \n4  Consolidated NY          1.49   8.8  192.0  51.2       1.0  3300.0   \n\n   Nuclear  Fuel_Cost  \n0      0.0      0.628  \n1     25.3      1.555  \n2      0.0      1.058  \n3     34.3      0.700  \n4     15.6      2.044  ",
      "text/html": "<div>\n<style scoped>\n    .dataframe tbody tr th:only-of-type {\n        vertical-align: middle;\n    }\n\n    .dataframe tbody tr th {\n        vertical-align: top;\n    }\n\n    .dataframe thead th {\n        text-align: right;\n    }\n</style>\n<table border=\"1\" class=\"dataframe\">\n  <thead>\n    <tr style=\"text-align: right;\">\n      <th></th>\n      <th>Company</th>\n      <th>Fixed_charge</th>\n      <th>RoR</th>\n      <th>Cost</th>\n      <th>Load</th>\n      <th>D Demand</th>\n      <th>Sales</th>\n      <th>Nuclear</th>\n      <th>Fuel_Cost</th>\n    </tr>\n  </thead>\n  <tbody>\n    <tr>\n      <th>0</th>\n      <td>Arizona</td>\n      <td>1.06</td>\n      <td>9.2</td>\n      <td>151.0</td>\n      <td>54.4</td>\n      <td>1.6</td>\n      <td>9077.0</td>\n      <td>0.0</td>\n      <td>0.628</td>\n    </tr>\n    <tr>\n      <th>1</th>\n      <td>Boston</td>\n      <td>0.89</td>\n      <td>10.3</td>\n      <td>202.0</td>\n      <td>57.9</td>\n      <td>2.2</td>\n      <td>5088.0</td>\n      <td>25.3</td>\n      <td>1.555</td>\n    </tr>\n    <tr>\n      <th>2</th>\n      <td>Central</td>\n      <td>1.43</td>\n      <td>15.4</td>\n      <td>113.0</td>\n      <td>53.0</td>\n      <td>3.4</td>\n      <td>9212.0</td>\n      <td>0.0</td>\n      <td>1.058</td>\n    </tr>\n    <tr>\n      <th>3</th>\n      <td>Commonwealth</td>\n      <td>1.02</td>\n      <td>11.2</td>\n      <td>168.0</td>\n      <td>56.0</td>\n      <td>0.3</td>\n      <td>6423.0</td>\n      <td>34.3</td>\n      <td>0.700</td>\n    </tr>\n    <tr>\n      <th>4</th>\n      <td>Consolidated NY</td>\n      <td>1.49</td>\n      <td>8.8</td>\n      <td>192.0</td>\n      <td>51.2</td>\n      <td>1.0</td>\n      <td>3300.0</td>\n      <td>15.6</td>\n      <td>2.044</td>\n    </tr>\n  </tbody>\n</table>\n</div>"
     },
     "execution_count": 5,
     "metadata": {},
     "output_type": "execute_result"
    }
   ],
   "source": [
    "utilities_df_figure = utilities_df.reset_index()\n",
    "utilities_df_figure.head()"
   ]
  },
  {
   "cell_type": "markdown",
   "metadata": {},
   "source": [
    "### Annotate the scatter plot!"
   ]
  },
  {
   "cell_type": "code",
   "execution_count": 6,
   "metadata": {
    "ExecuteTime": {
     "end_time": "2024-01-17T01:59:46.408431Z",
     "start_time": "2024-01-17T01:59:46.106961Z"
    }
   },
   "outputs": [
    {
     "data": {
      "text/plain": "<Figure size 640x480 with 1 Axes>",
      "image/png": "[encoded data removed]"
     },
     "metadata": {},
     "output_type": "display_data"
    }
   ],
   "source": [
    "title = 'Scatter plot of utility companies, fuel cost vs sales'\n",
    "ax = utilities_df_figure.set_index('Sales')['Fuel_Cost'].plot(style='o',title=title)\n",
    "def label_point(x, y, val, ax):\n",
    "    a = pd.concat({'x': x, 'y': y, 'val': val}, axis=1)\n",
    "    for i, point in a.iterrows():\n",
    "        ax.text(point['x'], point['y'], str(point['val']))\n",
    "\n",
    "label_point(utilities_df_figure.Sales, utilities_df_figure.Fuel_Cost, utilities_df_figure.Company, ax)"
   ]
  },
  {
   "cell_type": "markdown",
   "metadata": {},
   "source": [
    "# Similarity Metric: Measuring Distance Between Two Observations\n",
    "## Numeric Data: Euclidean distance \n",
    "- scale dependent(normalize, unless you want to weight tge measurements)\n",
    "- ignores the relationship between variables (if variables are correlated, use a different distance, ie. statistical distance)\n",
    "- sensitive to outliers (if you have to keep the outliers, use a more robust distance, e.g. Manhattan distance)\n"
   ]
  },
  {
   "cell_type": "code",
   "execution_count": 7,
   "metadata": {
    "ExecuteTime": {
     "end_time": "2024-01-17T01:59:49.329871Z",
     "start_time": "2024-01-17T01:59:49.318940Z"
    }
   },
   "outputs": [
    {
     "data": {
      "text/plain": "Company              Arizona       Boston      Central  Commonwealth  \\\nCompany                                                                \nArizona             0.000000  3989.408076   140.402855   2654.277632   \nBoston           3989.408076     0.000000  4125.044132   1335.466502   \nCentral           140.402855  4125.044132     0.000000   2789.759674   \nCommonwealth     2654.277632  1335.466502  2789.759674      0.000000   \nConsolidated NY  5777.167672  1788.068027  5912.552908   3123.153215   \n\nCompany          Consolidated NY      Florida     Hawaiian        Idaho  \\\nCompany                                                                   \nArizona              5777.167672  2050.529440  1435.265019  4006.104187   \nBoston               1788.068027  6039.689076  2554.287162  7994.155985   \nCentral              5912.552908  1915.155154  1571.295401  3872.257626   \nCommonwealth         3123.153215  4704.363099  1219.560005  6659.534567   \nConsolidated NY         0.000000  7827.429211  4342.093798  9782.158178   \n\nCompany             Kentucky      Madison  ...     Northern     Oklahoma  \\\nCompany                                    ...                             \nArizona           671.276346  2622.699002  ...  1899.279821   598.556633   \nBoston           3318.276558  1367.090634  ...  2091.160485  4586.302564   \nCentral           807.920792  2758.559663  ...  2035.441520   461.341670   \nCommonwealth     1983.314354    43.648894  ...   756.831954  3250.984589   \nConsolidated NY  5106.094153  3155.095594  ...  3879.167462  6373.743249   \n\nCompany              Pacific         Puget    San Diego     Southern  \\\nCompany                                                                \nArizona          2609.045363   6914.742065  3363.061626  1063.009074   \nBoston           1380.749962  10903.146464   629.760748  5052.331669   \nCentral          2744.502847   6780.430307  3498.113013   928.749249   \nCommonwealth       56.644626   9568.434429   710.292965  3717.202963   \nConsolidated NY  3168.177463  12691.155108  2414.698757  6840.150291   \n\nCompany                 Texas       United     Virginia    Wisconsin  \nCompany                                                               \nArizona           4430.251585  2427.588875  1016.617691  1790.485648  \nBoston            8419.610541  1562.210811  5005.081262  2199.721665  \nCentral           4295.014690  2563.637362   883.535455  1925.772564  \nCommonwealth      7084.372839   232.476871  3670.018191   864.273153  \nConsolidated NY  10207.392630  3350.073118  6793.035300  3987.335962  \n\n[5 rows x 22 columns]",
      "text/html": "<div>\n<style scoped>\n    .dataframe tbody tr th:only-of-type {\n        vertical-align: middle;\n    }\n\n    .dataframe tbody tr th {\n        vertical-align: top;\n    }\n\n    .dataframe thead th {\n        text-align: right;\n    }\n</style>\n<table border=\"1\" class=\"dataframe\">\n  <thead>\n    <tr style=\"text-align: right;\">\n      <th>Company</th>\n      <th>Arizona</th>\n      <th>Boston</th>\n      <th>Central</th>\n      <th>Commonwealth</th>\n      <th>Consolidated NY</th>\n      <th>Florida</th>\n      <th>Hawaiian</th>\n      <th>Idaho</th>\n      <th>Kentucky</th>\n      <th>Madison</th>\n      <th>...</th>\n      <th>Northern</th>\n      <th>Oklahoma</th>\n      <th>Pacific</th>\n      <th>Puget</th>\n      <th>San Diego</th>\n      <th>Southern</th>\n      <th>Texas</th>\n      <th>United</th>\n      <th>Virginia</th>\n      <th>Wisconsin</th>\n    </tr>\n    <tr>\n      <th>Company</th>\n      <th></th>\n      <th></th>\n      <th></th>\n      <th></th>\n      <th></th>\n      <th></th>\n      <th></th>\n      <th></th>\n      <th></th>\n      <th></th>\n      <th></th>\n      <th></th>\n      <th></th>\n      <th></th>\n      <th></th>\n      <th></th>\n      <th></th>\n      <th></th>\n      <th></th>\n      <th></th>\n      <th></th>\n    </tr>\n  </thead>\n  <tbody>\n    <tr>\n      <th>Arizona</th>\n      <td>0.000000</td>\n      <td>3989.408076</td>\n      <td>140.402855</td>\n      <td>2654.277632</td>\n      <td>5777.167672</td>\n      <td>2050.529440</td>\n      <td>1435.265019</td>\n      <td>4006.104187</td>\n      <td>671.276346</td>\n      <td>2622.699002</td>\n      <td>...</td>\n      <td>1899.279821</td>\n      <td>598.556633</td>\n      <td>2609.045363</td>\n      <td>6914.742065</td>\n      <td>3363.061626</td>\n      <td>1063.009074</td>\n      <td>4430.251585</td>\n      <td>2427.588875</td>\n      <td>1016.617691</td>\n      <td>1790.485648</td>\n    </tr>\n    <tr>\n      <th>Boston</th>\n      <td>3989.408076</td>\n      <td>0.000000</td>\n      <td>4125.044132</td>\n      <td>1335.466502</td>\n      <td>1788.068027</td>\n      <td>6039.689076</td>\n      <td>2554.287162</td>\n      <td>7994.155985</td>\n      <td>3318.276558</td>\n      <td>1367.090634</td>\n      <td>...</td>\n      <td>2091.160485</td>\n      <td>4586.302564</td>\n      <td>1380.749962</td>\n      <td>10903.146464</td>\n      <td>629.760748</td>\n      <td>5052.331669</td>\n      <td>8419.610541</td>\n      <td>1562.210811</td>\n      <td>5005.081262</td>\n      <td>2199.721665</td>\n    </tr>\n    <tr>\n      <th>Central</th>\n      <td>140.402855</td>\n      <td>4125.044132</td>\n      <td>0.000000</td>\n      <td>2789.759674</td>\n      <td>5912.552908</td>\n      <td>1915.155154</td>\n      <td>1571.295401</td>\n      <td>3872.257626</td>\n      <td>807.920792</td>\n      <td>2758.559663</td>\n      <td>...</td>\n      <td>2035.441520</td>\n      <td>461.341670</td>\n      <td>2744.502847</td>\n      <td>6780.430307</td>\n      <td>3498.113013</td>\n      <td>928.749249</td>\n      <td>4295.014690</td>\n      <td>2563.637362</td>\n      <td>883.535455</td>\n      <td>1925.772564</td>\n    </tr>\n    <tr>\n      <th>Commonwealth</th>\n      <td>2654.277632</td>\n      <td>1335.466502</td>\n      <td>2789.759674</td>\n      <td>0.000000</td>\n      <td>3123.153215</td>\n      <td>4704.363099</td>\n      <td>1219.560005</td>\n      <td>6659.534567</td>\n      <td>1983.314354</td>\n      <td>43.648894</td>\n      <td>...</td>\n      <td>756.831954</td>\n      <td>3250.984589</td>\n      <td>56.644626</td>\n      <td>9568.434429</td>\n      <td>710.292965</td>\n      <td>3717.202963</td>\n      <td>7084.372839</td>\n      <td>232.476871</td>\n      <td>3670.018191</td>\n      <td>864.273153</td>\n    </tr>\n    <tr>\n      <th>Consolidated NY</th>\n      <td>5777.167672</td>\n      <td>1788.068027</td>\n      <td>5912.552908</td>\n      <td>3123.153215</td>\n      <td>0.000000</td>\n      <td>7827.429211</td>\n      <td>4342.093798</td>\n      <td>9782.158178</td>\n      <td>5106.094153</td>\n      <td>3155.095594</td>\n      <td>...</td>\n      <td>3879.167462</td>\n      <td>6373.743249</td>\n      <td>3168.177463</td>\n      <td>12691.155108</td>\n      <td>2414.698757</td>\n      <td>6840.150291</td>\n      <td>10207.392630</td>\n      <td>3350.073118</td>\n      <td>6793.035300</td>\n      <td>3987.335962</td>\n    </tr>\n  </tbody>\n</table>\n<p>5 rows × 22 columns</p>\n</div>"
     },
     "execution_count": 7,
     "metadata": {},
     "output_type": "execute_result"
    }
   ],
   "source": [
    "#compute Euclidean distance\n",
    "d = pairwise.pairwise_distances(utilities_df,metric='euclidean')\n",
    "utilities_euclidean = pd.DataFrame(d,columns = utilities_df.index, index=utilities_df.index)\n",
    "utilities_euclidean.head()"
   ]
  },
  {
   "cell_type": "markdown",
   "metadata": {},
   "source": [
    "**Normalization** is important for Euclidean distance calculations, because the distance is highly influenced by scale, it is customary to normalize continous variables before computing Euclidean distance. "
   ]
  },
  {
   "cell_type": "markdown",
   "metadata": {},
   "source": [
    "#### Normalize the utilities data\n",
    "You can normalize using a sample standard deviation (using pandas) or a population standard deviation (using sklearn), depending on whether the data is a good representation of the population. (The sklearn.preprocessing package provides several common utility functions and transformer classes to change raw feature vectors into a representation that is more suitable for the downstream estimators.https://scikit-learn.org/stable/modules/preprocessing.html) \n",
    "\n",
    "For more on comparing the effect of different scalers on data with outliers: https://scikit-learn.org/stable/auto_examples/preprocessing/plot_all_scaling.html#sphx-glr-auto-examples-preprocessing-plot-all-scaling-py"
   ]
  },
  {
   "cell_type": "code",
   "execution_count": 10,
   "metadata": {
    "ExecuteTime": {
     "end_time": "2024-01-17T02:06:02.325921Z",
     "start_time": "2024-01-17T02:06:02.305995Z"
    }
   },
   "outputs": [
    {
     "data": {
      "text/plain": "                 Fixed_charge   RoR   Cost  Load  D Demand   Sales  Nuclear  \\\nCompany                                                                       \nArizona                  1.06   9.2  151.0  54.4       1.6  9077.0      0.0   \nBoston                   0.89  10.3  202.0  57.9       2.2  5088.0     25.3   \nCentral                  1.43  15.4  113.0  53.0       3.4  9212.0      0.0   \nCommonwealth             1.02  11.2  168.0  56.0       0.3  6423.0     34.3   \nConsolidated NY          1.49   8.8  192.0  51.2       1.0  3300.0     15.6   \n\n                 Fuel_Cost  \nCompany                     \nArizona              0.628  \nBoston               1.555  \nCentral              1.058  \nCommonwealth         0.700  \nConsolidated NY      2.044  ",
      "text/html": "<div>\n<style scoped>\n    .dataframe tbody tr th:only-of-type {\n        vertical-align: middle;\n    }\n\n    .dataframe tbody tr th {\n        vertical-align: top;\n    }\n\n    .dataframe thead th {\n        text-align: right;\n    }\n</style>\n<table border=\"1\" class=\"dataframe\">\n  <thead>\n    <tr style=\"text-align: right;\">\n      <th></th>\n      <th>Fixed_charge</th>\n      <th>RoR</th>\n      <th>Cost</th>\n      <th>Load</th>\n      <th>D Demand</th>\n      <th>Sales</th>\n      <th>Nuclear</th>\n      <th>Fuel_Cost</th>\n    </tr>\n    <tr>\n      <th>Company</th>\n      <th></th>\n      <th></th>\n      <th></th>\n      <th></th>\n      <th></th>\n      <th></th>\n      <th></th>\n      <th></th>\n    </tr>\n  </thead>\n  <tbody>\n    <tr>\n      <th>Arizona</th>\n      <td>1.06</td>\n      <td>9.2</td>\n      <td>151.0</td>\n      <td>54.4</td>\n      <td>1.6</td>\n      <td>9077.0</td>\n      <td>0.0</td>\n      <td>0.628</td>\n    </tr>\n    <tr>\n      <th>Boston</th>\n      <td>0.89</td>\n      <td>10.3</td>\n      <td>202.0</td>\n      <td>57.9</td>\n      <td>2.2</td>\n      <td>5088.0</td>\n      <td>25.3</td>\n      <td>1.555</td>\n    </tr>\n    <tr>\n      <th>Central</th>\n      <td>1.43</td>\n      <td>15.4</td>\n      <td>113.0</td>\n      <td>53.0</td>\n      <td>3.4</td>\n      <td>9212.0</td>\n      <td>0.0</td>\n      <td>1.058</td>\n    </tr>\n    <tr>\n      <th>Commonwealth</th>\n      <td>1.02</td>\n      <td>11.2</td>\n      <td>168.0</td>\n      <td>56.0</td>\n      <td>0.3</td>\n      <td>6423.0</td>\n      <td>34.3</td>\n      <td>0.700</td>\n    </tr>\n    <tr>\n      <th>Consolidated NY</th>\n      <td>1.49</td>\n      <td>8.8</td>\n      <td>192.0</td>\n      <td>51.2</td>\n      <td>1.0</td>\n      <td>3300.0</td>\n      <td>15.6</td>\n      <td>2.044</td>\n    </tr>\n  </tbody>\n</table>\n</div>"
     },
     "execution_count": 10,
     "metadata": {},
     "output_type": "execute_result"
    }
   ],
   "source": [
    "utilities_df.head()"
   ]
  },
  {
   "cell_type": "code",
   "execution_count": 11,
   "metadata": {
    "ExecuteTime": {
     "end_time": "2024-01-17T02:06:02.923040Z",
     "start_time": "2024-01-17T02:06:02.899775Z"
    }
   },
   "outputs": [
    {
     "data": {
      "text/plain": "                 Fixed_charge       RoR      Cost      Load  D Demand  \\\nCompany                                                                 \nArizona             -0.300057 -0.700750 -0.426938 -0.591310 -0.538611   \nBoston              -1.243092 -0.199030  0.840322  0.211704 -0.341667   \nCentral              1.752432  2.127130 -1.371171 -0.912516  0.052220   \nCommonwealth        -0.521947  0.211469 -0.004518 -0.224218 -0.965322   \nConsolidated NY      2.085268 -0.883194  0.591840 -1.325495 -0.735555   \n\n                    Sales   Nuclear  Fuel_Cost  \nCompany                                         \nArizona          0.046983 -0.731447  -0.873765  \nBoston          -1.103127  0.810687   0.832436  \nCentral          0.085906 -0.731447  -0.082323  \nCommonwealth    -0.718219  1.359271  -0.741244  \nConsolidated NY -1.618644  0.219434   1.732470  ",
      "text/html": "<div>\n<style scoped>\n    .dataframe tbody tr th:only-of-type {\n        vertical-align: middle;\n    }\n\n    .dataframe tbody tr th {\n        vertical-align: top;\n    }\n\n    .dataframe thead th {\n        text-align: right;\n    }\n</style>\n<table border=\"1\" class=\"dataframe\">\n  <thead>\n    <tr style=\"text-align: right;\">\n      <th></th>\n      <th>Fixed_charge</th>\n      <th>RoR</th>\n      <th>Cost</th>\n      <th>Load</th>\n      <th>D Demand</th>\n      <th>Sales</th>\n      <th>Nuclear</th>\n      <th>Fuel_Cost</th>\n    </tr>\n    <tr>\n      <th>Company</th>\n      <th></th>\n      <th></th>\n      <th></th>\n      <th></th>\n      <th></th>\n      <th></th>\n      <th></th>\n      <th></th>\n    </tr>\n  </thead>\n  <tbody>\n    <tr>\n      <th>Arizona</th>\n      <td>-0.300057</td>\n      <td>-0.700750</td>\n      <td>-0.426938</td>\n      <td>-0.591310</td>\n      <td>-0.538611</td>\n      <td>0.046983</td>\n      <td>-0.731447</td>\n      <td>-0.873765</td>\n    </tr>\n    <tr>\n      <th>Boston</th>\n      <td>-1.243092</td>\n      <td>-0.199030</td>\n      <td>0.840322</td>\n      <td>0.211704</td>\n      <td>-0.341667</td>\n      <td>-1.103127</td>\n      <td>0.810687</td>\n      <td>0.832436</td>\n    </tr>\n    <tr>\n      <th>Central</th>\n      <td>1.752432</td>\n      <td>2.127130</td>\n      <td>-1.371171</td>\n      <td>-0.912516</td>\n      <td>0.052220</td>\n      <td>0.085906</td>\n      <td>-0.731447</td>\n      <td>-0.082323</td>\n    </tr>\n    <tr>\n      <th>Commonwealth</th>\n      <td>-0.521947</td>\n      <td>0.211469</td>\n      <td>-0.004518</td>\n      <td>-0.224218</td>\n      <td>-0.965322</td>\n      <td>-0.718219</td>\n      <td>1.359271</td>\n      <td>-0.741244</td>\n    </tr>\n    <tr>\n      <th>Consolidated NY</th>\n      <td>2.085268</td>\n      <td>-0.883194</td>\n      <td>0.591840</td>\n      <td>-1.325495</td>\n      <td>-0.735555</td>\n      <td>-1.618644</td>\n      <td>0.219434</td>\n      <td>1.732470</td>\n    </tr>\n  </tbody>\n</table>\n</div>"
     },
     "execution_count": 11,
     "metadata": {},
     "output_type": "execute_result"
    }
   ],
   "source": [
    "#sklearn uses population standard deviation\n",
    "utilities_df_norm_p = utilities_df.apply(preprocessing.scale,axis=0)\n",
    "utilities_df_norm_p.head()"
   ]
  },
  {
   "cell_type": "code",
   "execution_count": 12,
   "metadata": {
    "ExecuteTime": {
     "end_time": "2024-01-17T02:06:03.401309Z",
     "start_time": "2024-01-17T02:06:03.375736Z"
    }
   },
   "outputs": [
    {
     "data": {
      "text/plain": "                 Fixed_charge       RoR      Cost      Load  D Demand  \\\nCompany                                                                 \nArizona             -0.293158 -0.684639 -0.417122 -0.577715 -0.526228   \nBoston              -1.214511 -0.194454  0.821002  0.206836 -0.333812   \nCentral              1.712141  2.078224 -1.339646 -0.891536  0.051019   \nCommonwealth        -0.509947  0.206607 -0.004414 -0.219063 -0.943128   \nConsolidated NY      2.037324 -0.862888  0.578233 -1.295019 -0.718643   \n\n                    Sales   Nuclear  Fuel_Cost  \nCompany                                         \nArizona          0.045903 -0.714629  -0.853675  \nBoston          -1.077764  0.792048   0.813297  \nCentral          0.083931 -0.714629  -0.080431  \nCommonwealth    -0.701706  1.328020  -0.724202  \nConsolidated NY -1.581428  0.214389   1.692638  ",
      "text/html": "<div>\n<style scoped>\n    .dataframe tbody tr th:only-of-type {\n        vertical-align: middle;\n    }\n\n    .dataframe tbody tr th {\n        vertical-align: top;\n    }\n\n    .dataframe thead th {\n        text-align: right;\n    }\n</style>\n<table border=\"1\" class=\"dataframe\">\n  <thead>\n    <tr style=\"text-align: right;\">\n      <th></th>\n      <th>Fixed_charge</th>\n      <th>RoR</th>\n      <th>Cost</th>\n      <th>Load</th>\n      <th>D Demand</th>\n      <th>Sales</th>\n      <th>Nuclear</th>\n      <th>Fuel_Cost</th>\n    </tr>\n    <tr>\n      <th>Company</th>\n      <th></th>\n      <th></th>\n      <th></th>\n      <th></th>\n      <th></th>\n      <th></th>\n      <th></th>\n      <th></th>\n    </tr>\n  </thead>\n  <tbody>\n    <tr>\n      <th>Arizona</th>\n      <td>-0.293158</td>\n      <td>-0.684639</td>\n      <td>-0.417122</td>\n      <td>-0.577715</td>\n      <td>-0.526228</td>\n      <td>0.045903</td>\n      <td>-0.714629</td>\n      <td>-0.853675</td>\n    </tr>\n    <tr>\n      <th>Boston</th>\n      <td>-1.214511</td>\n      <td>-0.194454</td>\n      <td>0.821002</td>\n      <td>0.206836</td>\n      <td>-0.333812</td>\n      <td>-1.077764</td>\n      <td>0.792048</td>\n      <td>0.813297</td>\n    </tr>\n    <tr>\n      <th>Central</th>\n      <td>1.712141</td>\n      <td>2.078224</td>\n      <td>-1.339646</td>\n      <td>-0.891536</td>\n      <td>0.051019</td>\n      <td>0.083931</td>\n      <td>-0.714629</td>\n      <td>-0.080431</td>\n    </tr>\n    <tr>\n      <th>Commonwealth</th>\n      <td>-0.509947</td>\n      <td>0.206607</td>\n      <td>-0.004414</td>\n      <td>-0.219063</td>\n      <td>-0.943128</td>\n      <td>-0.701706</td>\n      <td>1.328020</td>\n      <td>-0.724202</td>\n    </tr>\n    <tr>\n      <th>Consolidated NY</th>\n      <td>2.037324</td>\n      <td>-0.862888</td>\n      <td>0.578233</td>\n      <td>-1.295019</td>\n      <td>-0.718643</td>\n      <td>-1.581428</td>\n      <td>0.214389</td>\n      <td>1.692638</td>\n    </tr>\n  </tbody>\n</table>\n</div>"
     },
     "execution_count": 12,
     "metadata": {},
     "output_type": "execute_result"
    }
   ],
   "source": [
    "#pandas uses sample standard deviation\n",
    "utilities_df_norm_s= (utilities_df - utilities_df.mean())/utilities_df.std()\n",
    "utilities_df_norm_s.head()"
   ]
  },
  {
   "cell_type": "code",
   "execution_count": 13,
   "metadata": {
    "ExecuteTime": {
     "end_time": "2024-01-17T02:06:05.435983Z",
     "start_time": "2024-01-17T02:06:05.416641Z"
    }
   },
   "outputs": [
    {
     "data": {
      "text/plain": "                 Fixed_charge       RoR      Cost      Load  D Demand  \\\nCompany                                                                 \nArizona             -0.006899 -0.016111 -0.009816 -0.013595 -0.012384   \nBoston              -0.028581 -0.004576  0.019320  0.004867 -0.007855   \nCentral              0.040291  0.048906 -0.031525 -0.020980  0.001201   \nCommonwealth        -0.012000  0.004862 -0.000104 -0.005155 -0.022194   \nConsolidated NY      0.047944 -0.020306  0.013607 -0.030475 -0.016912   \n\n                    Sales   Nuclear  Fuel_Cost  \nCompany                                         \nArizona          0.001080 -0.016817  -0.020089  \nBoston          -0.025363  0.018639   0.019139  \nCentral          0.001975 -0.016817  -0.001893  \nCommonwealth    -0.016513  0.031252  -0.017042  \nConsolidated NY -0.037215  0.005045   0.039832  ",
      "text/html": "<div>\n<style scoped>\n    .dataframe tbody tr th:only-of-type {\n        vertical-align: middle;\n    }\n\n    .dataframe tbody tr th {\n        vertical-align: top;\n    }\n\n    .dataframe thead th {\n        text-align: right;\n    }\n</style>\n<table border=\"1\" class=\"dataframe\">\n  <thead>\n    <tr style=\"text-align: right;\">\n      <th></th>\n      <th>Fixed_charge</th>\n      <th>RoR</th>\n      <th>Cost</th>\n      <th>Load</th>\n      <th>D Demand</th>\n      <th>Sales</th>\n      <th>Nuclear</th>\n      <th>Fuel_Cost</th>\n    </tr>\n    <tr>\n      <th>Company</th>\n      <th></th>\n      <th></th>\n      <th></th>\n      <th></th>\n      <th></th>\n      <th></th>\n      <th></th>\n      <th></th>\n    </tr>\n  </thead>\n  <tbody>\n    <tr>\n      <th>Arizona</th>\n      <td>-0.006899</td>\n      <td>-0.016111</td>\n      <td>-0.009816</td>\n      <td>-0.013595</td>\n      <td>-0.012384</td>\n      <td>0.001080</td>\n      <td>-0.016817</td>\n      <td>-0.020089</td>\n    </tr>\n    <tr>\n      <th>Boston</th>\n      <td>-0.028581</td>\n      <td>-0.004576</td>\n      <td>0.019320</td>\n      <td>0.004867</td>\n      <td>-0.007855</td>\n      <td>-0.025363</td>\n      <td>0.018639</td>\n      <td>0.019139</td>\n    </tr>\n    <tr>\n      <th>Central</th>\n      <td>0.040291</td>\n      <td>0.048906</td>\n      <td>-0.031525</td>\n      <td>-0.020980</td>\n      <td>0.001201</td>\n      <td>0.001975</td>\n      <td>-0.016817</td>\n      <td>-0.001893</td>\n    </tr>\n    <tr>\n      <th>Commonwealth</th>\n      <td>-0.012000</td>\n      <td>0.004862</td>\n      <td>-0.000104</td>\n      <td>-0.005155</td>\n      <td>-0.022194</td>\n      <td>-0.016513</td>\n      <td>0.031252</td>\n      <td>-0.017042</td>\n    </tr>\n    <tr>\n      <th>Consolidated NY</th>\n      <td>0.047944</td>\n      <td>-0.020306</td>\n      <td>0.013607</td>\n      <td>-0.030475</td>\n      <td>-0.016912</td>\n      <td>-0.037215</td>\n      <td>0.005045</td>\n      <td>0.039832</td>\n    </tr>\n  </tbody>\n</table>\n</div>"
     },
     "execution_count": 13,
     "metadata": {},
     "output_type": "execute_result"
    }
   ],
   "source": [
    "(utilities_df_norm_p-utilities_df_norm_s).head()"
   ]
  },
  {
   "cell_type": "markdown",
   "metadata": {},
   "source": [
    "## Calculate the Distance Between the Closest Locations: Arizona and Commonwealth"
   ]
  },
  {
   "cell_type": "code",
   "execution_count": 14,
   "metadata": {
    "ExecuteTime": {
     "end_time": "2024-01-17T02:06:08.487721Z",
     "start_time": "2024-01-17T02:06:08.462045Z"
    }
   },
   "outputs": [],
   "source": [
    "def calculate_distance_btw_two_nodes(A,B):\n",
    "    result = ((((B[1] - A[1] )**2) +  \n",
    "          ((B[0] - A[0])**2) )**0.5)\n",
    "    print (round(result,2))"
   ]
  },
  {
   "cell_type": "code",
   "execution_count": 15,
   "metadata": {
    "scrolled": true,
    "ExecuteTime": {
     "end_time": "2024-01-17T02:06:11.051620Z",
     "start_time": "2024-01-17T02:06:11.026117Z"
    }
   },
   "outputs": [
    {
     "name": "stdout",
     "output_type": "stream",
     "text": [
      "0.76\n"
     ]
    }
   ],
   "source": [
    "calculate_distance_btw_two_nodes(utilities_df_norm_s.loc['Arizona',['Sales','Fuel_Cost']],\n",
    "                                 utilities_df_norm_s.loc['Commonwealth',['Sales','Fuel_Cost']])"
   ]
  },
  {
   "cell_type": "markdown",
   "metadata": {},
   "source": [
    "## Where is the Centroid?"
   ]
  },
  {
   "cell_type": "code",
   "execution_count": 18,
   "metadata": {
    "ExecuteTime": {
     "end_time": "2024-01-17T02:09:02.437905Z",
     "start_time": "2024-01-17T02:09:02.415006Z"
    }
   },
   "outputs": [
    {
     "data": {
      "text/plain": "                    Sales  Fuel_Cost\nCompany                             \nArizona          0.045903  -0.853675\nBoston          -1.077764   0.813297\nCentral          0.083931  -0.080431\nCommonwealth    -0.701706  -0.724202\nConsolidated NY -1.581428   1.692638",
      "text/html": "<div>\n<style scoped>\n    .dataframe tbody tr th:only-of-type {\n        vertical-align: middle;\n    }\n\n    .dataframe tbody tr th {\n        vertical-align: top;\n    }\n\n    .dataframe thead th {\n        text-align: right;\n    }\n</style>\n<table border=\"1\" class=\"dataframe\">\n  <thead>\n    <tr style=\"text-align: right;\">\n      <th></th>\n      <th>Sales</th>\n      <th>Fuel_Cost</th>\n    </tr>\n    <tr>\n      <th>Company</th>\n      <th></th>\n      <th></th>\n    </tr>\n  </thead>\n  <tbody>\n    <tr>\n      <th>Arizona</th>\n      <td>0.045903</td>\n      <td>-0.853675</td>\n    </tr>\n    <tr>\n      <th>Boston</th>\n      <td>-1.077764</td>\n      <td>0.813297</td>\n    </tr>\n    <tr>\n      <th>Central</th>\n      <td>0.083931</td>\n      <td>-0.080431</td>\n    </tr>\n    <tr>\n      <th>Commonwealth</th>\n      <td>-0.701706</td>\n      <td>-0.724202</td>\n    </tr>\n    <tr>\n      <th>Consolidated NY</th>\n      <td>-1.581428</td>\n      <td>1.692638</td>\n    </tr>\n  </tbody>\n</table>\n</div>"
     },
     "execution_count": 18,
     "metadata": {},
     "output_type": "execute_result"
    }
   ],
   "source": [
    "utilities_df_norm_s[[\"Sales\",\"Fuel_Cost\"]].head()"
   ]
  },
  {
   "cell_type": "markdown",
   "metadata": {},
   "source": [
    "#### Define clusters:"
   ]
  },
  {
   "cell_type": "code",
   "execution_count": 19,
   "metadata": {
    "ExecuteTime": {
     "end_time": "2024-01-17T02:09:04.102233Z",
     "start_time": "2024-01-17T02:09:04.076069Z"
    }
   },
   "outputs": [
    {
     "data": {
      "text/plain": "            Sales  Fuel_Cost\nCompany                     \nArizona  0.045903  -0.853675\nBoston  -1.077764   0.813297",
      "text/html": "<div>\n<style scoped>\n    .dataframe tbody tr th:only-of-type {\n        vertical-align: middle;\n    }\n\n    .dataframe tbody tr th {\n        vertical-align: top;\n    }\n\n    .dataframe thead th {\n        text-align: right;\n    }\n</style>\n<table border=\"1\" class=\"dataframe\">\n  <thead>\n    <tr style=\"text-align: right;\">\n      <th></th>\n      <th>Sales</th>\n      <th>Fuel_Cost</th>\n    </tr>\n    <tr>\n      <th>Company</th>\n      <th></th>\n      <th></th>\n    </tr>\n  </thead>\n  <tbody>\n    <tr>\n      <th>Arizona</th>\n      <td>0.045903</td>\n      <td>-0.853675</td>\n    </tr>\n    <tr>\n      <th>Boston</th>\n      <td>-1.077764</td>\n      <td>0.813297</td>\n    </tr>\n  </tbody>\n</table>\n</div>"
     },
     "execution_count": 19,
     "metadata": {},
     "output_type": "execute_result"
    }
   ],
   "source": [
    "df_clusterA = utilities_df_norm_s.loc[slice(\"Arizona\",\"Boston\"), [\"Sales\",\"Fuel_Cost\"]]\n",
    "df_clusterA"
   ]
  },
  {
   "cell_type": "code",
   "execution_count": 20,
   "metadata": {
    "ExecuteTime": {
     "end_time": "2024-01-17T02:09:09.077093Z",
     "start_time": "2024-01-17T02:09:09.055154Z"
    }
   },
   "outputs": [
    {
     "data": {
      "text/plain": "                    Sales  Fuel_Cost\nCompany                             \nCentral          0.083931  -0.080431\nConsolidated NY -1.581428   1.692638\nCommonwealth    -0.701706  -0.724202",
      "text/html": "<div>\n<style scoped>\n    .dataframe tbody tr th:only-of-type {\n        vertical-align: middle;\n    }\n\n    .dataframe tbody tr th {\n        vertical-align: top;\n    }\n\n    .dataframe thead th {\n        text-align: right;\n    }\n</style>\n<table border=\"1\" class=\"dataframe\">\n  <thead>\n    <tr style=\"text-align: right;\">\n      <th></th>\n      <th>Sales</th>\n      <th>Fuel_Cost</th>\n    </tr>\n    <tr>\n      <th>Company</th>\n      <th></th>\n      <th></th>\n    </tr>\n  </thead>\n  <tbody>\n    <tr>\n      <th>Central</th>\n      <td>0.083931</td>\n      <td>-0.080431</td>\n    </tr>\n    <tr>\n      <th>Consolidated NY</th>\n      <td>-1.581428</td>\n      <td>1.692638</td>\n    </tr>\n    <tr>\n      <th>Commonwealth</th>\n      <td>-0.701706</td>\n      <td>-0.724202</td>\n    </tr>\n  </tbody>\n</table>\n</div>"
     },
     "execution_count": 20,
     "metadata": {},
     "output_type": "execute_result"
    }
   ],
   "source": [
    "df_clusterB = utilities_df_norm_s.loc[[\"Central\",\"Consolidated NY\",\"Commonwealth\"], [\"Sales\",\"Fuel_Cost\"]]\n",
    "df_clusterB"
   ]
  },
  {
   "cell_type": "markdown",
   "metadata": {},
   "source": [
    "## Calculate the Distance Between Two Centroids\n",
    "#### UDF Calculation\n"
   ]
  },
  {
   "cell_type": "code",
   "execution_count": 21,
   "metadata": {
    "ExecuteTime": {
     "end_time": "2024-01-17T02:09:33.081704Z",
     "start_time": "2024-01-17T02:09:32.786780Z"
    }
   },
   "outputs": [],
   "source": [
    "from sklearn.cluster import KMeans"
   ]
  },
  {
   "cell_type": "code",
   "execution_count": 22,
   "metadata": {
    "ExecuteTime": {
     "end_time": "2024-01-17T02:09:44.392895Z",
     "start_time": "2024-01-17T02:09:44.145640Z"
    }
   },
   "outputs": [],
   "source": [
    "kmeansA = KMeans(n_clusters=1, n_init=20, random_state = 0).fit(df_clusterA)\n",
    "kmeansB = KMeans(n_clusters=1, n_init=20, random_state = 0).fit(df_clusterB)"
   ]
  },
  {
   "cell_type": "code",
   "execution_count": 23,
   "metadata": {
    "ExecuteTime": {
     "end_time": "2024-01-17T02:09:46.516218Z",
     "start_time": "2024-01-17T02:09:46.493369Z"
    }
   },
   "outputs": [
    {
     "name": "stdout",
     "output_type": "stream",
     "text": [
      "0.38\n"
     ]
    }
   ],
   "source": [
    "calculate_distance_btw_two_nodes(kmeansA.cluster_centers_[0],\n",
    "                                 kmeansB.cluster_centers_[0])"
   ]
  },
  {
   "cell_type": "markdown",
   "metadata": {},
   "source": [
    "#### Calculate Euclidean Distance Using Numpy"
   ]
  },
  {
   "cell_type": "code",
   "execution_count": 25,
   "metadata": {
    "ExecuteTime": {
     "end_time": "2024-01-17T02:10:29.985988Z",
     "start_time": "2024-01-17T02:10:29.980449Z"
    }
   },
   "outputs": [
    {
     "data": {
      "text/plain": "0.3835693236409804"
     },
     "execution_count": 25,
     "metadata": {},
     "output_type": "execute_result"
    }
   ],
   "source": [
    "import numpy as np\n",
    "dist = np.linalg.norm(kmeansA.cluster_centers_ - kmeansB.cluster_centers_)\n",
    "dist"
   ]
  },
  {
   "cell_type": "markdown",
   "metadata": {},
   "source": [
    "#### Calculate the Euclidean Distance Using pairwise.pairwise_distances"
   ]
  },
  {
   "cell_type": "code",
   "execution_count": 27,
   "metadata": {
    "ExecuteTime": {
     "end_time": "2024-01-17T02:11:47.002452Z",
     "start_time": "2024-01-17T02:11:46.987759Z"
    }
   },
   "outputs": [],
   "source": [
    "df = pd.DataFrame(kmeansA.cluster_centers_, columns = ['x','y'],index=['A'])\n",
    "df.loc['B']=kmeansB.cluster_centers_[0]"
   ]
  },
  {
   "cell_type": "code",
   "execution_count": 28,
   "metadata": {
    "ExecuteTime": {
     "end_time": "2024-01-17T02:11:47.554398Z",
     "start_time": "2024-01-17T02:11:47.537659Z"
    }
   },
   "outputs": [
    {
     "data": {
      "text/plain": "          A         B\nA  0.000000  0.383569\nB  0.383569  0.000000",
      "text/html": "<div>\n<style scoped>\n    .dataframe tbody tr th:only-of-type {\n        vertical-align: middle;\n    }\n\n    .dataframe tbody tr th {\n        vertical-align: top;\n    }\n\n    .dataframe thead th {\n        text-align: right;\n    }\n</style>\n<table border=\"1\" class=\"dataframe\">\n  <thead>\n    <tr style=\"text-align: right;\">\n      <th></th>\n      <th>A</th>\n      <th>B</th>\n    </tr>\n  </thead>\n  <tbody>\n    <tr>\n      <th>A</th>\n      <td>0.000000</td>\n      <td>0.383569</td>\n    </tr>\n    <tr>\n      <th>B</th>\n      <td>0.383569</td>\n      <td>0.000000</td>\n    </tr>\n  </tbody>\n</table>\n</div>"
     },
     "execution_count": 28,
     "metadata": {},
     "output_type": "execute_result"
    }
   ],
   "source": [
    "#compute Euclidean distance\n",
    "d = pairwise.pairwise_distances(df,metric='euclidean')\n",
    "euclidean = pd.DataFrame(d,columns = df.index, index=df.index)\n",
    "euclidean.head()"
   ]
  },
  {
   "cell_type": "markdown",
   "metadata": {},
   "source": [
    "#### Calculate the Euclidean Distance Using pairwise.paired_distances()\n",
    "metric can be “euclidean”, “manhattan”, or “cosine”."
   ]
  },
  {
   "cell_type": "code",
   "execution_count": 29,
   "metadata": {
    "ExecuteTime": {
     "end_time": "2024-01-17T02:11:49.479714Z",
     "start_time": "2024-01-17T02:11:49.474478Z"
    }
   },
   "outputs": [
    {
     "data": {
      "text/plain": "0.38"
     },
     "execution_count": 29,
     "metadata": {},
     "output_type": "execute_result"
    }
   ],
   "source": [
    "#compute Euclidean distance\n",
    "d = pairwise.paired_distances(kmeansA.cluster_centers_ ,\n",
    "                              kmeansB.cluster_centers_ ,\n",
    "                              metric='euclidean')\n",
    "round(d[0],2)"
   ]
  },
  {
   "cell_type": "markdown",
   "metadata": {},
   "source": [
    "> The eucledian distance between cluster A and cluster B is 0.38.\n",
    "\n",
    "---"
   ]
  },
  {
   "cell_type": "markdown",
   "metadata": {},
   "source": [
    "### Apply K-Means Algorithm \n",
    "\n",
    "use the normalized df from above, utilities_df_norm_p"
   ]
  },
  {
   "cell_type": "code",
   "execution_count": 30,
   "metadata": {
    "ExecuteTime": {
     "end_time": "2024-01-17T02:11:53.171995Z",
     "start_time": "2024-01-17T02:11:53.049014Z"
    }
   },
   "outputs": [
    {
     "name": "stdout",
     "output_type": "stream",
     "text": [
      "0 : Boston ,Hawaiian ,Kentucky ,New England ,Pacific ,United\n",
      "1 : Commonwealth ,Madison ,Northern ,Virginia ,Wisconsin\n",
      "2 : Arizona ,Central ,Florida ,Oklahoma ,Southern ,Texas\n",
      "3 : Idaho ,Nevada ,Puget\n",
      "4 : San Diego\n",
      "5 : Consolidated NY\n"
     ]
    }
   ],
   "source": [
    "kmeans = KMeans(n_clusters=6, n_init=20, random_state=0).fit(utilities_df_norm_p)\n",
    "memb = pd.Series(kmeans.labels_, index=utilities_df_norm_p.index)\n",
    "for key, item in memb.groupby(memb): print (key, ':', ' ,'.join(item.index))"
   ]
  },
  {
   "cell_type": "code",
   "execution_count": 31,
   "metadata": {
    "ExecuteTime": {
     "end_time": "2024-01-17T02:12:02.858064Z",
     "start_time": "2024-01-17T02:12:02.839994Z"
    }
   },
   "outputs": [
    {
     "data": {
      "text/plain": "   Fixed_charge    RoR   Cost   Load  D Demand  Sales  Nuclear  Fuel_Cost\n0        -0.097 -0.138  0.339  1.118    -0.041 -0.628   -0.465      0.879\n1        -0.012  0.339  0.224 -0.366     0.170 -0.411    1.602     -0.609\n2         0.393  0.759 -1.177 -0.534    -0.801  0.445   -0.503     -0.416\n3        -0.614 -0.853  1.370 -0.492     1.015  1.900   -0.731     -0.988\n4        -1.964 -1.978 -0.800  1.129     1.890 -0.923   -0.226      1.504\n5         2.085 -0.883  0.592 -1.325    -0.736 -1.619    0.219      1.732",
      "text/html": "<div>\n<style scoped>\n    .dataframe tbody tr th:only-of-type {\n        vertical-align: middle;\n    }\n\n    .dataframe tbody tr th {\n        vertical-align: top;\n    }\n\n    .dataframe thead th {\n        text-align: right;\n    }\n</style>\n<table border=\"1\" class=\"dataframe\">\n  <thead>\n    <tr style=\"text-align: right;\">\n      <th></th>\n      <th>Fixed_charge</th>\n      <th>RoR</th>\n      <th>Cost</th>\n      <th>Load</th>\n      <th>D Demand</th>\n      <th>Sales</th>\n      <th>Nuclear</th>\n      <th>Fuel_Cost</th>\n    </tr>\n  </thead>\n  <tbody>\n    <tr>\n      <th>0</th>\n      <td>-0.097</td>\n      <td>-0.138</td>\n      <td>0.339</td>\n      <td>1.118</td>\n      <td>-0.041</td>\n      <td>-0.628</td>\n      <td>-0.465</td>\n      <td>0.879</td>\n    </tr>\n    <tr>\n      <th>1</th>\n      <td>-0.012</td>\n      <td>0.339</td>\n      <td>0.224</td>\n      <td>-0.366</td>\n      <td>0.170</td>\n      <td>-0.411</td>\n      <td>1.602</td>\n      <td>-0.609</td>\n    </tr>\n    <tr>\n      <th>2</th>\n      <td>0.393</td>\n      <td>0.759</td>\n      <td>-1.177</td>\n      <td>-0.534</td>\n      <td>-0.801</td>\n      <td>0.445</td>\n      <td>-0.503</td>\n      <td>-0.416</td>\n    </tr>\n    <tr>\n      <th>3</th>\n      <td>-0.614</td>\n      <td>-0.853</td>\n      <td>1.370</td>\n      <td>-0.492</td>\n      <td>1.015</td>\n      <td>1.900</td>\n      <td>-0.731</td>\n      <td>-0.988</td>\n    </tr>\n    <tr>\n      <th>4</th>\n      <td>-1.964</td>\n      <td>-1.978</td>\n      <td>-0.800</td>\n      <td>1.129</td>\n      <td>1.890</td>\n      <td>-0.923</td>\n      <td>-0.226</td>\n      <td>1.504</td>\n    </tr>\n    <tr>\n      <th>5</th>\n      <td>2.085</td>\n      <td>-0.883</td>\n      <td>0.592</td>\n      <td>-1.325</td>\n      <td>-0.736</td>\n      <td>-1.619</td>\n      <td>0.219</td>\n      <td>1.732</td>\n    </tr>\n  </tbody>\n</table>\n</div>"
     },
     "execution_count": 31,
     "metadata": {},
     "output_type": "execute_result"
    }
   ],
   "source": [
    "centroids = pd.DataFrame(kmeans.cluster_centers_,columns=utilities_df_norm_p.columns)\n",
    "pd.options.display.float_format = '{:,.3f}'.format\n",
    "centroids"
   ]
  },
  {
   "cell_type": "code",
   "execution_count": 32,
   "metadata": {
    "ExecuteTime": {
     "end_time": "2024-01-17T02:12:20.006691Z",
     "start_time": "2024-01-17T02:12:19.791842Z"
    }
   },
   "outputs": [
    {
     "data": {
      "text/plain": "<pandas.io.formats.style.Styler at 0x14bc68ed0>",
      "text/html": "<style type=\"text/css\">\n#T_a486f_row0_col0, #T_a486f_row0_col1, #T_a486f_row0_col4, #T_a486f_row0_col5, #T_a486f_row0_col6, #T_a486f_row1_col0, #T_a486f_row1_col3, #T_a486f_row1_col5, #T_a486f_row1_col7, #T_a486f_row2_col2, #T_a486f_row2_col3, #T_a486f_row2_col4, #T_a486f_row2_col6, #T_a486f_row2_col7, #T_a486f_row3_col0, #T_a486f_row3_col1, #T_a486f_row3_col3, #T_a486f_row3_col6, #T_a486f_row3_col7, #T_a486f_row4_col0, #T_a486f_row4_col1, #T_a486f_row4_col2, #T_a486f_row4_col5, #T_a486f_row4_col6, #T_a486f_row5_col1, #T_a486f_row5_col3, #T_a486f_row5_col4, #T_a486f_row5_col5 {\n  background-color: white;\n}\n#T_a486f_row0_col2, #T_a486f_row0_col3, #T_a486f_row0_col7, #T_a486f_row1_col1, #T_a486f_row1_col2, #T_a486f_row1_col4, #T_a486f_row1_col6, #T_a486f_row2_col0, #T_a486f_row2_col1, #T_a486f_row2_col5, #T_a486f_row3_col2, #T_a486f_row3_col4, #T_a486f_row3_col5, #T_a486f_row4_col3, #T_a486f_row4_col4, #T_a486f_row4_col7, #T_a486f_row5_col0, #T_a486f_row5_col2, #T_a486f_row5_col6, #T_a486f_row5_col7 {\n  background-color: red;\n}\n</style>\n<table id=\"T_a486f\">\n  <thead>\n    <tr>\n      <th class=\"blank level0\" >&nbsp;</th>\n      <th id=\"T_a486f_level0_col0\" class=\"col_heading level0 col0\" >Fixed_charge</th>\n      <th id=\"T_a486f_level0_col1\" class=\"col_heading level0 col1\" >RoR</th>\n      <th id=\"T_a486f_level0_col2\" class=\"col_heading level0 col2\" >Cost</th>\n      <th id=\"T_a486f_level0_col3\" class=\"col_heading level0 col3\" >Load</th>\n      <th id=\"T_a486f_level0_col4\" class=\"col_heading level0 col4\" >D Demand</th>\n      <th id=\"T_a486f_level0_col5\" class=\"col_heading level0 col5\" >Sales</th>\n      <th id=\"T_a486f_level0_col6\" class=\"col_heading level0 col6\" >Nuclear</th>\n      <th id=\"T_a486f_level0_col7\" class=\"col_heading level0 col7\" >Fuel_Cost</th>\n    </tr>\n  </thead>\n  <tbody>\n    <tr>\n      <th id=\"T_a486f_level0_row0\" class=\"row_heading level0 row0\" >0</th>\n      <td id=\"T_a486f_row0_col0\" class=\"data row0 col0\" >-0.096657</td>\n      <td id=\"T_a486f_row0_col1\" class=\"data row0 col1\" >-0.138215</td>\n      <td id=\"T_a486f_row0_col2\" class=\"data row0 col2\" >0.339216</td>\n      <td id=\"T_a486f_row0_col3\" class=\"data row0 col3\" >1.117962</td>\n      <td id=\"T_a486f_row0_col4\" class=\"data row0 col4\" >-0.040781</td>\n      <td id=\"T_a486f_row0_col5\" class=\"data row0 col5\" >-0.628359</td>\n      <td id=\"T_a486f_row0_col6\" class=\"data row0 col6\" >-0.465281</td>\n      <td id=\"T_a486f_row0_col7\" class=\"data row0 col7\" >0.879063</td>\n    </tr>\n    <tr>\n      <th id=\"T_a486f_level0_row1\" class=\"row_heading level0 row1\" >1</th>\n      <td id=\"T_a486f_row1_col0\" class=\"data row1 col0\" >-0.011599</td>\n      <td id=\"T_a486f_row1_col1\" class=\"data row1 col1\" >0.339180</td>\n      <td id=\"T_a486f_row1_col2\" class=\"data row1 col2\" >0.224086</td>\n      <td id=\"T_a486f_row1_col3\" class=\"data row1 col3\" >-0.366466</td>\n      <td id=\"T_a486f_row1_col4\" class=\"data row1 col4\" >0.170386</td>\n      <td id=\"T_a486f_row1_col5\" class=\"data row1 col5\" >-0.411331</td>\n      <td id=\"T_a486f_row1_col6\" class=\"data row1 col6\" >1.601868</td>\n      <td id=\"T_a486f_row1_col7\" class=\"data row1 col7\" >-0.609460</td>\n    </tr>\n    <tr>\n      <th id=\"T_a486f_level0_row2\" class=\"row_heading level0 row2\" >2</th>\n      <td id=\"T_a486f_row2_col0\" class=\"data row2 col0\" >0.393352</td>\n      <td id=\"T_a486f_row2_col1\" class=\"data row2 col1\" >0.758801</td>\n      <td id=\"T_a486f_row2_col2\" class=\"data row2 col2\" >-1.176527</td>\n      <td id=\"T_a486f_row2_col3\" class=\"data row2 col3\" >-0.533952</td>\n      <td id=\"T_a486f_row2_col4\" class=\"data row2 col4\" >-0.801203</td>\n      <td id=\"T_a486f_row2_col5\" class=\"data row2 col5\" >0.444577</td>\n      <td id=\"T_a486f_row2_col6\" class=\"data row2 col6\" >-0.502869</td>\n      <td id=\"T_a486f_row2_col7\" class=\"data row2 col7\" >-0.416385</td>\n    </tr>\n    <tr>\n      <th id=\"T_a486f_level0_row3\" class=\"row_heading level0 row3\" >3</th>\n      <td id=\"T_a486f_row3_col0\" class=\"data row3 col0\" >-0.614402</td>\n      <td id=\"T_a486f_row3_col1\" class=\"data row3 col1\" >-0.852787</td>\n      <td id=\"T_a486f_row3_col2\" class=\"data row3 col2\" >1.370418</td>\n      <td id=\"T_a486f_row3_col3\" class=\"data row3 col3\" >-0.491890</td>\n      <td id=\"T_a486f_row3_col4\" class=\"data row3 col4\" >1.015056</td>\n      <td id=\"T_a486f_row3_col5\" class=\"data row3 col5\" >1.900210</td>\n      <td id=\"T_a486f_row3_col6\" class=\"data row3 col6\" >-0.731447</td>\n      <td id=\"T_a486f_row3_col7\" class=\"data row3 col7\" >-0.988493</td>\n    </tr>\n    <tr>\n      <th id=\"T_a486f_level0_row4\" class=\"row_heading level0 row4\" >4</th>\n      <td id=\"T_a486f_row4_col0\" class=\"data row4 col0\" >-1.964237</td>\n      <td id=\"T_a486f_row4_col1\" class=\"data row4 col1\" >-1.977857</td>\n      <td id=\"T_a486f_row4_col2\" class=\"data row4 col2\" >-0.799662</td>\n      <td id=\"T_a486f_row4_col3\" class=\"data row4 col3\" >1.129434</td>\n      <td id=\"T_a486f_row4_col4\" class=\"data row4 col4\" >1.890361</td>\n      <td id=\"T_a486f_row4_col5\" class=\"data row4 col5\" >-0.922638</td>\n      <td id=\"T_a486f_row4_col6\" class=\"data row4 col6\" >-0.225529</td>\n      <td id=\"T_a486f_row4_col7\" class=\"data row4 col7\" >1.504241</td>\n    </tr>\n    <tr>\n      <th id=\"T_a486f_level0_row5\" class=\"row_heading level0 row5\" >5</th>\n      <td id=\"T_a486f_row5_col0\" class=\"data row5 col0\" >2.085268</td>\n      <td id=\"T_a486f_row5_col1\" class=\"data row5 col1\" >-0.883194</td>\n      <td id=\"T_a486f_row5_col2\" class=\"data row5 col2\" >0.591840</td>\n      <td id=\"T_a486f_row5_col3\" class=\"data row5 col3\" >-1.325495</td>\n      <td id=\"T_a486f_row5_col4\" class=\"data row5 col4\" >-0.735555</td>\n      <td id=\"T_a486f_row5_col5\" class=\"data row5 col5\" >-1.618644</td>\n      <td id=\"T_a486f_row5_col6\" class=\"data row5 col6\" >0.219434</td>\n      <td id=\"T_a486f_row5_col7\" class=\"data row5 col7\" >1.732470</td>\n    </tr>\n  </tbody>\n</table>\n"
     },
     "execution_count": 32,
     "metadata": {},
     "output_type": "execute_result"
    }
   ],
   "source": [
    "centroids.style.applymap(lambda x: \"background-color: red\" if x>0 else \"background-color: white\")"
   ]
  },
  {
   "cell_type": "code",
   "execution_count": 149,
   "metadata": {},
   "outputs": [],
   "source": [
    "def _color_red_or_green(val):\n",
    "    color = 'red' if val < 0 else 'green'\n",
    "    return 'color: %s' % color"
   ]
  },
  {
   "cell_type": "code",
   "execution_count": 150,
   "metadata": {},
   "outputs": [
    {
     "data": {
      "text/html": [
       "<style type=\"text/css\">\n",
       "#T_8dcab_row0_col0, #T_8dcab_row0_col1, #T_8dcab_row0_col4, #T_8dcab_row0_col5, #T_8dcab_row0_col6, #T_8dcab_row1_col0, #T_8dcab_row1_col3, #T_8dcab_row1_col5, #T_8dcab_row1_col7, #T_8dcab_row2_col2, #T_8dcab_row2_col3, #T_8dcab_row2_col4, #T_8dcab_row2_col6, #T_8dcab_row2_col7, #T_8dcab_row3_col0, #T_8dcab_row3_col1, #T_8dcab_row3_col3, #T_8dcab_row3_col6, #T_8dcab_row3_col7, #T_8dcab_row4_col0, #T_8dcab_row4_col1, #T_8dcab_row4_col2, #T_8dcab_row4_col5, #T_8dcab_row4_col6, #T_8dcab_row5_col1, #T_8dcab_row5_col3, #T_8dcab_row5_col4, #T_8dcab_row5_col5 {\n",
       "  color: red;\n",
       "}\n",
       "#T_8dcab_row0_col2, #T_8dcab_row0_col3, #T_8dcab_row0_col7, #T_8dcab_row1_col1, #T_8dcab_row1_col2, #T_8dcab_row1_col4, #T_8dcab_row1_col6, #T_8dcab_row2_col0, #T_8dcab_row2_col1, #T_8dcab_row2_col5, #T_8dcab_row3_col2, #T_8dcab_row3_col4, #T_8dcab_row3_col5, #T_8dcab_row4_col3, #T_8dcab_row4_col4, #T_8dcab_row4_col7, #T_8dcab_row5_col0, #T_8dcab_row5_col2, #T_8dcab_row5_col6, #T_8dcab_row5_col7 {\n",
       "  color: green;\n",
       "}\n",
       "</style>\n",
       "<table id=\"T_8dcab\">\n",
       "  <thead>\n",
       "    <tr>\n",
       "      <th class=\"blank level0\" >&nbsp;</th>\n",
       "      <th id=\"T_8dcab_level0_col0\" class=\"col_heading level0 col0\" >Fixed_charge</th>\n",
       "      <th id=\"T_8dcab_level0_col1\" class=\"col_heading level0 col1\" >RoR</th>\n",
       "      <th id=\"T_8dcab_level0_col2\" class=\"col_heading level0 col2\" >Cost</th>\n",
       "      <th id=\"T_8dcab_level0_col3\" class=\"col_heading level0 col3\" >Load</th>\n",
       "      <th id=\"T_8dcab_level0_col4\" class=\"col_heading level0 col4\" >D Demand</th>\n",
       "      <th id=\"T_8dcab_level0_col5\" class=\"col_heading level0 col5\" >Sales</th>\n",
       "      <th id=\"T_8dcab_level0_col6\" class=\"col_heading level0 col6\" >Nuclear</th>\n",
       "      <th id=\"T_8dcab_level0_col7\" class=\"col_heading level0 col7\" >Fuel_Cost</th>\n",
       "    </tr>\n",
       "  </thead>\n",
       "  <tbody>\n",
       "    <tr>\n",
       "      <th id=\"T_8dcab_level0_row0\" class=\"row_heading level0 row0\" >0</th>\n",
       "      <td id=\"T_8dcab_row0_col0\" class=\"data row0 col0\" >-0.096657</td>\n",
       "      <td id=\"T_8dcab_row0_col1\" class=\"data row0 col1\" >-0.138215</td>\n",
       "      <td id=\"T_8dcab_row0_col2\" class=\"data row0 col2\" >0.339216</td>\n",
       "      <td id=\"T_8dcab_row0_col3\" class=\"data row0 col3\" >1.117962</td>\n",
       "      <td id=\"T_8dcab_row0_col4\" class=\"data row0 col4\" >-0.040781</td>\n",
       "      <td id=\"T_8dcab_row0_col5\" class=\"data row0 col5\" >-0.628359</td>\n",
       "      <td id=\"T_8dcab_row0_col6\" class=\"data row0 col6\" >-0.465281</td>\n",
       "      <td id=\"T_8dcab_row0_col7\" class=\"data row0 col7\" >0.879063</td>\n",
       "    </tr>\n",
       "    <tr>\n",
       "      <th id=\"T_8dcab_level0_row1\" class=\"row_heading level0 row1\" >1</th>\n",
       "      <td id=\"T_8dcab_row1_col0\" class=\"data row1 col0\" >-0.011599</td>\n",
       "      <td id=\"T_8dcab_row1_col1\" class=\"data row1 col1\" >0.339180</td>\n",
       "      <td id=\"T_8dcab_row1_col2\" class=\"data row1 col2\" >0.224086</td>\n",
       "      <td id=\"T_8dcab_row1_col3\" class=\"data row1 col3\" >-0.366466</td>\n",
       "      <td id=\"T_8dcab_row1_col4\" class=\"data row1 col4\" >0.170386</td>\n",
       "      <td id=\"T_8dcab_row1_col5\" class=\"data row1 col5\" >-0.411331</td>\n",
       "      <td id=\"T_8dcab_row1_col6\" class=\"data row1 col6\" >1.601868</td>\n",
       "      <td id=\"T_8dcab_row1_col7\" class=\"data row1 col7\" >-0.609460</td>\n",
       "    </tr>\n",
       "    <tr>\n",
       "      <th id=\"T_8dcab_level0_row2\" class=\"row_heading level0 row2\" >2</th>\n",
       "      <td id=\"T_8dcab_row2_col0\" class=\"data row2 col0\" >0.393352</td>\n",
       "      <td id=\"T_8dcab_row2_col1\" class=\"data row2 col1\" >0.758801</td>\n",
       "      <td id=\"T_8dcab_row2_col2\" class=\"data row2 col2\" >-1.176527</td>\n",
       "      <td id=\"T_8dcab_row2_col3\" class=\"data row2 col3\" >-0.533952</td>\n",
       "      <td id=\"T_8dcab_row2_col4\" class=\"data row2 col4\" >-0.801203</td>\n",
       "      <td id=\"T_8dcab_row2_col5\" class=\"data row2 col5\" >0.444577</td>\n",
       "      <td id=\"T_8dcab_row2_col6\" class=\"data row2 col6\" >-0.502869</td>\n",
       "      <td id=\"T_8dcab_row2_col7\" class=\"data row2 col7\" >-0.416385</td>\n",
       "    </tr>\n",
       "    <tr>\n",
       "      <th id=\"T_8dcab_level0_row3\" class=\"row_heading level0 row3\" >3</th>\n",
       "      <td id=\"T_8dcab_row3_col0\" class=\"data row3 col0\" >-0.614402</td>\n",
       "      <td id=\"T_8dcab_row3_col1\" class=\"data row3 col1\" >-0.852787</td>\n",
       "      <td id=\"T_8dcab_row3_col2\" class=\"data row3 col2\" >1.370418</td>\n",
       "      <td id=\"T_8dcab_row3_col3\" class=\"data row3 col3\" >-0.491890</td>\n",
       "      <td id=\"T_8dcab_row3_col4\" class=\"data row3 col4\" >1.015056</td>\n",
       "      <td id=\"T_8dcab_row3_col5\" class=\"data row3 col5\" >1.900210</td>\n",
       "      <td id=\"T_8dcab_row3_col6\" class=\"data row3 col6\" >-0.731447</td>\n",
       "      <td id=\"T_8dcab_row3_col7\" class=\"data row3 col7\" >-0.988493</td>\n",
       "    </tr>\n",
       "    <tr>\n",
       "      <th id=\"T_8dcab_level0_row4\" class=\"row_heading level0 row4\" >4</th>\n",
       "      <td id=\"T_8dcab_row4_col0\" class=\"data row4 col0\" >-1.964237</td>\n",
       "      <td id=\"T_8dcab_row4_col1\" class=\"data row4 col1\" >-1.977857</td>\n",
       "      <td id=\"T_8dcab_row4_col2\" class=\"data row4 col2\" >-0.799662</td>\n",
       "      <td id=\"T_8dcab_row4_col3\" class=\"data row4 col3\" >1.129434</td>\n",
       "      <td id=\"T_8dcab_row4_col4\" class=\"data row4 col4\" >1.890361</td>\n",
       "      <td id=\"T_8dcab_row4_col5\" class=\"data row4 col5\" >-0.922638</td>\n",
       "      <td id=\"T_8dcab_row4_col6\" class=\"data row4 col6\" >-0.225529</td>\n",
       "      <td id=\"T_8dcab_row4_col7\" class=\"data row4 col7\" >1.504241</td>\n",
       "    </tr>\n",
       "    <tr>\n",
       "      <th id=\"T_8dcab_level0_row5\" class=\"row_heading level0 row5\" >5</th>\n",
       "      <td id=\"T_8dcab_row5_col0\" class=\"data row5 col0\" >2.085268</td>\n",
       "      <td id=\"T_8dcab_row5_col1\" class=\"data row5 col1\" >-0.883194</td>\n",
       "      <td id=\"T_8dcab_row5_col2\" class=\"data row5 col2\" >0.591840</td>\n",
       "      <td id=\"T_8dcab_row5_col3\" class=\"data row5 col3\" >-1.325495</td>\n",
       "      <td id=\"T_8dcab_row5_col4\" class=\"data row5 col4\" >-0.735555</td>\n",
       "      <td id=\"T_8dcab_row5_col5\" class=\"data row5 col5\" >-1.618644</td>\n",
       "      <td id=\"T_8dcab_row5_col6\" class=\"data row5 col6\" >0.219434</td>\n",
       "      <td id=\"T_8dcab_row5_col7\" class=\"data row5 col7\" >1.732470</td>\n",
       "    </tr>\n",
       "  </tbody>\n",
       "</table>\n"
      ],
      "text/plain": [
       "<pandas.io.formats.style.Styler at 0x1439971f0>"
      ]
     },
     "execution_count": 150,
     "metadata": {},
     "output_type": "execute_result"
    }
   ],
   "source": [
    "centroids.style.applymap(_color_red_or_green)"
   ]
  },
  {
   "cell_type": "code",
   "execution_count": 167,
   "metadata": {},
   "outputs": [],
   "source": [
    "def special_settings(styler):\n",
    "    styler.set_caption(\"Cluster Centroids\")\n",
    "    styler.format(precision=2) \n",
    "    styler.background_gradient(axis=None, vmin=-2, vmax=2.1, cmap=\"YlGnBu\")\n",
    "    return styler"
   ]
  },
  {
   "cell_type": "code",
   "execution_count": 168,
   "metadata": {},
   "outputs": [
    {
     "data": {
      "text/html": [
       "<style type=\"text/css\">\n",
       "#T_7b32d_row0_col0 {\n",
       "  background-color: #53bdc1;\n",
       "  color: #000000;\n",
       "}\n",
       "#T_7b32d_row0_col1 {\n",
       "  background-color: #57bec1;\n",
       "  color: #000000;\n",
       "}\n",
       "#T_7b32d_row0_col2, #T_7b32d_row1_col1 {\n",
       "  background-color: #2ca1c2;\n",
       "  color: #f1f1f1;\n",
       "}\n",
       "#T_7b32d_row0_col3 {\n",
       "  background-color: #225aa6;\n",
       "  color: #f1f1f1;\n",
       "}\n",
       "#T_7b32d_row0_col4 {\n",
       "  background-color: #4cbac2;\n",
       "  color: #f1f1f1;\n",
       "}\n",
       "#T_7b32d_row0_col5 {\n",
       "  background-color: #97d6b9;\n",
       "  color: #000000;\n",
       "}\n",
       "#T_7b32d_row0_col6 {\n",
       "  background-color: #80cebb;\n",
       "  color: #000000;\n",
       "}\n",
       "#T_7b32d_row0_col7 {\n",
       "  background-color: #2072b1;\n",
       "  color: #f1f1f1;\n",
       "}\n",
       "#T_7b32d_row1_col0 {\n",
       "  background-color: #48b9c3;\n",
       "  color: #f1f1f1;\n",
       "}\n",
       "#T_7b32d_row1_col2, #T_7b32d_row5_col6 {\n",
       "  background-color: #35aac3;\n",
       "  color: #f1f1f1;\n",
       "}\n",
       "#T_7b32d_row1_col3 {\n",
       "  background-color: #75c9bd;\n",
       "  color: #000000;\n",
       "}\n",
       "#T_7b32d_row1_col4 {\n",
       "  background-color: #39adc3;\n",
       "  color: #f1f1f1;\n",
       "}\n",
       "#T_7b32d_row1_col5 {\n",
       "  background-color: #78cbbc;\n",
       "  color: #000000;\n",
       "}\n",
       "#T_7b32d_row1_col6 {\n",
       "  background-color: #243392;\n",
       "  color: #f1f1f1;\n",
       "}\n",
       "#T_7b32d_row1_col7, #T_7b32d_row3_col0 {\n",
       "  background-color: #95d5b9;\n",
       "  color: #000000;\n",
       "}\n",
       "#T_7b32d_row2_col0 {\n",
       "  background-color: #299dc1;\n",
       "  color: #f1f1f1;\n",
       "}\n",
       "#T_7b32d_row2_col1 {\n",
       "  background-color: #1f7db6;\n",
       "  color: #f1f1f1;\n",
       "}\n",
       "#T_7b32d_row2_col2 {\n",
       "  background-color: #d6efb3;\n",
       "  color: #000000;\n",
       "}\n",
       "#T_7b32d_row2_col3 {\n",
       "  background-color: #89d1ba;\n",
       "  color: #000000;\n",
       "}\n",
       "#T_7b32d_row2_col4, #T_7b32d_row4_col2 {\n",
       "  background-color: #b0e0b6;\n",
       "  color: #000000;\n",
       "}\n",
       "#T_7b32d_row2_col5 {\n",
       "  background-color: #259ac1;\n",
       "  color: #f1f1f1;\n",
       "}\n",
       "#T_7b32d_row2_col6 {\n",
       "  background-color: #85cfba;\n",
       "  color: #000000;\n",
       "}\n",
       "#T_7b32d_row2_col7 {\n",
       "  background-color: #7acbbc;\n",
       "  color: #000000;\n",
       "}\n",
       "#T_7b32d_row3_col1 {\n",
       "  background-color: #b7e3b6;\n",
       "  color: #000000;\n",
       "}\n",
       "#T_7b32d_row3_col2 {\n",
       "  background-color: #24459c;\n",
       "  color: #f1f1f1;\n",
       "}\n",
       "#T_7b32d_row3_col3 {\n",
       "  background-color: #83cebb;\n",
       "  color: #000000;\n",
       "}\n",
       "#T_7b32d_row3_col4 {\n",
       "  background-color: #2163aa;\n",
       "  color: #f1f1f1;\n",
       "}\n",
       "#T_7b32d_row3_col5 {\n",
       "  background-color: #13266f;\n",
       "  color: #f1f1f1;\n",
       "}\n",
       "#T_7b32d_row3_col6 {\n",
       "  background-color: #a5dcb7;\n",
       "  color: #000000;\n",
       "}\n",
       "#T_7b32d_row3_col7 {\n",
       "  background-color: #c8e9b4;\n",
       "  color: #000000;\n",
       "}\n",
       "#T_7b32d_row4_col0 {\n",
       "  background-color: #feffd6;\n",
       "  color: #000000;\n",
       "}\n",
       "#T_7b32d_row4_col1 {\n",
       "  background-color: #feffd8;\n",
       "  color: #000000;\n",
       "}\n",
       "#T_7b32d_row4_col3 {\n",
       "  background-color: #2259a6;\n",
       "  color: #f1f1f1;\n",
       "}\n",
       "#T_7b32d_row4_col4 {\n",
       "  background-color: #142670;\n",
       "  color: #f1f1f1;\n",
       "}\n",
       "#T_7b32d_row4_col5 {\n",
       "  background-color: #c0e6b5;\n",
       "  color: #000000;\n",
       "}\n",
       "#T_7b32d_row4_col6 {\n",
       "  background-color: #63c3bf;\n",
       "  color: #000000;\n",
       "}\n",
       "#T_7b32d_row4_col7 {\n",
       "  background-color: #253b97;\n",
       "  color: #f1f1f1;\n",
       "}\n",
       "#T_7b32d_row5_col0 {\n",
       "  background-color: #081d58;\n",
       "  color: #f1f1f1;\n",
       "}\n",
       "#T_7b32d_row5_col1 {\n",
       "  background-color: #bbe4b5;\n",
       "  color: #000000;\n",
       "}\n",
       "#T_7b32d_row5_col2 {\n",
       "  background-color: #1d8ebf;\n",
       "  color: #f1f1f1;\n",
       "}\n",
       "#T_7b32d_row5_col3 {\n",
       "  background-color: #e1f3b2;\n",
       "  color: #000000;\n",
       "}\n",
       "#T_7b32d_row5_col4 {\n",
       "  background-color: #a7dcb7;\n",
       "  color: #000000;\n",
       "}\n",
       "#T_7b32d_row5_col5 {\n",
       "  background-color: #f2fabc;\n",
       "  color: #000000;\n",
       "}\n",
       "#T_7b32d_row5_col7 {\n",
       "  background-color: #1c2d81;\n",
       "  color: #f1f1f1;\n",
       "}\n",
       "</style>\n",
       "<table id=\"T_7b32d\">\n",
       "  <caption>Cluster Centroids</caption>\n",
       "  <thead>\n",
       "    <tr>\n",
       "      <th class=\"blank level0\" >&nbsp;</th>\n",
       "      <th id=\"T_7b32d_level0_col0\" class=\"col_heading level0 col0\" >Fixed_charge</th>\n",
       "      <th id=\"T_7b32d_level0_col1\" class=\"col_heading level0 col1\" >RoR</th>\n",
       "      <th id=\"T_7b32d_level0_col2\" class=\"col_heading level0 col2\" >Cost</th>\n",
       "      <th id=\"T_7b32d_level0_col3\" class=\"col_heading level0 col3\" >Load</th>\n",
       "      <th id=\"T_7b32d_level0_col4\" class=\"col_heading level0 col4\" >D Demand</th>\n",
       "      <th id=\"T_7b32d_level0_col5\" class=\"col_heading level0 col5\" >Sales</th>\n",
       "      <th id=\"T_7b32d_level0_col6\" class=\"col_heading level0 col6\" >Nuclear</th>\n",
       "      <th id=\"T_7b32d_level0_col7\" class=\"col_heading level0 col7\" >Fuel_Cost</th>\n",
       "    </tr>\n",
       "  </thead>\n",
       "  <tbody>\n",
       "    <tr>\n",
       "      <th id=\"T_7b32d_level0_row0\" class=\"row_heading level0 row0\" >0</th>\n",
       "      <td id=\"T_7b32d_row0_col0\" class=\"data row0 col0\" >-0.10</td>\n",
       "      <td id=\"T_7b32d_row0_col1\" class=\"data row0 col1\" >-0.14</td>\n",
       "      <td id=\"T_7b32d_row0_col2\" class=\"data row0 col2\" >0.34</td>\n",
       "      <td id=\"T_7b32d_row0_col3\" class=\"data row0 col3\" >1.12</td>\n",
       "      <td id=\"T_7b32d_row0_col4\" class=\"data row0 col4\" >-0.04</td>\n",
       "      <td id=\"T_7b32d_row0_col5\" class=\"data row0 col5\" >-0.63</td>\n",
       "      <td id=\"T_7b32d_row0_col6\" class=\"data row0 col6\" >-0.47</td>\n",
       "      <td id=\"T_7b32d_row0_col7\" class=\"data row0 col7\" >0.88</td>\n",
       "    </tr>\n",
       "    <tr>\n",
       "      <th id=\"T_7b32d_level0_row1\" class=\"row_heading level0 row1\" >1</th>\n",
       "      <td id=\"T_7b32d_row1_col0\" class=\"data row1 col0\" >-0.01</td>\n",
       "      <td id=\"T_7b32d_row1_col1\" class=\"data row1 col1\" >0.34</td>\n",
       "      <td id=\"T_7b32d_row1_col2\" class=\"data row1 col2\" >0.22</td>\n",
       "      <td id=\"T_7b32d_row1_col3\" class=\"data row1 col3\" >-0.37</td>\n",
       "      <td id=\"T_7b32d_row1_col4\" class=\"data row1 col4\" >0.17</td>\n",
       "      <td id=\"T_7b32d_row1_col5\" class=\"data row1 col5\" >-0.41</td>\n",
       "      <td id=\"T_7b32d_row1_col6\" class=\"data row1 col6\" >1.60</td>\n",
       "      <td id=\"T_7b32d_row1_col7\" class=\"data row1 col7\" >-0.61</td>\n",
       "    </tr>\n",
       "    <tr>\n",
       "      <th id=\"T_7b32d_level0_row2\" class=\"row_heading level0 row2\" >2</th>\n",
       "      <td id=\"T_7b32d_row2_col0\" class=\"data row2 col0\" >0.39</td>\n",
       "      <td id=\"T_7b32d_row2_col1\" class=\"data row2 col1\" >0.76</td>\n",
       "      <td id=\"T_7b32d_row2_col2\" class=\"data row2 col2\" >-1.18</td>\n",
       "      <td id=\"T_7b32d_row2_col3\" class=\"data row2 col3\" >-0.53</td>\n",
       "      <td id=\"T_7b32d_row2_col4\" class=\"data row2 col4\" >-0.80</td>\n",
       "      <td id=\"T_7b32d_row2_col5\" class=\"data row2 col5\" >0.44</td>\n",
       "      <td id=\"T_7b32d_row2_col6\" class=\"data row2 col6\" >-0.50</td>\n",
       "      <td id=\"T_7b32d_row2_col7\" class=\"data row2 col7\" >-0.42</td>\n",
       "    </tr>\n",
       "    <tr>\n",
       "      <th id=\"T_7b32d_level0_row3\" class=\"row_heading level0 row3\" >3</th>\n",
       "      <td id=\"T_7b32d_row3_col0\" class=\"data row3 col0\" >-0.61</td>\n",
       "      <td id=\"T_7b32d_row3_col1\" class=\"data row3 col1\" >-0.85</td>\n",
       "      <td id=\"T_7b32d_row3_col2\" class=\"data row3 col2\" >1.37</td>\n",
       "      <td id=\"T_7b32d_row3_col3\" class=\"data row3 col3\" >-0.49</td>\n",
       "      <td id=\"T_7b32d_row3_col4\" class=\"data row3 col4\" >1.02</td>\n",
       "      <td id=\"T_7b32d_row3_col5\" class=\"data row3 col5\" >1.90</td>\n",
       "      <td id=\"T_7b32d_row3_col6\" class=\"data row3 col6\" >-0.73</td>\n",
       "      <td id=\"T_7b32d_row3_col7\" class=\"data row3 col7\" >-0.99</td>\n",
       "    </tr>\n",
       "    <tr>\n",
       "      <th id=\"T_7b32d_level0_row4\" class=\"row_heading level0 row4\" >4</th>\n",
       "      <td id=\"T_7b32d_row4_col0\" class=\"data row4 col0\" >-1.96</td>\n",
       "      <td id=\"T_7b32d_row4_col1\" class=\"data row4 col1\" >-1.98</td>\n",
       "      <td id=\"T_7b32d_row4_col2\" class=\"data row4 col2\" >-0.80</td>\n",
       "      <td id=\"T_7b32d_row4_col3\" class=\"data row4 col3\" >1.13</td>\n",
       "      <td id=\"T_7b32d_row4_col4\" class=\"data row4 col4\" >1.89</td>\n",
       "      <td id=\"T_7b32d_row4_col5\" class=\"data row4 col5\" >-0.92</td>\n",
       "      <td id=\"T_7b32d_row4_col6\" class=\"data row4 col6\" >-0.23</td>\n",
       "      <td id=\"T_7b32d_row4_col7\" class=\"data row4 col7\" >1.50</td>\n",
       "    </tr>\n",
       "    <tr>\n",
       "      <th id=\"T_7b32d_level0_row5\" class=\"row_heading level0 row5\" >5</th>\n",
       "      <td id=\"T_7b32d_row5_col0\" class=\"data row5 col0\" >2.09</td>\n",
       "      <td id=\"T_7b32d_row5_col1\" class=\"data row5 col1\" >-0.88</td>\n",
       "      <td id=\"T_7b32d_row5_col2\" class=\"data row5 col2\" >0.59</td>\n",
       "      <td id=\"T_7b32d_row5_col3\" class=\"data row5 col3\" >-1.33</td>\n",
       "      <td id=\"T_7b32d_row5_col4\" class=\"data row5 col4\" >-0.74</td>\n",
       "      <td id=\"T_7b32d_row5_col5\" class=\"data row5 col5\" >-1.62</td>\n",
       "      <td id=\"T_7b32d_row5_col6\" class=\"data row5 col6\" >0.22</td>\n",
       "      <td id=\"T_7b32d_row5_col7\" class=\"data row5 col7\" >1.73</td>\n",
       "    </tr>\n",
       "  </tbody>\n",
       "</table>\n"
      ],
      "text/plain": [
       "<pandas.io.formats.style.Styler at 0x1439fce50>"
      ]
     },
     "execution_count": 168,
     "metadata": {},
     "output_type": "execute_result"
    }
   ],
   "source": [
    "centroids.style.pipe(special_settings)"
   ]
  },
  {
   "cell_type": "code",
   "execution_count": 170,
   "metadata": {},
   "outputs": [],
   "source": [
    "#### ** complete!! **"
   ]
  }
 ],
 "metadata": {
  "kernelspec": {
   "display_name": "Python 3 (ipykernel)",
   "language": "python",
   "name": "python3"
  },
  "language_info": {
   "codemirror_mode": {
    "name": "ipython",
    "version": 3
   },
   "file_extension": ".py",
   "mimetype": "text/x-python",
   "name": "python",
   "nbconvert_exporter": "python",
   "pygments_lexer": "ipython3",
   "version": "3.10.13"
  }
 },
 "nbformat": 4,
 "nbformat_minor": 4
}
