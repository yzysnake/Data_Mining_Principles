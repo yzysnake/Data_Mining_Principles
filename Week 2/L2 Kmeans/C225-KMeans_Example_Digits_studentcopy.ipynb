{
 "cells": [
  {
   "cell_type": "markdown",
   "metadata": {},
   "source": [
    "# K-Means \n",
    "\n",
    "## Can you identify similar handwritten digits?\n",
    "\n",
    "metadata: https://archive.ics.uci.edu/ml/datasets/optical+recognition+of+handwritten+digits"
   ]
  },
  {
   "cell_type": "code",
   "execution_count": 2,
   "metadata": {
    "ExecuteTime": {
     "end_time": "2024-01-17T02:20:31.458740Z",
     "start_time": "2024-01-17T02:20:31.443845Z"
    }
   },
   "outputs": [],
   "source": [
    "import matplotlib.pyplot as plt\n",
    "from sklearn.cluster import KMeans"
   ]
  },
  {
   "cell_type": "code",
   "execution_count": 6,
   "metadata": {
    "ExecuteTime": {
     "end_time": "2024-01-17T02:23:04.392765Z",
     "start_time": "2024-01-17T02:23:04.363187Z"
    }
   },
   "outputs": [],
   "source": [
    "from sklearn.datasets import load_digits\n",
    "import pandas as pd\n",
    "digits = load_digits()"
   ]
  },
  {
   "cell_type": "markdown",
   "metadata": {},
   "source": [
    "Make use of the digits.data (X) and digits.target (y) components of the dataset."
   ]
  },
  {
   "cell_type": "markdown",
   "metadata": {},
   "source": [
    "#### Question 1: What is the shape of the data?"
   ]
  },
  {
   "cell_type": "code",
   "execution_count": 9,
   "metadata": {
    "ExecuteTime": {
     "end_time": "2024-01-17T02:26:35.185075Z",
     "start_time": "2024-01-17T02:26:35.108087Z"
    }
   },
   "outputs": [
    {
     "name": "stdout",
     "output_type": "stream",
     "text": [
      "Shape of the data: (1797, 65)\n"
     ]
    },
    {
     "data": {
      "text/plain": "     0    1    2     3    4    5    6    7    8    9  ...   55   56   57   58  \\\n0  0.0  0.0  5.0  13.0  9.0  1.0  0.0  0.0  0.0  0.0  ...  0.0  0.0  0.0  6.0   \n\n     59    60   61   62   63  target  \n0  13.0  10.0  0.0  0.0  0.0       0  \n\n[1 rows x 65 columns]",
      "text/html": "<div>\n<style scoped>\n    .dataframe tbody tr th:only-of-type {\n        vertical-align: middle;\n    }\n\n    .dataframe tbody tr th {\n        vertical-align: top;\n    }\n\n    .dataframe thead th {\n        text-align: right;\n    }\n</style>\n<table border=\"1\" class=\"dataframe\">\n  <thead>\n    <tr style=\"text-align: right;\">\n      <th></th>\n      <th>0</th>\n      <th>1</th>\n      <th>2</th>\n      <th>3</th>\n      <th>4</th>\n      <th>5</th>\n      <th>6</th>\n      <th>7</th>\n      <th>8</th>\n      <th>9</th>\n      <th>...</th>\n      <th>55</th>\n      <th>56</th>\n      <th>57</th>\n      <th>58</th>\n      <th>59</th>\n      <th>60</th>\n      <th>61</th>\n      <th>62</th>\n      <th>63</th>\n      <th>target</th>\n    </tr>\n  </thead>\n  <tbody>\n    <tr>\n      <th>0</th>\n      <td>0.0</td>\n      <td>0.0</td>\n      <td>5.0</td>\n      <td>13.0</td>\n      <td>9.0</td>\n      <td>1.0</td>\n      <td>0.0</td>\n      <td>0.0</td>\n      <td>0.0</td>\n      <td>0.0</td>\n      <td>...</td>\n      <td>0.0</td>\n      <td>0.0</td>\n      <td>0.0</td>\n      <td>6.0</td>\n      <td>13.0</td>\n      <td>10.0</td>\n      <td>0.0</td>\n      <td>0.0</td>\n      <td>0.0</td>\n      <td>0</td>\n    </tr>\n  </tbody>\n</table>\n<p>1 rows × 65 columns</p>\n</div>"
     },
     "execution_count": 9,
     "metadata": {},
     "output_type": "execute_result"
    }
   ],
   "source": [
    "# add your code here\n",
    "# Create a DataFrame with the data\n",
    "df = pd.DataFrame(digits.data)\n",
    "\n",
    "# Add the target column to the DataFrame\n",
    "df['target'] = digits.target\n",
    "\n",
    "# Get the shape of the DataFrame\n",
    "shape = df.shape\n",
    "\n",
    "print(\"Shape of the data:\", shape)\n",
    "\n",
    "df.head(1)"
   ]
  },
  {
   "cell_type": "markdown",
   "metadata": {},
   "source": [
    "The data has 64 features, and we have 1797 observations to build our model with. "
   ]
  },
  {
   "cell_type": "markdown",
   "metadata": {},
   "source": [
    "#### Question 2: What does the first observation look like?"
   ]
  },
  {
   "cell_type": "code",
   "execution_count": 10,
   "metadata": {
    "ExecuteTime": {
     "end_time": "2024-01-17T02:28:48.968635Z",
     "start_time": "2024-01-17T02:28:48.938068Z"
    }
   },
   "outputs": [],
   "source": [
    "# add your code here\n"
   ]
  },
  {
   "cell_type": "markdown",
   "metadata": {},
   "source": [
    "Here is how the target feature looks like:"
   ]
  },
  {
   "cell_type": "code",
   "execution_count": 11,
   "metadata": {
    "ExecuteTime": {
     "end_time": "2024-01-17T02:28:50.202608Z",
     "start_time": "2024-01-17T02:28:50.141785Z"
    }
   },
   "outputs": [
    {
     "data": {
      "text/plain": "array([0, 1, 2, 3, 4, 5, 6, 7, 8, 9])"
     },
     "execution_count": 11,
     "metadata": {},
     "output_type": "execute_result"
    }
   ],
   "source": [
    "digits.target[:10]"
   ]
  },
  {
   "cell_type": "code",
   "execution_count": 12,
   "metadata": {
    "ExecuteTime": {
     "end_time": "2024-01-17T02:29:07.233280Z",
     "start_time": "2024-01-17T02:29:07.207770Z"
    }
   },
   "outputs": [
    {
     "data": {
      "text/plain": "{0, 1, 2, 3, 4, 5, 6, 7, 8, 9}"
     },
     "execution_count": 12,
     "metadata": {},
     "output_type": "execute_result"
    }
   ],
   "source": [
    "# what are the distinct target classes?\n",
    "set(digits.target)"
   ]
  },
  {
   "cell_type": "markdown",
   "metadata": {},
   "source": [
    "Let's take a look at some examples of these images:"
   ]
  },
  {
   "cell_type": "code",
   "execution_count": 13,
   "metadata": {
    "ExecuteTime": {
     "end_time": "2024-01-17T02:29:12.893766Z",
     "start_time": "2024-01-17T02:29:10.455697Z"
    }
   },
   "outputs": [
    {
     "data": {
      "text/plain": "<Figure size 800x200 with 20 Axes>",
      "image/png": "[encoded data removed]"
     },
     "metadata": {},
     "output_type": "display_data"
    }
   ],
   "source": [
    "fig, axs = plt.subplots(nrows=1, ncols=20, figsize=(8, 2))\n",
    "for i,ax in enumerate(axs):\n",
    "    ax.imshow(digits.data[i].reshape((8, 8)), cmap=plt.cm.binary)\n",
    "    ax.axis(\"off\")\n",
    "_ = fig.suptitle(\"First 20 of the 64-dimensional digits dataset\", fontsize=16)"
   ]
  },
  {
   "cell_type": "markdown",
   "metadata": {},
   "source": [
    "#### Question 3: Create a KMeans model with 10 clusters, use random_state=0, n_init = 20"
   ]
  },
  {
   "cell_type": "code",
   "execution_count": 14,
   "metadata": {
    "ExecuteTime": {
     "end_time": "2024-01-17T02:31:55.395230Z",
     "start_time": "2024-01-17T02:31:54.233444Z"
    }
   },
   "outputs": [],
   "source": [
    "\n",
    "# Load the dataset\n",
    "digits = load_digits()\n",
    "\n",
    "# Create a DataFrame with the data\n",
    "data = pd.DataFrame(digits.data)\n",
    "\n",
    "# Create a KMeans model\n",
    "kmeans = KMeans(n_clusters=10, random_state=0, n_init=20)\n",
    "\n",
    "# Fit the model to the data\n",
    "kmeans.fit(data)\n",
    "\n",
    "# Predict the cluster for each data point\n",
    "predictions = kmeans.predict(data)"
   ]
  },
  {
   "cell_type": "code",
   "execution_count": 15,
   "metadata": {
    "ExecuteTime": {
     "end_time": "2024-01-17T02:31:57.796370Z",
     "start_time": "2024-01-17T02:31:57.774099Z"
    }
   },
   "outputs": [
    {
     "data": {
      "text/plain": "(10, 64)"
     },
     "execution_count": 15,
     "metadata": {},
     "output_type": "execute_result"
    }
   ],
   "source": [
    "# what is the shape of cluster centers?\n",
    "kmeans.cluster_centers_.shape"
   ]
  },
  {
   "cell_type": "markdown",
   "metadata": {},
   "source": [
    "**KMeans algorithm created 10 clusters, which numbers are assigned to which cluster?**\n",
    "\n",
    "In our digits example, let's review the cluster assignments and compare with the true labels. The question we are answering is not whether clustering algorithm is able to cluster (group) all images of 1's to cluster 1. We are after whether clustering algorithm was able to group all images of 1's into the same cluster.\n",
    "\n",
    "We can use accuracy_score for validation since we know the true labels in this example, however pre-processing the cluster assignments to the true groups is required. In clustering, the decision is grouping similar items, and not the cluster number assignment, hence the kmeans labels won't match the true groups. We will also check the adjusted_rand_score, Adjusted Rand Index (ARI) after the preprocessing."
   ]
  },
  {
   "cell_type": "code",
   "execution_count": 17,
   "metadata": {
    "ExecuteTime": {
     "end_time": "2024-01-17T02:43:11.277824Z",
     "start_time": "2024-01-17T02:43:11.232561Z"
    }
   },
   "outputs": [
    {
     "ename": "TypeError",
     "evalue": "'KMeans' object is not iterable",
     "output_type": "error",
     "traceback": [
      "\u001B[0;31m---------------------------------------------------------------------------\u001B[0m",
      "\u001B[0;31mTypeError\u001B[0m                                 Traceback (most recent call last)",
      "Cell \u001B[0;32mIn[17], line 2\u001B[0m\n\u001B[1;32m      1\u001B[0m \u001B[38;5;66;03m# there are 10 clusters\u001B[39;00m\n\u001B[0;32m----> 2\u001B[0m \u001B[38;5;28mset\u001B[39m(kmeans)\n",
      "\u001B[0;31mTypeError\u001B[0m: 'KMeans' object is not iterable"
     ]
    }
   ],
   "source": [
    "# there are 10 clusters\n",
    "set()"
   ]
  },
  {
   "cell_type": "code",
   "execution_count": null,
   "metadata": {},
   "outputs": [],
   "source": [
    "# here is list of first 10 cluster assignments \n",
    "# (0th observation is assigned to cluster 0 in my version)\n",
    "# (1st observation is assigned to cluster 2)\n",
    "clusters[:10]"
   ]
  },
  {
   "cell_type": "code",
   "execution_count": null,
   "metadata": {},
   "outputs": [],
   "source": [
    "# we can check the true value of the 0th observation and find out which numbers are in cluster 5 \n",
    "digits.target[0],digits.target[clusters==5]"
   ]
  },
  {
   "cell_type": "markdown",
   "metadata": {},
   "source": [
    "we see that 0th record is a 0, and it is classified in cluster 5.\n",
    "when checking what other numbers are classified into cluster 5, we see a 2 and a 6. these two were incorrecly classified as similar to 0s, and assigned to the cluster 5. "
   ]
  },
  {
   "cell_type": "code",
   "execution_count": null,
   "metadata": {},
   "outputs": [],
   "source": [
    "from scipy.stats import mode\n",
    "for i in range(10):\n",
    "    print ('Cluster {} refers to digit {}s'.format(i,mode(digits.target[clusters==i])[0][0]))"
   ]
  },
  {
   "cell_type": "markdown",
   "metadata": {},
   "source": [
    "Since we have the target labels, we can check the accuracy score of our model."
   ]
  },
  {
   "cell_type": "code",
   "execution_count": null,
   "metadata": {},
   "outputs": [],
   "source": [
    "# mapping the labels correctly, using the logic above.\n",
    "from scipy.stats import mode\n",
    "import numpy as np\n",
    "labels = np.zeros_like(clusters)\n",
    "for i in range(10):\n",
    "    mask = (clusters == i)\n",
    "    labels[mask] = mode(digits.target[mask])[0]"
   ]
  },
  {
   "cell_type": "code",
   "execution_count": null,
   "metadata": {},
   "outputs": [],
   "source": [
    "from sklearn.metrics import accuracy_score\n",
    "accuracy_score(digits.target, labels)"
   ]
  },
  {
   "cell_type": "markdown",
   "metadata": {},
   "source": [
    "We have about 80% accurate model. Check out the confusion matrix to see where the model is making mistakes, and where it is doing a great job.  "
   ]
  },
  {
   "cell_type": "markdown",
   "metadata": {},
   "source": [
    "#### Question 4: How do you calculate the confusion matrix?"
   ]
  },
  {
   "cell_type": "code",
   "execution_count": null,
   "metadata": {},
   "outputs": [],
   "source": [
    "# add your code here\n",
    "from sklearn.metrics import confusion_matrix\n",
    "mat = confusion_matrix(  ____        )# confusion matrix"
   ]
  },
  {
   "cell_type": "markdown",
   "metadata": {},
   "source": [
    "Best way to observe a confusion matrix is by calling in a heatmap!"
   ]
  },
  {
   "cell_type": "code",
   "execution_count": null,
   "metadata": {},
   "outputs": [],
   "source": [
    "import seaborn as sns\n",
    "sns.heatmap(mat.T, square=True, annot=True, \n",
    "            xticklabels=digits.target_names,\n",
    "            yticklabels=digits.target_names)\n",
    "plt.xlabel('true label')\n",
    "plt.ylabel('predicted label');"
   ]
  },
  {
   "cell_type": "markdown",
   "metadata": {
    "jp-MarkdownHeadingCollapsed": true
   },
   "source": [
    "Since we have the labels, we can as well create the classification report to see rest of the metrics. "
   ]
  },
  {
   "cell_type": "markdown",
   "metadata": {},
   "source": [
    "#### Question 5: How do you calculate the classification report? Print and review the numbers!"
   ]
  },
  {
   "cell_type": "code",
   "execution_count": null,
   "metadata": {},
   "outputs": [],
   "source": [
    "# add your code here\n",
    "from ....\n",
    "print()           # classification report"
   ]
  },
  {
   "cell_type": "markdown",
   "metadata": {},
   "source": [
    "---\n",
    "#### Would normalizing the data help? Testing normalization:"
   ]
  },
  {
   "cell_type": "code",
   "execution_count": null,
   "metadata": {},
   "outputs": [],
   "source": [
    "from sklearn.preprocessing import MinMaxScaler, StandardScaler,RobustScaler,Normalizer"
   ]
  },
  {
   "cell_type": "code",
   "execution_count": null,
   "metadata": {},
   "outputs": [],
   "source": [
    "def run_kmeans(scaled):\n",
    "    kmeans = KMeans(n_clusters=10, random_state=0)\n",
    "    clusters = kmeans.fit_predict(scaled)\n",
    "    labels = np.zeros_like(clusters)\n",
    "    for i in range(10): labels[clusters == i] = mode(digits.target[clusters == i])[0]\n",
    "    print (accuracy_score(digits.target, labels))"
   ]
  },
  {
   "cell_type": "code",
   "execution_count": null,
   "metadata": {},
   "outputs": [],
   "source": [
    "# calculates the mean and standard deviation of the data set and normalizes it by \n",
    "# subtracting the mean and dividing by standard deviation\n",
    "# sensitive to outliers\n",
    "scaler = StandardScaler()\n",
    "scaled = scaler.fit_transform(digits.data)\n",
    "run_kmeans(scaled)"
   ]
  },
  {
   "cell_type": "code",
   "execution_count": null,
   "metadata": {},
   "outputs": [],
   "source": [
    "# similar to StandardScalar, but is applied on rows instead of columns\n",
    "scaler = Normalizer()\n",
    "scaled = scaler.fit_transform(digits.data)\n",
    "run_kmeans(scaled)"
   ]
  },
  {
   "cell_type": "code",
   "execution_count": null,
   "metadata": {},
   "outputs": [],
   "source": [
    "# removes median and scales the data according to the quantile range \n",
    "# IQR: Interquartile Range, default is 25th and 75th\n",
    "# handles outliers, skewness well\n",
    "# doesn't consider mean or median\n",
    "scaler = RobustScaler()\n",
    "scaled = scaler.fit_transform(digits.data)\n",
    "run_kmeans(scaled)"
   ]
  },
  {
   "cell_type": "code",
   "execution_count": null,
   "metadata": {},
   "outputs": [],
   "source": [
    "# scales the data set between 0 and 1\n",
    "# sensitive to outliers\n",
    "# use if zero mean and unit variance should be avoided\n",
    "scaler = MinMaxScaler()\n",
    "scaled = scaler.fit_transform(digits.data)\n",
    "run_kmeans(scaled)"
   ]
  },
  {
   "cell_type": "markdown",
   "metadata": {},
   "source": [
    "#### Question 6: How do we choose k? Using average within cluster squared distances! \n",
    "Test k in range (1,15) and use inertia to select k.\n",
    "Create an elbow graph and interpret the graph."
   ]
  },
  {
   "cell_type": "code",
   "execution_count": null,
   "metadata": {},
   "outputs": [],
   "source": [
    "# your code here"
   ]
  },
  {
   "cell_type": "markdown",
   "metadata": {},
   "source": [
    "#### Question 7: Discuss cluster separation: distance between clusters"
   ]
  },
  {
   "cell_type": "code",
   "execution_count": null,
   "metadata": {},
   "outputs": [],
   "source": [
    "# your code here\n",
    "kmeans =  \n",
    "mat = "
   ]
  },
  {
   "cell_type": "code",
   "execution_count": null,
   "metadata": {},
   "outputs": [],
   "source": [
    "sns.heatmap(mat.T, square=True, annot=True,\n",
    "            xticklabels=digits.target_names,\n",
    "            yticklabels=digits.target_names)\n",
    "plt.xlabel('true label')\n",
    "plt.ylabel('predicted label');"
   ]
  },
  {
   "cell_type": "markdown",
   "metadata": {},
   "source": [
    "#### Question 8: Calculate silhouette score, and plot\n",
    "\n",
    "The silhouette score computes the compactness of a cluster, where higher is better, with a perfect score of 1. While compact clusters are good, compactness doesn’t allow for complex shapes. Use caution when usign the silhouette score!"
   ]
  },
  {
   "cell_type": "code",
   "execution_count": null,
   "metadata": {},
   "outputs": [],
   "source": [
    "# your code here"
   ]
  },
  {
   "cell_type": "code",
   "execution_count": null,
   "metadata": {},
   "outputs": [],
   "source": [
    "for k in range(2, 15):\n",
    "    # your code here \n",
    "\n",
    "plt.style.use(\"fivethirtyeight\")\n",
    "plt.plot(range(2, 15), silhouette_coefficients)\n",
    "plt.xticks(range(2, 15))\n",
    "plt.xlabel(\"Number of Clusters\")\n",
    "plt.ylabel(\"Silhouette Coefficient\")\n",
    "plt.show()"
   ]
  },
  {
   "cell_type": "markdown",
   "metadata": {},
   "source": [
    "#### Question 9: Calculate the Adjusted Rand Index (since we know the actual labels)"
   ]
  },
  {
   "cell_type": "code",
   "execution_count": null,
   "metadata": {},
   "outputs": [],
   "source": [
    "# your code here\n",
    "\n"
   ]
  },
  {
   "cell_type": "markdown",
   "metadata": {},
   "source": [
    "#### Question 10: What does the ARI score mean?"
   ]
  },
  {
   "cell_type": "code",
   "execution_count": null,
   "metadata": {},
   "outputs": [],
   "source": [
    "# your comments here\n",
    "\n"
   ]
  },
  {
   "cell_type": "code",
   "execution_count": 1,
   "metadata": {},
   "outputs": [],
   "source": [
    "#### DONE!"
   ]
  }
 ],
 "metadata": {
  "kernelspec": {
   "display_name": "Python 3 (ipykernel)",
   "language": "python",
   "name": "python3"
  },
  "language_info": {
   "codemirror_mode": {
    "name": "ipython",
    "version": 3
   },
   "file_extension": ".py",
   "mimetype": "text/x-python",
   "name": "python",
   "nbconvert_exporter": "python",
   "pygments_lexer": "ipython3",
   "version": "3.10.13"
  }
 },
 "nbformat": 4,
 "nbformat_minor": 4
}
