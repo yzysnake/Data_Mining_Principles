{
 "cells": [
  {
   "cell_type": "markdown",
   "metadata": {},
   "source": [
    "# Assignment 1A: Unsupervised Learning, K-means modeling\n",
    "\n",
    "**Objective**: In this assignment we will build kmeans algorithm from scratch, discuss k-means variations, and identify customer profiles using k-means from sklearn. \n",
    "\n",
    "Please do not share this material on any platform or by any other means.\n",
    "\n",
    "Important Notes:\n",
    "\n",
    "    Make changes to the cells that have # YOUR CODE HERE or # YOUR COMMENT HERE.Do not write your answer in anywhere else other than where it says YOUR CODE HERE (or YOUR COMMENT HERE).\n",
    "\n",
    "    Your code must run without any errors start to end. Please go to menubar, select Kernel, and restart the kernel and run all cells (Restart & Run all) before submitting your work.\n",
    "\n",
    "    Purpose of the assignment is to assess your knowledge and command of the data mining algorithm, python programming language, and your ability to resolve common errors. Grading is based on the code and your interpretation/comments you are submitting, not the formatting of the results.\n",
    "\n",
    "    Please use the examples as a guideline, you are not expected to have the same formatting as the example, unless it is a formatting question.\n",
    "\n",
    "Remember, there are many ways to code that can lead to the correct answer, do not hesitate to exercise your own style and python programming coventions."
   ]
  },
  {
   "cell_type": "code",
   "execution_count": null,
   "metadata": {},
   "outputs": [],
   "source": [
    "# Import libraries\n",
    "# YOUR CODE HERE\n",
    "\n",
    "\n",
    "\n",
    "\n"
   ]
  },
  {
   "cell_type": "markdown",
   "metadata": {},
   "source": [
    "## Q1: Building k-means algorithm from scratch!\n",
    "\n",
    "\n",
    "K-means is one of the simpler clustering algorithms, where k is the user-specified number of clusters, where the goal is to partition the inputs into k-many sets in a way that minimizes the total sum of suaqred distances from each point to the mean of its assigned cluster.\n",
    "\n",
    "Here is an iterative algorithm for k-means:\n",
    "1. start with a set of k-means (these are points in d-dimentional space)\n",
    "\n",
    "2. assign each point to the mean to which it is closest.\n",
    "\n",
    "3. if no point's assignment has changed, recompute the means and return to step 2. \n",
    "\n",
    "You may need to write multiple functions!"
   ]
  },
  {
   "cell_type": "code",
   "execution_count": null,
   "metadata": {},
   "outputs": [],
   "source": [
    "#### CODE HERE \n",
    "####(YOU MAY USE MULTIPLE CELLS, ADD YOUR THOUGHT PROCESS AT EACH STEP FOR A FULL GRADE)\n",
    "\n",
    "\n",
    "\n",
    "\n"
   ]
  },
  {
   "cell_type": "markdown",
   "metadata": {},
   "source": [
    "## Q2: K-means variations\n",
    "\n",
    "What are some variations of k-means algorithms? Discuss the advantages, disadvantages, and use cases of these variations. Your discussion list should include k-means++. "
   ]
  },
  {
   "cell_type": "code",
   "execution_count": null,
   "metadata": {},
   "outputs": [],
   "source": [
    "#### add your discussion here:\n",
    "\n",
    "\n",
    "\n",
    "\n",
    "\n",
    "\n",
    "\n"
   ]
  },
  {
   "cell_type": "markdown",
   "metadata": {},
   "source": [
    "## Q3: Basic Customer Profiling using k-means\n",
    "Customers are the only entities that pay, hence all revolves around the customer. As a data scientist, your objective is to understand the customers who purchase goods from the \"Mall\" store. How can you get to know your customers and how could this benefit your company? \n",
    "\n",
    "You are given the \"MallCustomers.csv\" dataset for this analysis. Start with the steps below, and feel free to research customer profiling online. \n",
    "\n",
    "1. Analyze, plot and discuss the data \n",
    "2. Use the \"Annual Income (k$) \",\"Spending Score (1-100) \" features, and build a sklearn.cluster.KMeans model for k in (1,11). Use k-means++ to initialize your model, and random_state=42.\n",
    "   \n",
    "3. Plot the elbow chart and discuss the results\n",
    "4. Discuss other ways to evaluate the results of your model (not general comments, but specific to your results). \n",
    "5. Plot the \"Annual Income (k$)\",\"Spending Score (1-100)\" and use your clustering model predictions to color the customers.\n",
    "\n",
    "6. Write a short summary of all your findings and your interpretation of the results. "
   ]
  },
  {
   "cell_type": "code",
   "execution_count": null,
   "metadata": {},
   "outputs": [],
   "source": [
    "#### CODE HERE \n",
    "####(YOU MAY USE MULTIPLE CELLS, ADD YOUR THOUGHT PROCESS AT EACH STEP FOR A FULL GRADE)\n"
   ]
  },
  {
   "cell_type": "code",
   "execution_count": null,
   "metadata": {},
   "outputs": [],
   "source": [
    "# YOUR COMMENT HERE\n",
    "# interpretation of the results\n"
   ]
  },
  {
   "cell_type": "markdown",
   "metadata": {},
   "source": [
    "**End of Assignment 1A**"
   ]
  }
 ],
 "metadata": {
  "kernelspec": {
   "display_name": "Python 3 (ipykernel)",
   "language": "python",
   "name": "python3"
  },
  "language_info": {
   "codemirror_mode": {
    "name": "ipython",
    "version": 3
   },
   "file_extension": ".py",
   "mimetype": "text/x-python",
   "name": "python",
   "nbconvert_exporter": "python",
   "pygments_lexer": "ipython3",
   "version": "3.10.13"
  }
 },
 "nbformat": 4,
 "nbformat_minor": 4
}
