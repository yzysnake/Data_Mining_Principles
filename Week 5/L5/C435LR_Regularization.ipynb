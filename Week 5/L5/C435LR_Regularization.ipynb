{
 "cells": [
  {
   "cell_type": "markdown",
   "metadata": {},
   "source": [
    "## Regularization (Shrinkage Models)\n",
    "\n"
   ]
  },
  {
   "cell_type": "code",
   "execution_count": 1,
   "metadata": {
    "ExecuteTime": {
     "end_time": "2024-02-07T01:09:57.847537Z",
     "start_time": "2024-02-07T01:09:56.507526Z"
    }
   },
   "outputs": [],
   "source": [
    "import pandas as pd\n",
    "import numpy as np\n",
    "import matplotlib.pyplot as plt\n",
    "from sklearn.linear_model import LinearRegression, Lasso, Ridge, LassoCV, BayesianRidge\n",
    "import statsmodels.formula.api as sm\n",
    "from sklearn.model_selection import train_test_split\n",
    "\n",
    "from dmba import *"
   ]
  },
  {
   "cell_type": "code",
   "execution_count": 2,
   "metadata": {
    "ExecuteTime": {
     "end_time": "2024-02-07T01:10:05.541014Z",
     "start_time": "2024-02-07T01:10:05.516082Z"
    }
   },
   "outputs": [
    {
     "name": "stdout",
     "output_type": "stream",
     "text": [
      "1.3.0\n"
     ]
    }
   ],
   "source": [
    "import sklearn \n",
    "print(sklearn.__version__)"
   ]
  },
  {
   "cell_type": "code",
   "execution_count": 4,
   "metadata": {
    "ExecuteTime": {
     "end_time": "2024-02-07T01:10:28.542738Z",
     "start_time": "2024-02-07T01:10:28.506845Z"
    }
   },
   "outputs": [],
   "source": [
    "df = pd.read_csv('ToyotaCorolla.csv',sep=',')\n",
    "df = df.iloc[0:1000]\n",
    "predictors = ['Age_08_04','KM','Fuel_Type','HP','Met_Color',\n",
    "             'Automatic','CC','Doors','Quarterly_Tax','Weight'\n",
    "             ]\n",
    "outcome = 'Price'\n",
    "X = pd.get_dummies(df[predictors],drop_first=True)\n",
    "y = df[outcome]\n",
    "x_train, x_test, y_train, y_test = train_test_split(X,y,test_size = 0.4, random_state=1)"
   ]
  },
  {
   "cell_type": "markdown",
   "metadata": {},
   "source": [
    "#### Linear Regression Results for reference: \n",
    "\n",
    "                      Mean Error (ME) : 103.6803\n",
    "       Root Mean Squared Error (RMSE) : 1312.8523\n",
    "            Mean Absolute Error (MAE) : 1017.5972\n",
    "          Mean Percentage Error (MPE) : -0.2633\n",
    "    Mean Absolute Percentage Error (MAPE) : 9.0111\n"
   ]
  },
  {
   "cell_type": "markdown",
   "metadata": {},
   "source": [
    "### Lasso"
   ]
  },
  {
   "cell_type": "code",
   "execution_count": 5,
   "metadata": {
    "ExecuteTime": {
     "end_time": "2024-02-07T01:10:31.181088Z",
     "start_time": "2024-02-07T01:10:31.169359Z"
    }
   },
   "outputs": [
    {
     "name": "stdout",
     "output_type": "stream",
     "text": [
      "\n",
      "Regression statistics\n",
      "\n",
      "                      Mean Error (ME) : 104.7566\n",
      "       Root Mean Squared Error (RMSE) : 1312.7798\n",
      "            Mean Absolute Error (MAE) : 1017.4997\n",
      "          Mean Percentage Error (MPE) : -0.2578\n",
      "Mean Absolute Percentage Error (MAPE) : 9.0084\n"
     ]
    }
   ],
   "source": [
    "lasso = Lasso(alpha = 1)\n",
    "lasso.fit(x_train, y_train)\n",
    "regressionSummary(y_test,lasso.predict(x_test))"
   ]
  },
  {
   "cell_type": "code",
   "execution_count": 5,
   "metadata": {},
   "outputs": [
    {
     "name": "stdout",
     "output_type": "stream",
     "text": [
      "[-1.40732235e+02 -1.78979828e-02  3.57524404e+01  7.70490211e+01\n",
      "  3.91123192e+02  2.11528407e-02 -4.93513869e+01  1.34456885e+01\n",
      "  1.31123238e+01  9.20546538e+02  2.16820642e+03]\n"
     ]
    }
   ],
   "source": [
    "# Lasso selects 2 predictors \n",
    "print (lasso.coef_[lasso.coef_!=0])"
   ]
  },
  {
   "cell_type": "markdown",
   "metadata": {},
   "source": [
    "### Ridge"
   ]
  },
  {
   "cell_type": "code",
   "execution_count": 6,
   "metadata": {},
   "outputs": [
    {
     "name": "stdout",
     "output_type": "stream",
     "text": [
      "\n",
      "Regression statistics\n",
      "\n",
      "                      Mean Error (ME) : 107.2419\n",
      "       Root Mean Squared Error (RMSE) : 1314.2547\n",
      "            Mean Absolute Error (MAE) : 1018.3981\n",
      "          Mean Percentage Error (MPE) : -0.2404\n",
      "Mean Absolute Percentage Error (MAPE) : 9.0167\n"
     ]
    }
   ],
   "source": [
    "ridge = Ridge(alpha = 1)\n",
    "ridge.fit(x_train, y_train)\n",
    "regressionSummary(y_test,ridge.predict(x_test))"
   ]
  },
  {
   "cell_type": "markdown",
   "metadata": {},
   "source": [
    "### Statsmodel"
   ]
  },
  {
   "cell_type": "code",
   "execution_count": 6,
   "metadata": {
    "ExecuteTime": {
     "end_time": "2024-02-07T01:12:42.203701Z",
     "start_time": "2024-02-07T01:12:42.187793Z"
    }
   },
   "outputs": [
    {
     "data": {
      "text/plain": "     Age_08_04     KM   HP  Met_Color  Automatic    CC  Doors  Quarterly_Tax  \\\n371         35  18000  110          1          0  1600      5             85   \n45          23  84000   90          0          0  2000      5            234   \n560         54  39291  110          1          0  1600      3             69   \n748         61  81170  110          1          0  1600      4             69   \n419         55  94122   86          1          0  1300      3             69   \n\n     Weight  Fuel_Type_Diesel  Fuel_Type_Petrol  Price  \n371    1075                 0                 1  13995  \n45     1270                 1                 0  19000  \n560    1040                 0                 1  10950  \n748    1040                 0                 1   8950  \n419    1015                 0                 1   8950  ",
      "text/html": "<div>\n<style scoped>\n    .dataframe tbody tr th:only-of-type {\n        vertical-align: middle;\n    }\n\n    .dataframe tbody tr th {\n        vertical-align: top;\n    }\n\n    .dataframe thead th {\n        text-align: right;\n    }\n</style>\n<table border=\"1\" class=\"dataframe\">\n  <thead>\n    <tr style=\"text-align: right;\">\n      <th></th>\n      <th>Age_08_04</th>\n      <th>KM</th>\n      <th>HP</th>\n      <th>Met_Color</th>\n      <th>Automatic</th>\n      <th>CC</th>\n      <th>Doors</th>\n      <th>Quarterly_Tax</th>\n      <th>Weight</th>\n      <th>Fuel_Type_Diesel</th>\n      <th>Fuel_Type_Petrol</th>\n      <th>Price</th>\n    </tr>\n  </thead>\n  <tbody>\n    <tr>\n      <th>371</th>\n      <td>35</td>\n      <td>18000</td>\n      <td>110</td>\n      <td>1</td>\n      <td>0</td>\n      <td>1600</td>\n      <td>5</td>\n      <td>85</td>\n      <td>1075</td>\n      <td>0</td>\n      <td>1</td>\n      <td>13995</td>\n    </tr>\n    <tr>\n      <th>45</th>\n      <td>23</td>\n      <td>84000</td>\n      <td>90</td>\n      <td>0</td>\n      <td>0</td>\n      <td>2000</td>\n      <td>5</td>\n      <td>234</td>\n      <td>1270</td>\n      <td>1</td>\n      <td>0</td>\n      <td>19000</td>\n    </tr>\n    <tr>\n      <th>560</th>\n      <td>54</td>\n      <td>39291</td>\n      <td>110</td>\n      <td>1</td>\n      <td>0</td>\n      <td>1600</td>\n      <td>3</td>\n      <td>69</td>\n      <td>1040</td>\n      <td>0</td>\n      <td>1</td>\n      <td>10950</td>\n    </tr>\n    <tr>\n      <th>748</th>\n      <td>61</td>\n      <td>81170</td>\n      <td>110</td>\n      <td>1</td>\n      <td>0</td>\n      <td>1600</td>\n      <td>4</td>\n      <td>69</td>\n      <td>1040</td>\n      <td>0</td>\n      <td>1</td>\n      <td>8950</td>\n    </tr>\n    <tr>\n      <th>419</th>\n      <td>55</td>\n      <td>94122</td>\n      <td>86</td>\n      <td>1</td>\n      <td>0</td>\n      <td>1300</td>\n      <td>3</td>\n      <td>69</td>\n      <td>1015</td>\n      <td>0</td>\n      <td>1</td>\n      <td>8950</td>\n    </tr>\n  </tbody>\n</table>\n</div>"
     },
     "execution_count": 6,
     "metadata": {},
     "output_type": "execute_result"
    }
   ],
   "source": [
    "data = x_train.join(y_train)\n",
    "data.head()"
   ]
  },
  {
   "cell_type": "code",
   "execution_count": 7,
   "metadata": {
    "ExecuteTime": {
     "end_time": "2024-02-07T01:12:43.181632Z",
     "start_time": "2024-02-07T01:12:43.116370Z"
    }
   },
   "outputs": [
    {
     "data": {
      "text/plain": "<class 'statsmodels.iolib.summary.Summary'>\n\"\"\"\n                            OLS Regression Results                            \n==============================================================================\nDep. Variable:                  Price   R-squared:                       0.856\nModel:                            OLS   Adj. R-squared:                  0.854\nMethod:                 Least Squares   F-statistic:                     319.0\nDate:                Tue, 06 Feb 2024   Prob (F-statistic):          1.73e-239\nTime:                        19:12:43   Log-Likelihood:                -5198.1\nNo. Observations:                 600   AIC:                         1.042e+04\nDf Residuals:                     588   BIC:                         1.047e+04\nDf Model:                          11                                         \nCovariance Type:            nonrobust                                         \n====================================================================================\n                       coef    std err          t      P>|t|      [0.025      0.975]\n------------------------------------------------------------------------------------\nIntercept        -1319.3544   1728.427     -0.763      0.446   -4713.997    2075.288\nAge_08_04         -140.7488      5.142    -27.374      0.000    -150.847    -130.650\nKM                  -0.0178      0.002     -7.286      0.000      -0.023      -0.013\nHP                  36.1034      5.321      6.785      0.000      25.653      46.554\nMet_Color           84.2818    127.005      0.664      0.507    -165.158     333.721\nAutomatic          416.7820    259.794      1.604      0.109     -93.454     927.018\nCC                   0.0177      0.099      0.179      0.858      -0.177       0.213\nDoors              -50.6579     65.187     -0.777      0.437    -178.686      77.371\nQuarterly_Tax       13.6253      2.518      5.411      0.000       8.680      18.571\nWeight              13.0387      1.602      8.140      0.000       9.893      16.185\nFuel_Type_Diesel  1066.4647    527.285      2.023      0.044      30.872    2102.057\nFuel_Type_Petrol  2310.2495    521.045      4.434      0.000    1286.914    3333.585\n==============================================================================\nOmnibus:                       62.422   Durbin-Watson:                   1.899\nProb(Omnibus):                  0.000   Jarque-Bera (JB):              366.046\nSkew:                           0.186   Prob(JB):                     3.27e-80\nKurtosis:                       6.808   Cond. No.                     2.20e+06\n==============================================================================\n\nNotes:\n[1] Standard Errors assume that the covariance matrix of the errors is correctly specified.\n[2] The condition number is large, 2.2e+06. This might indicate that there are\nstrong multicollinearity or other numerical problems.\n\"\"\"",
      "text/html": "<table class=\"simpletable\">\n<caption>OLS Regression Results</caption>\n<tr>\n  <th>Dep. Variable:</th>          <td>Price</td>      <th>  R-squared:         </th> <td>   0.856</td> \n</tr>\n<tr>\n  <th>Model:</th>                   <td>OLS</td>       <th>  Adj. R-squared:    </th> <td>   0.854</td> \n</tr>\n<tr>\n  <th>Method:</th>             <td>Least Squares</td>  <th>  F-statistic:       </th> <td>   319.0</td> \n</tr>\n<tr>\n  <th>Date:</th>             <td>Tue, 06 Feb 2024</td> <th>  Prob (F-statistic):</th> <td>1.73e-239</td>\n</tr>\n<tr>\n  <th>Time:</th>                 <td>19:12:43</td>     <th>  Log-Likelihood:    </th> <td> -5198.1</td> \n</tr>\n<tr>\n  <th>No. Observations:</th>      <td>   600</td>      <th>  AIC:               </th> <td>1.042e+04</td>\n</tr>\n<tr>\n  <th>Df Residuals:</th>          <td>   588</td>      <th>  BIC:               </th> <td>1.047e+04</td>\n</tr>\n<tr>\n  <th>Df Model:</th>              <td>    11</td>      <th>                     </th>     <td> </td>    \n</tr>\n<tr>\n  <th>Covariance Type:</th>      <td>nonrobust</td>    <th>                     </th>     <td> </td>    \n</tr>\n</table>\n<table class=\"simpletable\">\n<tr>\n          <td></td>            <th>coef</th>     <th>std err</th>      <th>t</th>      <th>P>|t|</th>  <th>[0.025</th>    <th>0.975]</th>  \n</tr>\n<tr>\n  <th>Intercept</th>        <td>-1319.3544</td> <td> 1728.427</td> <td>   -0.763</td> <td> 0.446</td> <td>-4713.997</td> <td> 2075.288</td>\n</tr>\n<tr>\n  <th>Age_08_04</th>        <td> -140.7488</td> <td>    5.142</td> <td>  -27.374</td> <td> 0.000</td> <td> -150.847</td> <td> -130.650</td>\n</tr>\n<tr>\n  <th>KM</th>               <td>   -0.0178</td> <td>    0.002</td> <td>   -7.286</td> <td> 0.000</td> <td>   -0.023</td> <td>   -0.013</td>\n</tr>\n<tr>\n  <th>HP</th>               <td>   36.1034</td> <td>    5.321</td> <td>    6.785</td> <td> 0.000</td> <td>   25.653</td> <td>   46.554</td>\n</tr>\n<tr>\n  <th>Met_Color</th>        <td>   84.2818</td> <td>  127.005</td> <td>    0.664</td> <td> 0.507</td> <td> -165.158</td> <td>  333.721</td>\n</tr>\n<tr>\n  <th>Automatic</th>        <td>  416.7820</td> <td>  259.794</td> <td>    1.604</td> <td> 0.109</td> <td>  -93.454</td> <td>  927.018</td>\n</tr>\n<tr>\n  <th>CC</th>               <td>    0.0177</td> <td>    0.099</td> <td>    0.179</td> <td> 0.858</td> <td>   -0.177</td> <td>    0.213</td>\n</tr>\n<tr>\n  <th>Doors</th>            <td>  -50.6579</td> <td>   65.187</td> <td>   -0.777</td> <td> 0.437</td> <td> -178.686</td> <td>   77.371</td>\n</tr>\n<tr>\n  <th>Quarterly_Tax</th>    <td>   13.6253</td> <td>    2.518</td> <td>    5.411</td> <td> 0.000</td> <td>    8.680</td> <td>   18.571</td>\n</tr>\n<tr>\n  <th>Weight</th>           <td>   13.0387</td> <td>    1.602</td> <td>    8.140</td> <td> 0.000</td> <td>    9.893</td> <td>   16.185</td>\n</tr>\n<tr>\n  <th>Fuel_Type_Diesel</th> <td> 1066.4647</td> <td>  527.285</td> <td>    2.023</td> <td> 0.044</td> <td>   30.872</td> <td> 2102.057</td>\n</tr>\n<tr>\n  <th>Fuel_Type_Petrol</th> <td> 2310.2495</td> <td>  521.045</td> <td>    4.434</td> <td> 0.000</td> <td> 1286.914</td> <td> 3333.585</td>\n</tr>\n</table>\n<table class=\"simpletable\">\n<tr>\n  <th>Omnibus:</th>       <td>62.422</td> <th>  Durbin-Watson:     </th> <td>   1.899</td>\n</tr>\n<tr>\n  <th>Prob(Omnibus):</th> <td> 0.000</td> <th>  Jarque-Bera (JB):  </th> <td> 366.046</td>\n</tr>\n<tr>\n  <th>Skew:</th>          <td> 0.186</td> <th>  Prob(JB):          </th> <td>3.27e-80</td>\n</tr>\n<tr>\n  <th>Kurtosis:</th>      <td> 6.808</td> <th>  Cond. No.          </th> <td>2.20e+06</td>\n</tr>\n</table><br/><br/>Notes:<br/>[1] Standard Errors assume that the covariance matrix of the errors is correctly specified.<br/>[2] The condition number is large, 2.2e+06. This might indicate that there are<br/>strong multicollinearity or other numerical problems.",
      "text/latex": "\\begin{center}\n\\begin{tabular}{lclc}\n\\toprule\n\\textbf{Dep. Variable:}     &      Price       & \\textbf{  R-squared:         } &     0.856   \\\\\n\\textbf{Model:}             &       OLS        & \\textbf{  Adj. R-squared:    } &     0.854   \\\\\n\\textbf{Method:}            &  Least Squares   & \\textbf{  F-statistic:       } &     319.0   \\\\\n\\textbf{Date:}              & Tue, 06 Feb 2024 & \\textbf{  Prob (F-statistic):} & 1.73e-239   \\\\\n\\textbf{Time:}              &     19:12:43     & \\textbf{  Log-Likelihood:    } &   -5198.1   \\\\\n\\textbf{No. Observations:}  &         600      & \\textbf{  AIC:               } & 1.042e+04   \\\\\n\\textbf{Df Residuals:}      &         588      & \\textbf{  BIC:               } & 1.047e+04   \\\\\n\\textbf{Df Model:}          &          11      & \\textbf{                     } &             \\\\\n\\textbf{Covariance Type:}   &    nonrobust     & \\textbf{                     } &             \\\\\n\\bottomrule\n\\end{tabular}\n\\begin{tabular}{lcccccc}\n                            & \\textbf{coef} & \\textbf{std err} & \\textbf{t} & \\textbf{P$> |$t$|$} & \\textbf{[0.025} & \\textbf{0.975]}  \\\\\n\\midrule\n\\textbf{Intercept}          &   -1319.3544  &     1728.427     &    -0.763  &         0.446        &    -4713.997    &     2075.288     \\\\\n\\textbf{Age\\_08\\_04}        &    -140.7488  &        5.142     &   -27.374  &         0.000        &     -150.847    &     -130.650     \\\\\n\\textbf{KM}                 &      -0.0178  &        0.002     &    -7.286  &         0.000        &       -0.023    &       -0.013     \\\\\n\\textbf{HP}                 &      36.1034  &        5.321     &     6.785  &         0.000        &       25.653    &       46.554     \\\\\n\\textbf{Met\\_Color}         &      84.2818  &      127.005     &     0.664  &         0.507        &     -165.158    &      333.721     \\\\\n\\textbf{Automatic}          &     416.7820  &      259.794     &     1.604  &         0.109        &      -93.454    &      927.018     \\\\\n\\textbf{CC}                 &       0.0177  &        0.099     &     0.179  &         0.858        &       -0.177    &        0.213     \\\\\n\\textbf{Doors}              &     -50.6579  &       65.187     &    -0.777  &         0.437        &     -178.686    &       77.371     \\\\\n\\textbf{Quarterly\\_Tax}     &      13.6253  &        2.518     &     5.411  &         0.000        &        8.680    &       18.571     \\\\\n\\textbf{Weight}             &      13.0387  &        1.602     &     8.140  &         0.000        &        9.893    &       16.185     \\\\\n\\textbf{Fuel\\_Type\\_Diesel} &    1066.4647  &      527.285     &     2.023  &         0.044        &       30.872    &     2102.057     \\\\\n\\textbf{Fuel\\_Type\\_Petrol} &    2310.2495  &      521.045     &     4.434  &         0.000        &     1286.914    &     3333.585     \\\\\n\\bottomrule\n\\end{tabular}\n\\begin{tabular}{lclc}\n\\textbf{Omnibus:}       & 62.422 & \\textbf{  Durbin-Watson:     } &    1.899  \\\\\n\\textbf{Prob(Omnibus):} &  0.000 & \\textbf{  Jarque-Bera (JB):  } &  366.046  \\\\\n\\textbf{Skew:}          &  0.186 & \\textbf{  Prob(JB):          } & 3.27e-80  \\\\\n\\textbf{Kurtosis:}      &  6.808 & \\textbf{  Cond. No.          } & 2.20e+06  \\\\\n\\bottomrule\n\\end{tabular}\n%\\caption{OLS Regression Results}\n\\end{center}\n\nNotes: \\newline\n [1] Standard Errors assume that the covariance matrix of the errors is correctly specified. \\newline\n [2] The condition number is large, 2.2e+06. This might indicate that there are \\newline\n strong multicollinearity or other numerical problems."
     },
     "execution_count": 7,
     "metadata": {},
     "output_type": "execute_result"
    }
   ],
   "source": [
    "formula = 'Price ~ ' + ' + '.join(x_train.columns)\n",
    "sm_cars = sm.ols(formula = formula, data = data).fit()\n",
    "sm_cars.summary()            "
   ]
  },
  {
   "cell_type": "markdown",
   "metadata": {},
   "source": [
    "For standardization with statsmodels use ```OLS.fit_regularized``` and set argument ```L1_wt = 0``` for ridge regression, and ```L1_wt=1``` for lasso. "
   ]
  },
  {
   "cell_type": "code",
   "execution_count": 9,
   "metadata": {},
   "outputs": [
    {
     "name": "stdout",
     "output_type": "stream",
     "text": [
      "Mean squared error: 1723390.75\n",
      "(R^2)Coefficient of determination: 0.88\n"
     ]
    }
   ],
   "source": [
    "from sklearn.metrics import mean_squared_error, r2_score\n",
    "# The mean squared error\n",
    "print('Mean squared error: %.2f'\n",
    "      % mean_squared_error(y_test, lasso.predict(x_test)))\n",
    "# The coefficient of determination: 1 is perfect prediction\n",
    "print('(R^2)Coefficient of determination: %.2f'\n",
    "      % r2_score(y_test, lasso.predict(x_test)))"
   ]
  }
 ],
 "metadata": {
  "kernelspec": {
   "display_name": "Python 3 (ipykernel)",
   "language": "python",
   "name": "python3"
  },
  "language_info": {
   "codemirror_mode": {
    "name": "ipython",
    "version": 3
   },
   "file_extension": ".py",
   "mimetype": "text/x-python",
   "name": "python",
   "nbconvert_exporter": "python",
   "pygments_lexer": "ipython3",
   "version": "3.10.13"
  }
 },
 "nbformat": 4,
 "nbformat_minor": 4
}
