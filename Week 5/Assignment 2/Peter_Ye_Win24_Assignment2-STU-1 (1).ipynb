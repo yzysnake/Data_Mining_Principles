{
 "cells": [
  {
   "cell_type": "markdown",
   "metadata": {},
   "source": [
    "# Assignment 2: Regression Modeling\n",
    "\n",
    "\n",
    "**Objective**: In this assignment we will build a regression model using sklearn. \n",
    "\n",
    "Please do not share this material on any platform or by any other means.\n",
    "\n",
    "Important Notes:\n",
    "\n",
    "    Make changes to the cells that have #YOUR CODE HERE or #YOUR COMMENT HERE.Do not write your answer in anywhere else other than where it says YOUR CODE HERE (or YOUR COMMENT HERE).\n",
    "\n",
    "    Your code must run without any errors start to end. Please go to menubar, select Kernel, and restart the kernel and run all cells (Restart & Run all) before submitting your work.\n",
    "\n",
    "    Purpose of the assignment is to assess your knowledge and command of the data mining algorithms, python programming language, and your ability to resolve common errors. Grading is based on the code and your interpretation/comments you are submitting, not the formatting of the results.\n",
    "\n",
    "    Please use the examples as a guideline, you are not expected to have the same formatting as the example, unless it is a formatting question.\n",
    "\n",
    "Remember, there are many ways to code that can lead to the correct answer, do not hesitate to exercise your own style and python programming coventions."
   ]
  },
  {
   "cell_type": "markdown",
   "metadata": {},
   "source": [
    "## Regression Modeling: Predicting Boston Housing Prices\n",
    "\n",
    "HomeVal AI is a pioneering project initiated by a collaboration of urban planners, data scientists, and real estate analysts. The goal is to develop a robust model to predict housing prices in Boston. This initiative is crucial for understanding housing market trends, assisting in policy-making, and guiding potential buyers and real estate developers.\n",
    "\n",
    "You are working as a data scientist at HomeVal AI coorporation. You are tasked with developing a regression model to predict housing prices, and to start with you have the Boston Housing price data. \n",
    "\n",
    "Best way to start any project is by understanding the data, and building a simple model to get your project off the ground. You will start by developing a linear regression model!\n",
    "\n",
    "Regression is the task of predicting a continious-valued class labels (dependent variable) based on the values of other attributes (independent or predictor variables).\n",
    "\n",
    "The file _BostonHousingExtended.csv_ contains information collected by the US Bureau of the Census concerning housing in the area of Boston, Massachusetts. The dataset includes information on 506 census housing tracts in the Boston area. The goal is to predict the median house price in new tracts based on information such as crime rate, pollution, and number of rooms. The dataset contains 12 predictors + their interactions, and the outcome variable is the median house price (MEDV).\n",
    " "
   ]
  },
  {
   "cell_type": "markdown",
   "metadata": {},
   "source": [
    "**Data Set Characteristics:**  \n",
    "Number of Instances: 506\n",
    "\n",
    "Number of Attributes: 12 numeric/categorical predictive, plut their interactions. Median Value (attribute 13) is usually the target.\n",
    "\n",
    "Original Attribute Information (in order):\n",
    "- CRIM     per capita crime rate by town\n",
    "- ZN       proportion of residential land zoned for lots over 25,000 sq.ft.\n",
    "- INDUS    proportion of non-retail business acres per town       \n",
    "- CHAS     Charles River dummy variable (= 1 if tract bounds river; 0 otherwise)\n",
    "- NOX      nitric oxides concentration (parts per 10 million)\n",
    "- RM       average number of rooms per dwelling\n",
    "- AGE      proportion of owner-occupied units built prior to 1940\n",
    "- DIS      weighted distances to five Boston employment centres       \n",
    "- RAD      index of accessibility to radial highways\n",
    "- TAX      full-value property-tax rate per $10,000\n",
    "\n",
    "- PTRATIO  pupil-teacher ratio by town\n",
    "\n",
    "- LSTAT    % lower status of the population       \n",
    "\n",
    "- MEDV     Median value of owner-occupied homes in $1000's\n",
    "\n",
    "Creator: Harrison, D. and Rubinfeld, D.L.\n",
    "This is a copy of UCI ML housing dataset.\n",
    "\n",
    "https://archive.ics.uci.edu/ml/machine-learning-databases/housing/\n",
    "\n",
    "For the purposes of this assignment, the original data has been processed to include 2-way interactions of these variables (using PolynomialFeatures function), and the dataset we use has 91 features in total. "
   ]
  },
  {
   "cell_type": "markdown",
   "metadata": {},
   "source": [
    "#### Read in and review the data"
   ]
  },
  {
   "cell_type": "code",
   "execution_count": 1,
   "metadata": {
    "ExecuteTime": {
     "end_time": "2024-02-25T23:43:06.485921600Z",
     "start_time": "2024-02-25T23:43:06.079555900Z"
    }
   },
   "outputs": [
    {
     "data": {
      "text/plain": "       CRIM    ZN     INDUS  CHAS       NOX        RM       AGE       DIS  \\\n0  0.000000  0.18  0.067815     0  0.314815  0.577505  0.641607  0.269203   \n1  0.000236  0.00  0.242302     0  0.172840  0.547998  0.782698  0.348962   \n\n        RAD       TAX  ...        70        71       72        73        74  \\\n0  0.000000  0.208015  ...  0.000000  0.000000  0.00000  0.043270  0.059749   \n1  0.043478  0.104962  ...  0.004564  0.024052  0.00889  0.011017  0.058064   \n\n         75        76        77        78  MEDV  \n0  0.018655  0.082503  0.025759  0.008042  24.0  \n1  0.021462  0.306021  0.113111  0.041808  21.6  \n\n[2 rows x 91 columns]",
      "text/html": "<div>\n<style scoped>\n    .dataframe tbody tr th:only-of-type {\n        vertical-align: middle;\n    }\n\n    .dataframe tbody tr th {\n        vertical-align: top;\n    }\n\n    .dataframe thead th {\n        text-align: right;\n    }\n</style>\n<table border=\"1\" class=\"dataframe\">\n  <thead>\n    <tr style=\"text-align: right;\">\n      <th></th>\n      <th>CRIM</th>\n      <th>ZN</th>\n      <th>INDUS</th>\n      <th>CHAS</th>\n      <th>NOX</th>\n      <th>RM</th>\n      <th>AGE</th>\n      <th>DIS</th>\n      <th>RAD</th>\n      <th>TAX</th>\n      <th>...</th>\n      <th>70</th>\n      <th>71</th>\n      <th>72</th>\n      <th>73</th>\n      <th>74</th>\n      <th>75</th>\n      <th>76</th>\n      <th>77</th>\n      <th>78</th>\n      <th>MEDV</th>\n    </tr>\n  </thead>\n  <tbody>\n    <tr>\n      <th>0</th>\n      <td>0.000000</td>\n      <td>0.18</td>\n      <td>0.067815</td>\n      <td>0</td>\n      <td>0.314815</td>\n      <td>0.577505</td>\n      <td>0.641607</td>\n      <td>0.269203</td>\n      <td>0.000000</td>\n      <td>0.208015</td>\n      <td>...</td>\n      <td>0.000000</td>\n      <td>0.000000</td>\n      <td>0.00000</td>\n      <td>0.043270</td>\n      <td>0.059749</td>\n      <td>0.018655</td>\n      <td>0.082503</td>\n      <td>0.025759</td>\n      <td>0.008042</td>\n      <td>24.0</td>\n    </tr>\n    <tr>\n      <th>1</th>\n      <td>0.000236</td>\n      <td>0.00</td>\n      <td>0.242302</td>\n      <td>0</td>\n      <td>0.172840</td>\n      <td>0.547998</td>\n      <td>0.782698</td>\n      <td>0.348962</td>\n      <td>0.043478</td>\n      <td>0.104962</td>\n      <td>...</td>\n      <td>0.004564</td>\n      <td>0.024052</td>\n      <td>0.00889</td>\n      <td>0.011017</td>\n      <td>0.058064</td>\n      <td>0.021462</td>\n      <td>0.306021</td>\n      <td>0.113111</td>\n      <td>0.041808</td>\n      <td>21.6</td>\n    </tr>\n  </tbody>\n</table>\n<p>2 rows × 91 columns</p>\n</div>"
     },
     "execution_count": 1,
     "metadata": {},
     "output_type": "execute_result"
    }
   ],
   "source": [
    "import numpy as np\n",
    "import pandas as pd\n",
    "df = pd.read_csv('BostonHousingExtended.csv',header='infer')\n",
    "df.head(2)"
   ]
  },
  {
   "cell_type": "code",
   "execution_count": 2,
   "metadata": {
    "ExecuteTime": {
     "end_time": "2024-02-11T02:59:06.541642Z",
     "start_time": "2024-02-11T02:59:06.332284Z"
    }
   },
   "outputs": [
    {
     "data": {
      "text/plain": "             CRIM          ZN       INDUS        CHAS         NOX          RM  \\\ncount  506.000000  506.000000  506.000000  506.000000  506.000000  506.000000   \nmean     0.040544    0.113636    0.391378    0.069170    0.349167    0.521869   \nstd      0.096679    0.233225    0.251479    0.253994    0.238431    0.134627   \nmin      0.000000    0.000000    0.000000    0.000000    0.000000    0.000000   \n25%      0.000851    0.000000    0.173387    0.000000    0.131687    0.445392   \n50%      0.002812    0.000000    0.338343    0.000000    0.314815    0.507281   \n75%      0.041258    0.125000    0.646628    0.000000    0.491770    0.586798   \nmax      1.000000    1.000000    1.000000    1.000000    1.000000    1.000000   \n\n              AGE         DIS         RAD         TAX  ...          70  \\\ncount  506.000000  506.000000  506.000000  506.000000  ...  506.000000   \nmean     0.676364    0.242381    0.371713    0.422208  ...    0.267554   \nstd      0.289896    0.191482    0.378576    0.321636  ...    0.385317   \nmin      0.000000    0.000000    0.000000    0.000000  ...    0.000000   \n25%      0.433831    0.088259    0.130435    0.175573  ...    0.023399   \n50%      0.768280    0.188949    0.173913    0.272901  ...    0.061484   \n75%      0.938980    0.369088    1.000000    0.914122  ...    0.914122   \nmax      1.000000    1.000000    1.000000    1.000000  ...    0.914122   \n\n               71          72          73          74          75          76  \\\ncount  506.000000  506.000000  506.000000  506.000000  506.000000  506.000000   \nmean     0.271992    0.148420    0.281505    0.297077    0.161667    0.440980   \nstd      0.322171    0.213532    0.347008    0.284685    0.194503    0.250593   \nmin      0.000000    0.000000    0.000000    0.000000    0.000000    0.000000   \n25%      0.048566    0.019679    0.030826    0.087624    0.026190    0.260751   \n50%      0.116559    0.046154    0.074475    0.142115    0.065424    0.470858   \n75%      0.808511    0.161454    0.835619    0.739077    0.256045    0.653689   \nmax      0.808511    1.000000    1.000000    0.797872    0.914122    1.000000   \n\n               77          78        MEDV  \ncount  506.000000  506.000000  506.000000  \nmean     0.204698    0.129599   22.532806  \nstd      0.168367    0.161755    9.197104  \nmin      0.000000    0.000000    5.000000  \n25%      0.071486    0.020748   17.025000  \n50%      0.155388    0.070612   21.200000  \n75%      0.311613    0.176497   25.000000  \nmax      0.825020    1.000000   50.000000  \n\n[8 rows x 91 columns]",
      "text/html": "<div>\n<style scoped>\n    .dataframe tbody tr th:only-of-type {\n        vertical-align: middle;\n    }\n\n    .dataframe tbody tr th {\n        vertical-align: top;\n    }\n\n    .dataframe thead th {\n        text-align: right;\n    }\n</style>\n<table border=\"1\" class=\"dataframe\">\n  <thead>\n    <tr style=\"text-align: right;\">\n      <th></th>\n      <th>CRIM</th>\n      <th>ZN</th>\n      <th>INDUS</th>\n      <th>CHAS</th>\n      <th>NOX</th>\n      <th>RM</th>\n      <th>AGE</th>\n      <th>DIS</th>\n      <th>RAD</th>\n      <th>TAX</th>\n      <th>...</th>\n      <th>70</th>\n      <th>71</th>\n      <th>72</th>\n      <th>73</th>\n      <th>74</th>\n      <th>75</th>\n      <th>76</th>\n      <th>77</th>\n      <th>78</th>\n      <th>MEDV</th>\n    </tr>\n  </thead>\n  <tbody>\n    <tr>\n      <th>count</th>\n      <td>506.000000</td>\n      <td>506.000000</td>\n      <td>506.000000</td>\n      <td>506.000000</td>\n      <td>506.000000</td>\n      <td>506.000000</td>\n      <td>506.000000</td>\n      <td>506.000000</td>\n      <td>506.000000</td>\n      <td>506.000000</td>\n      <td>...</td>\n      <td>506.000000</td>\n      <td>506.000000</td>\n      <td>506.000000</td>\n      <td>506.000000</td>\n      <td>506.000000</td>\n      <td>506.000000</td>\n      <td>506.000000</td>\n      <td>506.000000</td>\n      <td>506.000000</td>\n      <td>506.000000</td>\n    </tr>\n    <tr>\n      <th>mean</th>\n      <td>0.040544</td>\n      <td>0.113636</td>\n      <td>0.391378</td>\n      <td>0.069170</td>\n      <td>0.349167</td>\n      <td>0.521869</td>\n      <td>0.676364</td>\n      <td>0.242381</td>\n      <td>0.371713</td>\n      <td>0.422208</td>\n      <td>...</td>\n      <td>0.267554</td>\n      <td>0.271992</td>\n      <td>0.148420</td>\n      <td>0.281505</td>\n      <td>0.297077</td>\n      <td>0.161667</td>\n      <td>0.440980</td>\n      <td>0.204698</td>\n      <td>0.129599</td>\n      <td>22.532806</td>\n    </tr>\n    <tr>\n      <th>std</th>\n      <td>0.096679</td>\n      <td>0.233225</td>\n      <td>0.251479</td>\n      <td>0.253994</td>\n      <td>0.238431</td>\n      <td>0.134627</td>\n      <td>0.289896</td>\n      <td>0.191482</td>\n      <td>0.378576</td>\n      <td>0.321636</td>\n      <td>...</td>\n      <td>0.385317</td>\n      <td>0.322171</td>\n      <td>0.213532</td>\n      <td>0.347008</td>\n      <td>0.284685</td>\n      <td>0.194503</td>\n      <td>0.250593</td>\n      <td>0.168367</td>\n      <td>0.161755</td>\n      <td>9.197104</td>\n    </tr>\n    <tr>\n      <th>min</th>\n      <td>0.000000</td>\n      <td>0.000000</td>\n      <td>0.000000</td>\n      <td>0.000000</td>\n      <td>0.000000</td>\n      <td>0.000000</td>\n      <td>0.000000</td>\n      <td>0.000000</td>\n      <td>0.000000</td>\n      <td>0.000000</td>\n      <td>...</td>\n      <td>0.000000</td>\n      <td>0.000000</td>\n      <td>0.000000</td>\n      <td>0.000000</td>\n      <td>0.000000</td>\n      <td>0.000000</td>\n      <td>0.000000</td>\n      <td>0.000000</td>\n      <td>0.000000</td>\n      <td>5.000000</td>\n    </tr>\n    <tr>\n      <th>25%</th>\n      <td>0.000851</td>\n      <td>0.000000</td>\n      <td>0.173387</td>\n      <td>0.000000</td>\n      <td>0.131687</td>\n      <td>0.445392</td>\n      <td>0.433831</td>\n      <td>0.088259</td>\n      <td>0.130435</td>\n      <td>0.175573</td>\n      <td>...</td>\n      <td>0.023399</td>\n      <td>0.048566</td>\n      <td>0.019679</td>\n      <td>0.030826</td>\n      <td>0.087624</td>\n      <td>0.026190</td>\n      <td>0.260751</td>\n      <td>0.071486</td>\n      <td>0.020748</td>\n      <td>17.025000</td>\n    </tr>\n    <tr>\n      <th>50%</th>\n      <td>0.002812</td>\n      <td>0.000000</td>\n      <td>0.338343</td>\n      <td>0.000000</td>\n      <td>0.314815</td>\n      <td>0.507281</td>\n      <td>0.768280</td>\n      <td>0.188949</td>\n      <td>0.173913</td>\n      <td>0.272901</td>\n      <td>...</td>\n      <td>0.061484</td>\n      <td>0.116559</td>\n      <td>0.046154</td>\n      <td>0.074475</td>\n      <td>0.142115</td>\n      <td>0.065424</td>\n      <td>0.470858</td>\n      <td>0.155388</td>\n      <td>0.070612</td>\n      <td>21.200000</td>\n    </tr>\n    <tr>\n      <th>75%</th>\n      <td>0.041258</td>\n      <td>0.125000</td>\n      <td>0.646628</td>\n      <td>0.000000</td>\n      <td>0.491770</td>\n      <td>0.586798</td>\n      <td>0.938980</td>\n      <td>0.369088</td>\n      <td>1.000000</td>\n      <td>0.914122</td>\n      <td>...</td>\n      <td>0.914122</td>\n      <td>0.808511</td>\n      <td>0.161454</td>\n      <td>0.835619</td>\n      <td>0.739077</td>\n      <td>0.256045</td>\n      <td>0.653689</td>\n      <td>0.311613</td>\n      <td>0.176497</td>\n      <td>25.000000</td>\n    </tr>\n    <tr>\n      <th>max</th>\n      <td>1.000000</td>\n      <td>1.000000</td>\n      <td>1.000000</td>\n      <td>1.000000</td>\n      <td>1.000000</td>\n      <td>1.000000</td>\n      <td>1.000000</td>\n      <td>1.000000</td>\n      <td>1.000000</td>\n      <td>1.000000</td>\n      <td>...</td>\n      <td>0.914122</td>\n      <td>0.808511</td>\n      <td>1.000000</td>\n      <td>1.000000</td>\n      <td>0.797872</td>\n      <td>0.914122</td>\n      <td>1.000000</td>\n      <td>0.825020</td>\n      <td>1.000000</td>\n      <td>50.000000</td>\n    </tr>\n  </tbody>\n</table>\n<p>8 rows × 91 columns</p>\n</div>"
     },
     "execution_count": 2,
     "metadata": {},
     "output_type": "execute_result"
    }
   ],
   "source": [
    "df.describe()"
   ]
  },
  {
   "cell_type": "code",
   "execution_count": 3,
   "metadata": {
    "ExecuteTime": {
     "end_time": "2024-02-11T02:59:06.880360Z",
     "start_time": "2024-02-11T02:59:06.875763Z"
    }
   },
   "outputs": [
    {
     "data": {
      "text/plain": "(506, 91)"
     },
     "execution_count": 3,
     "metadata": {},
     "output_type": "execute_result"
    }
   ],
   "source": [
    "df.shape"
   ]
  },
  {
   "cell_type": "code",
   "execution_count": 4,
   "metadata": {
    "ExecuteTime": {
     "end_time": "2024-02-11T02:59:07.275301Z",
     "start_time": "2024-02-11T02:59:07.151644Z"
    }
   },
   "outputs": [
    {
     "data": {
      "text/plain": "Index(['CRIM', 'ZN', 'INDUS', 'CHAS', 'NOX', 'RM', 'AGE', 'DIS', 'RAD', 'TAX',\n       'PTRATIO', 'LSTAT', '1', '2', '3', '4', '5', '6', '7', '8', '9', '10',\n       '11', '12', '13', '14', '15', '16', '17', '18', '19', '20', '21', '22',\n       '23', '24', '25', '26', '27', '28', '29', '30', '31', '32', '33', '34',\n       '35', '36', '37', '38', '39', '40', '41', '42', '43', '44', '45', '46',\n       '47', '48', '49', '50', '51', '52', '53', '54', '55', '56', '57', '58',\n       '59', '60', '61', '62', '63', '64', '65', '66', '67', '68', '69', '70',\n       '71', '72', '73', '74', '75', '76', '77', '78', 'MEDV'],\n      dtype='object')"
     },
     "execution_count": 4,
     "metadata": {},
     "output_type": "execute_result"
    }
   ],
   "source": [
    "df.columns"
   ]
  },
  {
   "cell_type": "markdown",
   "metadata": {},
   "source": [
    "## Q1: Why should the data be partitioned into training and test sets? What will the training set be used for? What will the validation set be used for?"
   ]
  },
  {
   "cell_type": "markdown",
   "metadata": {},
   "source": [
    "Yes, the data should be partitioned into training and test sets. The training set aims to force the model to learn its coefficients. The validation set, or test set, intends to test the model we trained whether perform in a good manner in case of Bias vs Variance. In other words, the validation set can show the model performance under unmet data, whether overfitting or underfitting so that we can adjust the model parameters accordingly.\n",
    "\n"
   ]
  },
  {
   "cell_type": "markdown",
   "metadata": {},
   "source": [
    "## Q2: Split the dataset into training and test datasets\n",
    "Use random state = 0. "
   ]
  },
  {
   "cell_type": "code",
   "execution_count": 5,
   "metadata": {
    "ExecuteTime": {
     "end_time": "2024-02-11T02:59:10.039225Z",
     "start_time": "2024-02-11T02:59:07.902611Z"
    }
   },
   "outputs": [],
   "source": [
    "from sklearn.model_selection import train_test_split"
   ]
  },
  {
   "cell_type": "code",
   "execution_count": 6,
   "metadata": {
    "ExecuteTime": {
     "end_time": "2024-02-11T02:59:10.039876Z",
     "start_time": "2024-02-11T02:59:10.033971Z"
    }
   },
   "outputs": [],
   "source": [
    "X = df.drop(columns=[\"MEDV\"])  # This will remove the MEDV column from df and assign the result to X\n",
    "y = df[\"MEDV\"]  "
   ]
  },
  {
   "cell_type": "code",
   "execution_count": 7,
   "metadata": {
    "ExecuteTime": {
     "end_time": "2024-02-11T02:59:10.053668Z",
     "start_time": "2024-02-11T02:59:10.046693Z"
    }
   },
   "outputs": [],
   "source": [
    "x_train, x_test, y_train, y_test = train_test_split(X,y, random_state=0)"
   ]
  },
  {
   "cell_type": "markdown",
   "metadata": {},
   "source": [
    "## Q3: Fit a linear regression model to the median house price (MEDV) as a function of all other features. Build a prediction model to predict the median house price given the predictors in the model.\n",
    "\n",
    "Use random state = 0."
   ]
  },
  {
   "cell_type": "code",
   "execution_count": 8,
   "metadata": {
    "ExecuteTime": {
     "end_time": "2024-02-11T02:59:10.285325Z",
     "start_time": "2024-02-11T02:59:10.054922Z"
    }
   },
   "outputs": [
    {
     "data": {
      "text/plain": "LinearRegression()",
      "text/html": "<style>#sk-container-id-1 {color: black;}#sk-container-id-1 pre{padding: 0;}#sk-container-id-1 div.sk-toggleable {background-color: white;}#sk-container-id-1 label.sk-toggleable__label {cursor: pointer;display: block;width: 100%;margin-bottom: 0;padding: 0.3em;box-sizing: border-box;text-align: center;}#sk-container-id-1 label.sk-toggleable__label-arrow:before {content: \"▸\";float: left;margin-right: 0.25em;color: #696969;}#sk-container-id-1 label.sk-toggleable__label-arrow:hover:before {color: black;}#sk-container-id-1 div.sk-estimator:hover label.sk-toggleable__label-arrow:before {color: black;}#sk-container-id-1 div.sk-toggleable__content {max-height: 0;max-width: 0;overflow: hidden;text-align: left;background-color: #f0f8ff;}#sk-container-id-1 div.sk-toggleable__content pre {margin: 0.2em;color: black;border-radius: 0.25em;background-color: #f0f8ff;}#sk-container-id-1 input.sk-toggleable__control:checked~div.sk-toggleable__content {max-height: 200px;max-width: 100%;overflow: auto;}#sk-container-id-1 input.sk-toggleable__control:checked~label.sk-toggleable__label-arrow:before {content: \"▾\";}#sk-container-id-1 div.sk-estimator input.sk-toggleable__control:checked~label.sk-toggleable__label {background-color: #d4ebff;}#sk-container-id-1 div.sk-label input.sk-toggleable__control:checked~label.sk-toggleable__label {background-color: #d4ebff;}#sk-container-id-1 input.sk-hidden--visually {border: 0;clip: rect(1px 1px 1px 1px);clip: rect(1px, 1px, 1px, 1px);height: 1px;margin: -1px;overflow: hidden;padding: 0;position: absolute;width: 1px;}#sk-container-id-1 div.sk-estimator {font-family: monospace;background-color: #f0f8ff;border: 1px dotted black;border-radius: 0.25em;box-sizing: border-box;margin-bottom: 0.5em;}#sk-container-id-1 div.sk-estimator:hover {background-color: #d4ebff;}#sk-container-id-1 div.sk-parallel-item::after {content: \"\";width: 100%;border-bottom: 1px solid gray;flex-grow: 1;}#sk-container-id-1 div.sk-label:hover label.sk-toggleable__label {background-color: #d4ebff;}#sk-container-id-1 div.sk-serial::before {content: \"\";position: absolute;border-left: 1px solid gray;box-sizing: border-box;top: 0;bottom: 0;left: 50%;z-index: 0;}#sk-container-id-1 div.sk-serial {display: flex;flex-direction: column;align-items: center;background-color: white;padding-right: 0.2em;padding-left: 0.2em;position: relative;}#sk-container-id-1 div.sk-item {position: relative;z-index: 1;}#sk-container-id-1 div.sk-parallel {display: flex;align-items: stretch;justify-content: center;background-color: white;position: relative;}#sk-container-id-1 div.sk-item::before, #sk-container-id-1 div.sk-parallel-item::before {content: \"\";position: absolute;border-left: 1px solid gray;box-sizing: border-box;top: 0;bottom: 0;left: 50%;z-index: -1;}#sk-container-id-1 div.sk-parallel-item {display: flex;flex-direction: column;z-index: 1;position: relative;background-color: white;}#sk-container-id-1 div.sk-parallel-item:first-child::after {align-self: flex-end;width: 50%;}#sk-container-id-1 div.sk-parallel-item:last-child::after {align-self: flex-start;width: 50%;}#sk-container-id-1 div.sk-parallel-item:only-child::after {width: 0;}#sk-container-id-1 div.sk-dashed-wrapped {border: 1px dashed gray;margin: 0 0.4em 0.5em 0.4em;box-sizing: border-box;padding-bottom: 0.4em;background-color: white;}#sk-container-id-1 div.sk-label label {font-family: monospace;font-weight: bold;display: inline-block;line-height: 1.2em;}#sk-container-id-1 div.sk-label-container {text-align: center;}#sk-container-id-1 div.sk-container {/* jupyter's `normalize.less` sets `[hidden] { display: none; }` but bootstrap.min.css set `[hidden] { display: none !important; }` so we also need the `!important` here to be able to override the default hidden behavior on the sphinx rendered scikit-learn.org. See: https://github.com/scikit-learn/scikit-learn/issues/21755 */display: inline-block !important;position: relative;}#sk-container-id-1 div.sk-text-repr-fallback {display: none;}</style><div id=\"sk-container-id-1\" class=\"sk-top-container\"><div class=\"sk-text-repr-fallback\"><pre>LinearRegression()</pre><b>In a Jupyter environment, please rerun this cell to show the HTML representation or trust the notebook. <br />On GitHub, the HTML representation is unable to render, please try loading this page with nbviewer.org.</b></div><div class=\"sk-container\" hidden><div class=\"sk-item\"><div class=\"sk-estimator sk-toggleable\"><input class=\"sk-toggleable__control sk-hidden--visually\" id=\"sk-estimator-id-1\" type=\"checkbox\" checked><label for=\"sk-estimator-id-1\" class=\"sk-toggleable__label sk-toggleable__label-arrow\">LinearRegression</label><div class=\"sk-toggleable__content\"><pre>LinearRegression()</pre></div></div></div></div></div>"
     },
     "execution_count": 8,
     "metadata": {},
     "output_type": "execute_result"
    }
   ],
   "source": [
    "from sklearn.linear_model import LinearRegression\n",
    "\n",
    "house_lm = LinearRegression()\n",
    "house_lm.fit(x_train,y_train)"
   ]
  },
  {
   "cell_type": "markdown",
   "metadata": {},
   "source": [
    "## Q4: Apply the model you developed in Q3 on the test dataset."
   ]
  },
  {
   "cell_type": "code",
   "execution_count": 9,
   "metadata": {
    "ExecuteTime": {
     "end_time": "2024-02-11T02:59:11.614646Z",
     "start_time": "2024-02-11T02:59:11.600798Z"
    }
   },
   "outputs": [],
   "source": [
    "y_pred = house_lm.predict(x_test)"
   ]
  },
  {
   "cell_type": "markdown",
   "metadata": {},
   "source": [
    "## Q5: How good did the model perform on the test dataset? Use the LinearRegression.score() function, calculate the MSE, R^2, and Adjusted R^2, and interpret the results."
   ]
  },
  {
   "cell_type": "code",
   "execution_count": 10,
   "metadata": {
    "ExecuteTime": {
     "end_time": "2024-02-11T02:59:14.147393Z",
     "start_time": "2024-02-11T02:59:14.130568Z"
    }
   },
   "outputs": [
    {
     "name": "stdout",
     "output_type": "stream",
     "text": [
      "R^2: 0.8047024244983622\n",
      "MSE: 15.955619635918312\n",
      "Adjusted R^2: 0.3164584857442676\n"
     ]
    }
   ],
   "source": [
    "from sklearn.metrics import mean_squared_error\n",
    "import dmba\n",
    "\n",
    "# Calculate R^2\n",
    "r_squared = house_lm.score(x_test, y_test)\n",
    "\n",
    "# Calculate Mean Squared Error (MSE)\n",
    "mse = mean_squared_error(y_test, y_pred)\n",
    "\n",
    "# Calculate Adjusted R^2\n",
    "n = x_test.shape[0]  # Number of observations\n",
    "p = x_test.shape[1]  # Number of features\n",
    "adjusted_r_squared = 1 - ((1-r_squared) * ((n-1) / (n-p-1)))\n",
    "\n",
    "# Print the results\n",
    "print(f\"R^2: {r_squared}\")\n",
    "print(f\"MSE: {mse}\")\n",
    "print(f\"Adjusted R^2: {adjusted_r_squared}\")"
   ]
  },
  {
   "cell_type": "markdown",
   "metadata": {},
   "source": [
    "If you are on track, your graph might look like this:"
   ]
  },
  {
   "cell_type": "code",
   "execution_count": 11,
   "metadata": {
    "ExecuteTime": {
     "end_time": "2024-02-11T02:59:17.636735Z",
     "start_time": "2024-02-11T02:59:16.268311Z"
    }
   },
   "outputs": [
    {
     "data": {
      "text/plain": "<Figure size 640x480 with 1 Axes>",
      "image/png": "[encoded data removed]"
     },
     "metadata": {},
     "output_type": "display_data"
    }
   ],
   "source": [
    "import matplotlib.pyplot as plt\n",
    "# Comparing true versus predicted values\n",
    "plt.scatter(y_test, y_pred, color='black')\n",
    "plt.title('Comparing true and predicted values for test set')\n",
    "plt.xlabel('True values for y')\n",
    "plt.ylabel('Predicted values for y');"
   ]
  },
  {
   "cell_type": "markdown",
   "metadata": {},
   "source": [
    "* The R^2 value is 0.8047, which means that approximately 80.47% of the variability in the dependent variable (y) can be explained by the independent variable(s) in the model. \n",
    "* The MSE is 15.9556, which is the average squared difference between the predicted values and the actual values. This means that, on average, the predictions are about square(15.9556) units away from the actual values.\n",
    "* The adjusted R^2 is 0.3164, which adjusts the R^2 for the number of predictors in the model relative to the number of data points. It's surprising to see such a low adjusted R^2 compared to the R^2. It makes sense the model using 91 features in total\n",
    "* The graph shows the prediction vs true value, most of the values are followed by the y=x line, indicating the good accuracy of the predictions. However, there are some points in the top-right, which are the highest values around 50, don't demonstrate a good predicted values due to model's incapability of predicting highest values (outliers). \n"
   ]
  },
  {
   "cell_type": "markdown",
   "metadata": {},
   "source": [
    "## Q6: Can regularization improve our metrics? Use Ridge and Lasso, and compare the results.\n",
    "\n",
    "Most of the time there is discrepancy between performance on the training set and the test set, which may be an indication of under- or over-fitting. When suspected, Ridge and Lasso Regression models are used.\n",
    "\n",
    "Ridge regression formula makes predictions the same way as ordinary least squares (linear regression). However in Ridge regression there is a penalty term employed to avoid overfitting, as a result it produces a more restricted model. When Ridge training set score is less than the Linear Regression model training set score, and Ridge test set score is higher than the Linear Regression model test set score, we can conclude that Linear Model is overfitting. If this is the case, you should proceed with Ridge model since it generalizes better (based on the higher test score).\n",
    "\n",
    "Ridge balances model simplicity and training score (The simpler the model, the smaller the training score would be) using parameter alpha. Higher alpha values result in smaller coefficients. You can test multiple alpha values in your analysis.\n",
    "\n",
    "Lasso also has a penalty term, and some features are entirely ignored by the model by setting coefficients of those features to 0. This is helpful in identifying which features are important , and with any reduction in feature size, the model also may become more interpretable."
   ]
  },
  {
   "cell_type": "code",
   "execution_count": 12,
   "metadata": {
    "ExecuteTime": {
     "end_time": "2024-02-11T02:59:19.911055Z",
     "start_time": "2024-02-11T02:59:19.906931Z"
    }
   },
   "outputs": [],
   "source": [
    "from sklearn.linear_model import Ridge, Lasso"
   ]
  },
  {
   "cell_type": "code",
   "execution_count": 20,
   "metadata": {
    "ExecuteTime": {
     "end_time": "2024-02-11T03:07:53.353775Z",
     "start_time": "2024-02-11T03:07:53.336692Z"
    }
   },
   "outputs": [
    {
     "name": "stdout",
     "output_type": "stream",
     "text": [
      "R^2: 0.7521081452840319\n",
      "MSE: 20.25252046540198\n",
      "Adjusted R^2: 0.1323785084941117\n"
     ]
    }
   ],
   "source": [
    "# RIDGE with alpha 1\n",
    "house_lm_ridge = Ridge(alpha= 1)\n",
    "house_lm_ridge.fit(x_train,y_train)\n",
    "\n",
    "ridge_y_pred = house_lm_ridge.predict(x_test)\n",
    "\n",
    "\n",
    "# Calculate R^2\n",
    "r_squared = house_lm_ridge.score(x_test, y_test)\n",
    "\n",
    "# Calculate Mean Squared Error (MSE)\n",
    "mse = mean_squared_error(y_test, ridge_y_pred)\n",
    "\n",
    "# Calculate Adjusted R^2\n",
    "n = x_test.shape[0]  # Number of observations\n",
    "p = x_test.shape[1]  # Number of features\n",
    "# adjusted_r_squared = 1 - ((1-r_squared) * ((n-1) / (n-p-1)))\n",
    "adjusted_r_squared = dmba.adjusted_r2_score(y_test, ridge_y_pred, house_lm_ridge)\n",
    "# Print the results\n",
    "print(f\"R^2: {r_squared}\")\n",
    "print(f\"MSE: {mse}\")\n",
    "print(f\"Adjusted R^2: {adjusted_r_squared}\")"
   ]
  },
  {
   "cell_type": "code",
   "execution_count": 21,
   "metadata": {
    "ExecuteTime": {
     "end_time": "2024-02-11T03:08:16.484129Z",
     "start_time": "2024-02-11T03:08:16.465503Z"
    }
   },
   "outputs": [
    {
     "name": "stdout",
     "output_type": "stream",
     "text": [
      "R^2: 0.8113250152367677\n",
      "MSE: 15.41456049294156\n",
      "Adjusted R^2: 0.33963755332868695\n"
     ]
    }
   ],
   "source": [
    "# RIDGE with alpha 0.001\n",
    "house_lm_ridge = Ridge(alpha= 0.001)\n",
    "house_lm_ridge.fit(x_train,y_train)\n",
    "\n",
    "ridge_y_pred = house_lm_ridge.predict(x_test)\n",
    "\n",
    "# Calculate R^2\n",
    "r_squared = house_lm_ridge.score(x_test, y_test)\n",
    "\n",
    "# Calculate Mean Squared Error (MSE)\n",
    "mse = mean_squared_error(y_test, ridge_y_pred)\n",
    "\n",
    "# Calculate Adjusted R^2\n",
    "n = x_test.shape[0]  # Number of observations\n",
    "p = x_test.shape[1]  # Number of features\n",
    "# adjusted_r_squared = 1 - ((1-r_squared) * ((n-1) / (n-p-1)))\n",
    "adjusted_r_squared =  dmba.adjusted_r2_score(y_test, ridge_y_pred, house_lm_ridge)\n",
    "# Print the results\n",
    "print(f\"R^2: {r_squared}\")\n",
    "print(f\"MSE: {mse}\")\n",
    "print(f\"Adjusted R^2: {adjusted_r_squared}\")"
   ]
  },
  {
   "cell_type": "markdown",
   "metadata": {},
   "source": [
    "Ridge Regression with alpha = 1:\n",
    "\n",
    "* R^2: 0.7521 suggests that the model explains 75.21% of the variance in the dependent variable.\n",
    "* MSE: 20.2525 suggests that the predictions are, on average, squared(20.2525) units away from the actual values.\n",
    "* Adjusted R^2: 0.1324 is significantly lower than the R^2, indicating that when the number of predictors is accounted for, the model does not explain much of the variance. This could be a sign of overfitting despite the regularization.\n",
    "\n",
    "Ridge Regression with alpha = 0.001:\n",
    "* R^2: 0.8113 indicates the model explains 81.13% of the variance, which is a better fit than the model with alpha = 1.\n",
    "* MSE: 15.414 suggests slightly better predictions compared to the alpha = 1 model, with predictions being squared(15.414) units from the actual values.\n",
    "* Adjusted R^2: 0.3396 is higher than for alpha = 1, but still quite low relative to the R^2 value, which again indicates potential overfitting.\n",
    "\n",
    "This discrepancy suggests that the number of predictors might be too high relative to the number of observations, or that there are irrelevant predictors in the model that do not contribute to its predictive power. \n",
    "However, comparing to plain linear regression, based on the given Ridge regression metrics, which indicate a better fit and predictive accuracy than the plain linear regression: \n",
    "\n",
    "* R^2: It has increased from 0.8047 to 0.8113. This indicates that the Ridge regression model with alpha = 0.001 explains more of the variance in the dependent variable than the plain linear regression model.\n",
    "* MSE: It has decreased from 15.9556 to 15.4146. This suggests that the Ridge regression model's predictions are on average closer to the actual values than those of the plain linear regression model.\n",
    "* Adjusted R^2: It has increased from 0.3165 to 0.3396. Even though it is still quite low, the increase indicates that the Ridge regression model might generalize better when the number of predictors is taken into account."
   ]
  },
  {
   "cell_type": "code",
   "execution_count": 70,
   "metadata": {
    "ExecuteTime": {
     "end_time": "2024-02-10T20:37:17.208316Z",
     "start_time": "2024-02-10T20:37:17.191935Z"
    }
   },
   "outputs": [
    {
     "name": "stdout",
     "output_type": "stream",
     "text": [
      "R^2: 0.209375032595166\n",
      "MSE: 64.59328141770018\n",
      "Adjusted R^2: -1.7671873859169192\n"
     ]
    }
   ],
   "source": [
    "# LASSO\n",
    "\n",
    "house_lm_lasso = Lasso(alpha=1)\n",
    "house_lm_lasso.fit(x_train,y_train)\n",
    "\n",
    "lasso_y_pred = house_lm_lasso.predict(x_test)\n",
    "\n",
    "# Calculate R^2\n",
    "r_squared = house_lm_lasso.score(x_test, y_test)\n",
    "\n",
    "# Calculate Mean Squared Error (MSE)\n",
    "mse = mean_squared_error(y_test, lasso_y_pred)\n",
    "\n",
    "# Calculate Adjusted R^2\n",
    "n = x_test.shape[0]  # Number of observations\n",
    "p = x_test.shape[1]  # Number of features\n",
    "adjusted_r_squared = 1 - ((1-r_squared) * ((n-1) / (n-p-1)))\n",
    "\n",
    "# Print the results\n",
    "print(f\"R^2: {r_squared}\")\n",
    "print(f\"MSE: {mse}\")\n",
    "print(f\"Adjusted R^2: {adjusted_r_squared}\")"
   ]
  },
  {
   "cell_type": "code",
   "execution_count": 73,
   "metadata": {
    "ExecuteTime": {
     "end_time": "2024-02-10T20:46:26.164101Z",
     "start_time": "2024-02-10T20:46:24.535408Z"
    }
   },
   "outputs": [
    {
     "name": "stdout",
     "output_type": "stream",
     "text": [
      "R^2: 0.8117375542670064\n",
      "MSE: 15.380856460341292\n",
      "Adjusted R^2: 0.34108143993452256\n"
     ]
    }
   ],
   "source": [
    "# LASSO\n",
    "\n",
    "house_lm_lasso = Lasso(alpha=0.0001, max_iter= 100000)\n",
    "house_lm_lasso.fit(x_train,y_train)\n",
    "\n",
    "lasso_y_pred = house_lm_lasso.predict(x_test)\n",
    "\n",
    "# Calculate R^2\n",
    "r_squared = house_lm_lasso.score(x_test, y_test)\n",
    "\n",
    "# Calculate Mean Squared Error (MSE)\n",
    "mse = mean_squared_error(y_test, lasso_y_pred)\n",
    "\n",
    "# Calculate Adjusted R^2\n",
    "n = x_test.shape[0]  # Number of observations\n",
    "p = x_test.shape[1]  # Number of features\n",
    "adjusted_r_squared = 1 - ((1-r_squared) * ((n-1) / (n-p-1)))\n",
    "\n",
    "# Print the results\n",
    "print(f\"R^2: {r_squared}\")\n",
    "print(f\"MSE: {mse}\")\n",
    "print(f\"Adjusted R^2: {adjusted_r_squared}\")"
   ]
  },
  {
   "cell_type": "markdown",
   "metadata": {},
   "source": [
    "The Lasso model with alpha = 1 has a negative R^2 value, which means that the model is worse than a simple average of the outcome variable. A negative adjusted r squared indicates that the model has no predictive value, and that you should either remove some predictors or try a different model.\n",
    "\n",
    "Comparing to the plain model, the lasso model with alpha = 0.0001 and max_iter= 100000 (Increase the number of iterations: Allow the algorithm more time to find a minimum to avoid instead of showing the model is not convergent). The new Lasso model shows an improvement in all three metrics compared to both the plain linear regression model and the previous Lasso model with the convergence warning. Specifically:\n",
    "* The R^2 has increased slightly from the plain linear regression, indicating that the Lasso model explains a slightly larger proportion of the variance in the dependent variable. This is a sign of a good fit.\n",
    "* The MSE has decreased, which suggests that the Lasso model's predictions are on average slightly closer to the actual values than those of the plain linear regression model.\n",
    "* The Adjusted R^2 has also increased from both the plain linear regression and the previous Lasso model, indicating that when you account for the number of predictors, the new Lasso model fits the data better.\n",
    "\n",
    "The increase in both R^2 and Adjusted R^2, along with the decrease in MSE, indicates that the Lasso model is capturing more of the true signal and possibly reducing overfitting by effectively penalizing and possibly excluding irrelevant features"
   ]
  },
  {
   "cell_type": "markdown",
   "metadata": {},
   "source": [
    "**Assignment 2 Complete!**"
   ]
  }
 ],
 "metadata": {
  "kernelspec": {
   "display_name": "Python 3 (ipykernel)",
   "language": "python",
   "name": "python3"
  },
  "language_info": {
   "codemirror_mode": {
    "name": "ipython",
    "version": 3
   },
   "file_extension": ".py",
   "mimetype": "text/x-python",
   "name": "python",
   "nbconvert_exporter": "python",
   "pygments_lexer": "ipython3",
   "version": "3.11.4"
  }
 },
 "nbformat": 4,
 "nbformat_minor": 4
}
