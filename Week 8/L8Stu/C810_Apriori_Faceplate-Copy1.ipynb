{
 "cells": [
  {
   "cell_type": "markdown",
   "metadata": {},
   "source": [
    "# Phone Faceplates\n",
    "\n",
    "A store that sells accessories for cellular phones runs a promotion on faceplates. Customers who purchase multiple faceplates from a choice of six different colors get a discount. The store managers, who would like to know what colors of faceplates customers are likely to purchase together, collected the transaction database, the data is stored in the Faceplate.csv."
   ]
  },
  {
   "cell_type": "code",
   "execution_count": 16,
   "metadata": {},
   "outputs": [],
   "source": [
    "import pandas as pd\n",
    "import numpy as np\n",
    "from mlxtend.frequent_patterns import apriori\n",
    "from mlxtend.frequent_patterns import association_rules"
   ]
  },
  {
   "cell_type": "code",
   "execution_count": 23,
   "metadata": {},
   "outputs": [
    {
     "name": "stdout",
     "output_type": "stream",
     "text": [
      "               Red  White   Blue  Orange  Green  Yellow\n",
      "Transaction                                            \n",
      "1             True   True  False   False   True   False\n",
      "2            False   True  False    True  False   False\n",
      "3            False   True   True   False  False   False\n",
      "4             True   True  False    True  False   False\n",
      "5             True  False   True   False  False   False\n",
      "6            False   True   True   False  False   False\n",
      "7             True  False   True   False  False   False\n",
      "8             True   True   True   False   True   False\n",
      "9             True   True   True   False  False   False\n",
      "10           False  False  False   False  False    True\n"
     ]
    }
   ],
   "source": [
    "# Load and preprocess data set \n",
    "fp_df = pd.read_csv('data/Faceplate.csv',dtype={\"Red\":bool,\"White\":bool,\"Blue\":bool,\"Orange\":bool,\"Green\":bool,\"Yellow\":bool})\n",
    "fp_df.set_index('Transaction', inplace=True)\n",
    "print(fp_df)"
   ]
  },
  {
   "cell_type": "code",
   "execution_count": 24,
   "metadata": {},
   "outputs": [
    {
     "name": "stdout",
     "output_type": "stream",
     "text": [
      "<class 'pandas.core.frame.DataFrame'>\n",
      "Int64Index: 10 entries, 1 to 10\n",
      "Data columns (total 6 columns):\n",
      " #   Column  Non-Null Count  Dtype\n",
      "---  ------  --------------  -----\n",
      " 0   Red     10 non-null     bool \n",
      " 1   White   10 non-null     bool \n",
      " 2   Blue    10 non-null     bool \n",
      " 3   Orange  10 non-null     bool \n",
      " 4   Green   10 non-null     bool \n",
      " 5   Yellow  10 non-null     bool \n",
      "dtypes: bool(6)\n",
      "memory usage: 140.0 bytes\n"
     ]
    }
   ],
   "source": [
    "fp_df.info()"
   ]
  },
  {
   "cell_type": "markdown",
   "metadata": {},
   "source": [
    "### ```apriori()```\n",
    "Apriori function to extract frequent itemsets for association rule mining\n",
    "\n",
    "http://rasbt.github.io/mlxtend/user_guide/frequent_patterns/apriori/\n",
    "\n",
    "```min_support = transactions_where_item(s)_occur / total_transactions.```"
   ]
  },
  {
   "cell_type": "code",
   "execution_count": 25,
   "metadata": {
    "scrolled": true
   },
   "outputs": [
    {
     "name": "stdout",
     "output_type": "stream",
     "text": [
      "    support             itemsets  length\n",
      "0       0.6                (Red)       1\n",
      "1       0.7              (White)       1\n",
      "2       0.6               (Blue)       1\n",
      "3       0.2             (Orange)       1\n",
      "4       0.2              (Green)       1\n",
      "5       0.4         (Red, White)       2\n",
      "6       0.4          (Red, Blue)       2\n",
      "7       0.2         (Red, Green)       2\n",
      "8       0.4        (White, Blue)       2\n",
      "9       0.2      (Orange, White)       2\n",
      "10      0.2       (White, Green)       2\n",
      "11      0.2   (Red, Blue, White)       3\n",
      "12      0.2  (Red, Green, White)       3\n",
      "(13, 3)\n"
     ]
    }
   ],
   "source": [
    "# create frequent itemsets\n",
    "itemsets = apriori(fp_df, min_support=0.2, use_colnames=True)\n",
    "itemsets['length'] = itemsets['itemsets'].apply(lambda x: len(x))\n",
    "print(itemsets)\n",
    "#print (itemsets.sort_values(by='support',ascending=False))\n",
    "print (itemsets.shape)"
   ]
  },
  {
   "cell_type": "code",
   "execution_count": 26,
   "metadata": {},
   "outputs": [
    {
     "data": {
      "text/html": [
       "<div>\n",
       "<style scoped>\n",
       "    .dataframe tbody tr th:only-of-type {\n",
       "        vertical-align: middle;\n",
       "    }\n",
       "\n",
       "    .dataframe tbody tr th {\n",
       "        vertical-align: top;\n",
       "    }\n",
       "\n",
       "    .dataframe thead th {\n",
       "        text-align: right;\n",
       "    }\n",
       "</style>\n",
       "<table border=\"1\" class=\"dataframe\">\n",
       "  <thead>\n",
       "    <tr style=\"text-align: right;\">\n",
       "      <th></th>\n",
       "      <th>support</th>\n",
       "      <th>itemsets</th>\n",
       "      <th>length</th>\n",
       "    </tr>\n",
       "  </thead>\n",
       "  <tbody>\n",
       "    <tr>\n",
       "      <th>5</th>\n",
       "      <td>0.4</td>\n",
       "      <td>(Red, White)</td>\n",
       "      <td>2</td>\n",
       "    </tr>\n",
       "    <tr>\n",
       "      <th>6</th>\n",
       "      <td>0.4</td>\n",
       "      <td>(Red, Blue)</td>\n",
       "      <td>2</td>\n",
       "    </tr>\n",
       "    <tr>\n",
       "      <th>8</th>\n",
       "      <td>0.4</td>\n",
       "      <td>(White, Blue)</td>\n",
       "      <td>2</td>\n",
       "    </tr>\n",
       "  </tbody>\n",
       "</table>\n",
       "</div>"
      ],
      "text/plain": [
       "   support       itemsets  length\n",
       "5      0.4   (Red, White)       2\n",
       "6      0.4    (Red, Blue)       2\n",
       "8      0.4  (White, Blue)       2"
      ]
     },
     "execution_count": 26,
     "metadata": {},
     "output_type": "execute_result"
    }
   ],
   "source": [
    "itemsets[ (itemsets['length'] == 2) &\n",
    "                   (itemsets['support'] >= 0.3) ]"
   ]
  },
  {
   "cell_type": "markdown",
   "metadata": {},
   "source": [
    "### ```association_rules```\n",
    "Function to generate association rules from frequent itemsets\n",
    "\n",
    "\n",
    "https://rasbt.github.io/mlxtend/user_guide/frequent_patterns/association_rules/\n",
    "\n",
    "\n",
    "#### Supported Metrics \n",
    "\n",
    "The **support** metric is defined for itemsets, not assocication rules. The table produced by the association rule mining algorithm contains three different support metrics: 'antecedent support', 'consequent support', and 'support'. Here, 'antecedent support' computes the proportion of transactions that contain the antecedent A, and 'consequent support' computes the support for the itemset of the consequent C. The 'support' metric then computes the support of the combined itemset A ∪ C -- note that 'support' depends on 'antecedent support' and 'consequent support' via min('antecedent support','consequent support').\n",
    "\n",
    "Typically, support is used to measure the abundance or frequency (often interpreted as significance or importance) of an itemset in a database. We refer to an itemset as a \"frequent itemset\" if you support is larger than a specified minimum-support threshold. Note that in general, due to the downward closure property, all subsets of a frequent itemset are also frequent.\n",
    "\n",
    "The **confidence** of a rule A->C is the probability of seeing the consequent in a transaction given that it also contains the antecedent. Note that the metric is not symmetric or directed; for instance, the confidence for A->C is different than the confidence for C->A. The confidence is 1 (maximal) for a rule A->C if the consequent and antecedent always occur together. \n",
    "\n",
    "The **lift** metric is commonly used to measure how much more often the antecedent and consequent of a rule A->C occur together than we would expect if they were statistically independent. If A and C are independent, the Lift score will be exactly 1.\n",
    "\n",
    "**Leverage** computes the difference between the observed frequency of A and C appearing together and the frequency that would be expected if A and C were independent. A leverage value of 0 indicates independence.\n",
    "\n",
    "A high **conviction** value means that the consequent is highly depending on the antecedent. For instance, in the case of a perfect confidence score, the denominator becomes 0 (due to 1 - 1) for which the conviction score is defined as 'inf'. Similar to lift, if items are independent, the conviction is 1."
   ]
  },
  {
   "cell_type": "code",
   "execution_count": 27,
   "metadata": {},
   "outputs": [
    {
     "name": "stdout",
     "output_type": "stream",
     "text": [
      "       antecedents     consequents  support  confidence      lift  leverage  \\\n",
      "22         (Green)    (Red, White)      0.2    1.000000  2.500000      0.12   \n",
      "19    (Red, White)         (Green)      0.2    0.500000  2.500000      0.12   \n",
      "4            (Red)         (Green)      0.2    0.333333  1.666667      0.08   \n",
      "5          (Green)           (Red)      0.2    1.000000  1.666667      0.08   \n",
      "21           (Red)  (Green, White)      0.2    0.333333  1.666667      0.08   \n",
      "20  (Green, White)           (Red)      0.2    1.000000  1.666667      0.08   \n",
      "\n",
      "    zhangs_metric  \n",
      "22           0.75  \n",
      "19           1.00  \n",
      "4            1.00  \n",
      "5            0.50  \n",
      "21           1.00  \n",
      "20           0.50  \n"
     ]
    }
   ],
   "source": [
    "# convert into rules\n",
    "rules = association_rules(itemsets, metric='lift', min_threshold=0.5)\n",
    "rules.sort_values(by=['lift'], ascending=False).head(6)\n",
    "print(rules.sort_values(by=['lift'], ascending=False)\n",
    "      .drop(columns=['antecedent support'\n",
    "                     ,'consequent support'\n",
    "                     , 'conviction'])\n",
    "      .head(6))"
   ]
  },
  {
   "cell_type": "markdown",
   "metadata": {},
   "source": [
    "**Rule #21:** if green, then white and red,” meaning that if a green faceplate is purchased, a white and a red one are purchased as well. Here the antecedent is green and the consequent is white and red.  \n",
    "\n",
    "**Rule #4:** If green is purchased, then with confidence 100% red will also be purchased. This rule has a lift ratio of 1.66."
   ]
  }
 ],
 "metadata": {
  "kernelspec": {
   "display_name": "Python 3 (ipykernel)",
   "language": "python",
   "name": "python3"
  },
  "language_info": {
   "codemirror_mode": {
    "name": "ipython",
    "version": 3
   },
   "file_extension": ".py",
   "mimetype": "text/x-python",
   "name": "python",
   "nbconvert_exporter": "python",
   "pygments_lexer": "ipython3",
   "version": "3.10.13"
  }
 },
 "nbformat": 4,
 "nbformat_minor": 4
}
