{
 "cells": [
  {
   "cell_type": "markdown",
   "metadata": {},
   "source": [
    "# Assignment 3: Clustering using decision trees and logistic regression\n",
    "\n",
    "\n",
    "\n",
    "**Objective**: In this assignment we will classification models using sklearn. Next, we will apply regularization to avoid under- and over-fitting. \n",
    "\n",
    "\n",
    "Please do not share this material on any platform or by any other means.\n",
    "\n",
    "Important Notes:\n",
    "\n",
    "    Make changes to the cells that have # YOUR CODE HERE or # YOUR COMMENT HERE.Do not write your answer in anywhere else other than where it says YOUR CODE HERE (or YOUR COMMENT HERE).\n",
    "\n",
    "    Your code must run without any errors start to end. Please go to menubar, select Kernel, and restart the kernel and run all cells (Restart & Run all) before submitting your work.\n",
    "\n",
    "    Purpose of the assignment is to assess your knowledge and command of the data mining algorithms, python programming language, and your ability to resolve common errors. Grading is based on the code and your interpretation/comments you are submitting, not the formatting of the results.\n",
    "\n",
    "    Please use the examples as a guideline, you are not expected to have the same formatting as the example, unless it is a formatting question.\n",
    "\n",
    "Remember, there are many ways to code that can lead to the correct answer, do not hesitate to exercise your own style and python programming coventions."
   ]
  },
  {
   "cell_type": "markdown",
   "metadata": {},
   "source": [
    "## BioText Monitor: Text-Based Wildlife Classification for Ecosystem Research\n",
    "\n",
    "BioText Monitor is a cutting-edge initiative aimed at enhancing wildlife research and conservation efforts through advanced text data analysis. Developed by a team of ecologists, data scientists, and conservationists, this project leverages text-based data to classify animals into broad categories for further ecological study and conservation planning.\n",
    "\n",
    "The diverse and complex nature of ecosystems poses a significant challenge in accurately identifying and classifying a vast range of animal species. Traditional methods rely heavily on visual or audio data, which can be limited by environmental conditions and the presence of rare species. Text-based data, such as field notes, research reports, and local sightings, provide an additional, rich source of information that is often underutilized.\n",
    "\n",
    "An NLP model developed by another team created datasets that you will use to build a model to classify animals as mammal or no. This model then will be a preliminary step in a larger AI model in a comprehensive ecological study. \n",
    "\n",
    "Let's get started!\n",
    "\n",
    "Classification is the task of predicting a nominal-valued class labels (dependent variable) based on the values of other attributes (independent or predictor variables).\n",
    "\n",
    "Our dataset consists of 7 predictor variables, and a target class. We will be using this dataset to classify whether an observation is a mamal or not. Let's import our dataset and observe the features. "
   ]
  },
  {
   "cell_type": "code",
   "execution_count": 14,
   "metadata": {
    "ExecuteTime": {
     "end_time": "2024-02-15T21:05:53.759339Z",
     "start_time": "2024-02-15T21:05:53.744472Z"
    }
   },
   "outputs": [],
   "source": [
    "import pandas as pd\n",
    "df = pd.read_csv('mamalOrNot_TrainingData.csv',header='infer')"
   ]
  },
  {
   "cell_type": "markdown",
   "metadata": {},
   "source": [
    "#### Understanding the dataset"
   ]
  },
  {
   "cell_type": "code",
   "execution_count": 15,
   "metadata": {
    "ExecuteTime": {
     "end_time": "2024-02-15T21:05:54.792422Z",
     "start_time": "2024-02-15T21:05:54.780319Z"
    }
   },
   "outputs": [
    {
     "data": {
      "text/plain": "     Name  Warm-blooded  Gives Birth  Aquatic Creature  Aerial Creature  \\\n0   human             1            1                 0                0   \n1  python             0            0                 0                0   \n2  salmon             0            0                 1                0   \n3   whale             1            1                 1                0   \n4    frog             0            0                 1                0   \n\n   Has Legs  Hibernates        Class  \n0         1           0      mammals  \n1         0           1  non-mammals  \n2         0           0  non-mammals  \n3         0           0      mammals  \n4         1           1  non-mammals  ",
      "text/html": "<div>\n<style scoped>\n    .dataframe tbody tr th:only-of-type {\n        vertical-align: middle;\n    }\n\n    .dataframe tbody tr th {\n        vertical-align: top;\n    }\n\n    .dataframe thead th {\n        text-align: right;\n    }\n</style>\n<table border=\"1\" class=\"dataframe\">\n  <thead>\n    <tr style=\"text-align: right;\">\n      <th></th>\n      <th>Name</th>\n      <th>Warm-blooded</th>\n      <th>Gives Birth</th>\n      <th>Aquatic Creature</th>\n      <th>Aerial Creature</th>\n      <th>Has Legs</th>\n      <th>Hibernates</th>\n      <th>Class</th>\n    </tr>\n  </thead>\n  <tbody>\n    <tr>\n      <th>0</th>\n      <td>human</td>\n      <td>1</td>\n      <td>1</td>\n      <td>0</td>\n      <td>0</td>\n      <td>1</td>\n      <td>0</td>\n      <td>mammals</td>\n    </tr>\n    <tr>\n      <th>1</th>\n      <td>python</td>\n      <td>0</td>\n      <td>0</td>\n      <td>0</td>\n      <td>0</td>\n      <td>0</td>\n      <td>1</td>\n      <td>non-mammals</td>\n    </tr>\n    <tr>\n      <th>2</th>\n      <td>salmon</td>\n      <td>0</td>\n      <td>0</td>\n      <td>1</td>\n      <td>0</td>\n      <td>0</td>\n      <td>0</td>\n      <td>non-mammals</td>\n    </tr>\n    <tr>\n      <th>3</th>\n      <td>whale</td>\n      <td>1</td>\n      <td>1</td>\n      <td>1</td>\n      <td>0</td>\n      <td>0</td>\n      <td>0</td>\n      <td>mammals</td>\n    </tr>\n    <tr>\n      <th>4</th>\n      <td>frog</td>\n      <td>0</td>\n      <td>0</td>\n      <td>1</td>\n      <td>0</td>\n      <td>1</td>\n      <td>1</td>\n      <td>non-mammals</td>\n    </tr>\n  </tbody>\n</table>\n</div>"
     },
     "execution_count": 15,
     "metadata": {},
     "output_type": "execute_result"
    }
   ],
   "source": [
    "df.head()"
   ]
  },
  {
   "cell_type": "code",
   "execution_count": 16,
   "metadata": {
    "ExecuteTime": {
     "end_time": "2024-02-15T21:05:55.155772Z",
     "start_time": "2024-02-15T21:05:55.136217Z"
    }
   },
   "outputs": [
    {
     "data": {
      "text/plain": "array(['mammals', 'non-mammals'], dtype=object)"
     },
     "execution_count": 16,
     "metadata": {},
     "output_type": "execute_result"
    }
   ],
   "source": [
    "df.Class.unique()"
   ]
  },
  {
   "cell_type": "code",
   "execution_count": 17,
   "metadata": {
    "ExecuteTime": {
     "end_time": "2024-02-15T21:05:55.544509Z",
     "start_time": "2024-02-15T21:05:55.489920Z"
    }
   },
   "outputs": [
    {
     "data": {
      "text/plain": "(15, 8)"
     },
     "execution_count": 17,
     "metadata": {},
     "output_type": "execute_result"
    }
   ],
   "source": [
    "df.shape"
   ]
  },
  {
   "cell_type": "markdown",
   "metadata": {},
   "source": [
    "Our dataset has 8 features in total, 7 independent (Name,Warm-blooded,Gives Birth,Aquatic Creature,Aerial Creature,Has Legs,Hibernates) and 1 dependent feature (Class). Class has two options, mamals and non-mamals. We have 15 observations in our dataset. Let's read in our test dataset as well. "
   ]
  },
  {
   "cell_type": "code",
   "execution_count": 18,
   "metadata": {
    "ExecuteTime": {
     "end_time": "2024-02-15T21:05:56.745625Z",
     "start_time": "2024-02-15T21:05:56.712552Z"
    }
   },
   "outputs": [
    {
     "data": {
      "text/plain": "           Name  Warm-blooded  Gives Birth  Aquatic Creature  Aerial Creature  \\\n0  gila monster             0            0                 0                0   \n1      platypus             1            0                 0                0   \n2           owl             1            0                 0                1   \n3       dolphin             1            1                 1                0   \n\n   Has Legs  Hibernates        Class  \n0         1           1  non-mammals  \n1         1           1      mammals  \n2         1           0  non-mammals  \n3         0           0      mammals  ",
      "text/html": "<div>\n<style scoped>\n    .dataframe tbody tr th:only-of-type {\n        vertical-align: middle;\n    }\n\n    .dataframe tbody tr th {\n        vertical-align: top;\n    }\n\n    .dataframe thead th {\n        text-align: right;\n    }\n</style>\n<table border=\"1\" class=\"dataframe\">\n  <thead>\n    <tr style=\"text-align: right;\">\n      <th></th>\n      <th>Name</th>\n      <th>Warm-blooded</th>\n      <th>Gives Birth</th>\n      <th>Aquatic Creature</th>\n      <th>Aerial Creature</th>\n      <th>Has Legs</th>\n      <th>Hibernates</th>\n      <th>Class</th>\n    </tr>\n  </thead>\n  <tbody>\n    <tr>\n      <th>0</th>\n      <td>gila monster</td>\n      <td>0</td>\n      <td>0</td>\n      <td>0</td>\n      <td>0</td>\n      <td>1</td>\n      <td>1</td>\n      <td>non-mammals</td>\n    </tr>\n    <tr>\n      <th>1</th>\n      <td>platypus</td>\n      <td>1</td>\n      <td>0</td>\n      <td>0</td>\n      <td>0</td>\n      <td>1</td>\n      <td>1</td>\n      <td>mammals</td>\n    </tr>\n    <tr>\n      <th>2</th>\n      <td>owl</td>\n      <td>1</td>\n      <td>0</td>\n      <td>0</td>\n      <td>1</td>\n      <td>1</td>\n      <td>0</td>\n      <td>non-mammals</td>\n    </tr>\n    <tr>\n      <th>3</th>\n      <td>dolphin</td>\n      <td>1</td>\n      <td>1</td>\n      <td>1</td>\n      <td>0</td>\n      <td>0</td>\n      <td>0</td>\n      <td>mammals</td>\n    </tr>\n  </tbody>\n</table>\n</div>"
     },
     "execution_count": 18,
     "metadata": {},
     "output_type": "execute_result"
    }
   ],
   "source": [
    "df_test = pd.read_csv('mamalOrNot_TestData.csv',header='infer')\n",
    "df_test.head()"
   ]
  },
  {
   "cell_type": "code",
   "execution_count": 19,
   "metadata": {
    "ExecuteTime": {
     "end_time": "2024-02-15T21:06:00.255447Z",
     "start_time": "2024-02-15T21:06:00.249361Z"
    }
   },
   "outputs": [
    {
     "data": {
      "text/plain": "(4, 8)"
     },
     "execution_count": 19,
     "metadata": {},
     "output_type": "execute_result"
    }
   ],
   "source": [
    "df_test.shape"
   ]
  },
  {
   "cell_type": "markdown",
   "metadata": {},
   "source": [
    "Our test data also has 8 features, and it consists of 4 observations. \n",
    "\n",
    "Let's look at the relationship between \"Warm-blooded\" and \"Gives Birth\", can these attributes help us solve our classification problem?"
   ]
  },
  {
   "cell_type": "code",
   "execution_count": null,
   "metadata": {},
   "outputs": [],
   "source": [
    "pd.crosstab([df['Warm-blooded'],df['Gives Birth']],df['Class'])"
   ]
  },
  {
   "cell_type": "markdown",
   "metadata": {},
   "source": [
    "The result shows the \"Warm-blooded\" and \"Gives Birth\" features are able to distinctly classify the mamals and non-mamals into different classes. \n",
    "\n",
    "\n",
    "Let's use a decision classifier and interpret the results."
   ]
  },
  {
   "cell_type": "markdown",
   "metadata": {},
   "source": [
    "## Q1: Create an instance of Decision Tree Classifier, set max_depth = 1.\n",
    "\n",
    "Fill in the below code, and fit the dataset to the model. "
   ]
  },
  {
   "cell_type": "code",
   "execution_count": null,
   "metadata": {},
   "outputs": [],
   "source": [
    "from sklearn.tree import DecisionTreeClassifier\n",
    "\n",
    "y_train = df[\"Class\"]\n",
    "x_train = df.drop(['Name','Class'],axis=1)\n",
    "\n",
    "clf = DecisionTreeClassifier(criterion='entropy',random_state=0, max_depth= 1)\n",
    "clf.fit(x_train, y_train)"
   ]
  },
  {
   "cell_type": "markdown",
   "metadata": {},
   "source": [
    "#### What are the parameters of our clf object?"
   ]
  },
  {
   "cell_type": "code",
   "execution_count": null,
   "metadata": {},
   "outputs": [],
   "source": [
    "clf.__init__"
   ]
  },
  {
   "cell_type": "markdown",
   "metadata": {},
   "source": [
    "### Plotting decision trees\n",
    "\n",
    "An advantage of decision trees is that we can use a decision tree plot to visualize the rules developed by the tree. If you don't already have graphviz and pydotplus, please download using \"pip install\" with library name (more about these libraries at http://www.graphviz.org and http://pydotplus.readthedocs.io/)"
   ]
  },
  {
   "cell_type": "code",
   "execution_count": null,
   "metadata": {},
   "outputs": [],
   "source": [
    "import pydotplus \n",
    "from IPython.display import Image\n",
    "from sklearn import tree\n",
    "dot_data = tree.export_graphviz(clf, feature_names=x_train.columns\n",
    "                , class_names=['mammals','non-mammals'],filled=True) \n",
    "graph = pydotplus.graph_from_dot_data(dot_data) \n",
    "Image(graph.create_png())"
   ]
  },
  {
   "cell_type": "markdown",
   "metadata": {},
   "source": [
    "## Q2: Create an instance of Decision Tree Classifier, with max_depth=3. \n",
    "\n",
    "Discuss the results, what is different about the decision tree, and why?"
   ]
  },
  {
   "cell_type": "code",
   "execution_count": 12,
   "metadata": {
    "ExecuteTime": {
     "end_time": "2024-02-15T21:01:31.289509Z",
     "start_time": "2024-02-15T21:01:31.258989Z"
    }
   },
   "outputs": [
    {
     "data": {
      "text/plain": "DecisionTreeClassifier(criterion='entropy', max_depth=3, random_state=0)",
      "text/html": "<style>#sk-container-id-2 {color: black;}#sk-container-id-2 pre{padding: 0;}#sk-container-id-2 div.sk-toggleable {background-color: white;}#sk-container-id-2 label.sk-toggleable__label {cursor: pointer;display: block;width: 100%;margin-bottom: 0;padding: 0.3em;box-sizing: border-box;text-align: center;}#sk-container-id-2 label.sk-toggleable__label-arrow:before {content: \"▸\";float: left;margin-right: 0.25em;color: #696969;}#sk-container-id-2 label.sk-toggleable__label-arrow:hover:before {color: black;}#sk-container-id-2 div.sk-estimator:hover label.sk-toggleable__label-arrow:before {color: black;}#sk-container-id-2 div.sk-toggleable__content {max-height: 0;max-width: 0;overflow: hidden;text-align: left;background-color: #f0f8ff;}#sk-container-id-2 div.sk-toggleable__content pre {margin: 0.2em;color: black;border-radius: 0.25em;background-color: #f0f8ff;}#sk-container-id-2 input.sk-toggleable__control:checked~div.sk-toggleable__content {max-height: 200px;max-width: 100%;overflow: auto;}#sk-container-id-2 input.sk-toggleable__control:checked~label.sk-toggleable__label-arrow:before {content: \"▾\";}#sk-container-id-2 div.sk-estimator input.sk-toggleable__control:checked~label.sk-toggleable__label {background-color: #d4ebff;}#sk-container-id-2 div.sk-label input.sk-toggleable__control:checked~label.sk-toggleable__label {background-color: #d4ebff;}#sk-container-id-2 input.sk-hidden--visually {border: 0;clip: rect(1px 1px 1px 1px);clip: rect(1px, 1px, 1px, 1px);height: 1px;margin: -1px;overflow: hidden;padding: 0;position: absolute;width: 1px;}#sk-container-id-2 div.sk-estimator {font-family: monospace;background-color: #f0f8ff;border: 1px dotted black;border-radius: 0.25em;box-sizing: border-box;margin-bottom: 0.5em;}#sk-container-id-2 div.sk-estimator:hover {background-color: #d4ebff;}#sk-container-id-2 div.sk-parallel-item::after {content: \"\";width: 100%;border-bottom: 1px solid gray;flex-grow: 1;}#sk-container-id-2 div.sk-label:hover label.sk-toggleable__label {background-color: #d4ebff;}#sk-container-id-2 div.sk-serial::before {content: \"\";position: absolute;border-left: 1px solid gray;box-sizing: border-box;top: 0;bottom: 0;left: 50%;z-index: 0;}#sk-container-id-2 div.sk-serial {display: flex;flex-direction: column;align-items: center;background-color: white;padding-right: 0.2em;padding-left: 0.2em;position: relative;}#sk-container-id-2 div.sk-item {position: relative;z-index: 1;}#sk-container-id-2 div.sk-parallel {display: flex;align-items: stretch;justify-content: center;background-color: white;position: relative;}#sk-container-id-2 div.sk-item::before, #sk-container-id-2 div.sk-parallel-item::before {content: \"\";position: absolute;border-left: 1px solid gray;box-sizing: border-box;top: 0;bottom: 0;left: 50%;z-index: -1;}#sk-container-id-2 div.sk-parallel-item {display: flex;flex-direction: column;z-index: 1;position: relative;background-color: white;}#sk-container-id-2 div.sk-parallel-item:first-child::after {align-self: flex-end;width: 50%;}#sk-container-id-2 div.sk-parallel-item:last-child::after {align-self: flex-start;width: 50%;}#sk-container-id-2 div.sk-parallel-item:only-child::after {width: 0;}#sk-container-id-2 div.sk-dashed-wrapped {border: 1px dashed gray;margin: 0 0.4em 0.5em 0.4em;box-sizing: border-box;padding-bottom: 0.4em;background-color: white;}#sk-container-id-2 div.sk-label label {font-family: monospace;font-weight: bold;display: inline-block;line-height: 1.2em;}#sk-container-id-2 div.sk-label-container {text-align: center;}#sk-container-id-2 div.sk-container {/* jupyter's `normalize.less` sets `[hidden] { display: none; }` but bootstrap.min.css set `[hidden] { display: none !important; }` so we also need the `!important` here to be able to override the default hidden behavior on the sphinx rendered scikit-learn.org. See: https://github.com/scikit-learn/scikit-learn/issues/21755 */display: inline-block !important;position: relative;}#sk-container-id-2 div.sk-text-repr-fallback {display: none;}</style><div id=\"sk-container-id-2\" class=\"sk-top-container\"><div class=\"sk-text-repr-fallback\"><pre>DecisionTreeClassifier(criterion=&#x27;entropy&#x27;, max_depth=3, random_state=0)</pre><b>In a Jupyter environment, please rerun this cell to show the HTML representation or trust the notebook. <br />On GitHub, the HTML representation is unable to render, please try loading this page with nbviewer.org.</b></div><div class=\"sk-container\" hidden><div class=\"sk-item\"><div class=\"sk-estimator sk-toggleable\"><input class=\"sk-toggleable__control sk-hidden--visually\" id=\"sk-estimator-id-2\" type=\"checkbox\" checked><label for=\"sk-estimator-id-2\" class=\"sk-toggleable__label sk-toggleable__label-arrow\">DecisionTreeClassifier</label><div class=\"sk-toggleable__content\"><pre>DecisionTreeClassifier(criterion=&#x27;entropy&#x27;, max_depth=3, random_state=0)</pre></div></div></div></div></div>"
     },
     "execution_count": 12,
     "metadata": {},
     "output_type": "execute_result"
    }
   ],
   "source": [
    "clf_depth3 = DecisionTreeClassifier(criterion='entropy',random_state=0, max_depth= 3)\n",
    "clf_depth3.fit(x_train, y_train)"
   ]
  },
  {
   "cell_type": "markdown",
   "source": [],
   "metadata": {
    "collapsed": false
   }
  },
  {
   "cell_type": "markdown",
   "source": [
    "Depth of the trees:\n",
    "* In the first tree, there is only one split based on the feature \"Gives Birth <= 0.5\". This means the tree only considers whether an animal gives birth or not to classify it as a mammal or non-mammal.\n",
    "* The second tree is deeper and includes an additional split based on the feature \"Warm-blooded <= 0.5\" within the 'False' branch of the first split. This means that for animals that do not give birth, the tree further classifies them based on whether they are warm-blooded or not.\n",
    "\n",
    "Entropy: \n",
    "* In the first tree, the 'False' branch after the first split has an entropy of 0.65, indicating some impurity. In the second tree, this branch is further split by the \"Warm-blooded\" feature, creating two new branches, each with an entropy of 0, indicating that they are perfectly pure.\n",
    "\n",
    "Samples and Values:\n",
    "* In the first tree, the 'False' branch shows that there are 6 samples, 5 of which are mammals and 1 non-mammal, leading to the entropy of 0.65.\n",
    "* In the second tree, the 'False' branch is further split into two nodes: one with 1 non-mammal (warm-blooded but doesn't give birth) and another with 5 mammals (doesn't give birth and isn't warm-blooded).\n",
    "\n",
    "Classification Accuracy and Overfitting:\n",
    "* The first tree is a very simple model and might be too generalized; it may not perform well if the data has more complex patterns.\n",
    "* The second tree is more complex and may fit the training data better, but there is a risk of overfitting, where the model is too tailored to the training data and may not generalize well to unseen data.\n",
    "\n",
    "Decision Rules: \n",
    "* The first tree only uses one rule: if an animal does not give birth, it's classified as a mammal; otherwise, it's a non-mammal.\n",
    "* The second tree uses two rules: if an animal does not give birth, it's further checked if it's warm-blooded to decide if it's a mammal or non-mammal."
   ],
   "metadata": {
    "collapsed": false
   }
  },
  {
   "cell_type": "markdown",
   "metadata": {},
   "source": [
    "## Q3: Create a new decision tree plot of your model in Q2.2\n"
   ]
  },
  {
   "cell_type": "code",
   "execution_count": 13,
   "metadata": {
    "ExecuteTime": {
     "end_time": "2024-02-15T21:01:36.147129Z",
     "start_time": "2024-02-15T21:01:35.350302Z"
    }
   },
   "outputs": [
    {
     "data": {
      "image/png": "[encoded data removed]",
      "text/plain": "<IPython.core.display.Image object>"
     },
     "execution_count": 13,
     "metadata": {},
     "output_type": "execute_result"
    }
   ],
   "source": [
    "dot_data = tree.export_graphviz(clf_depth3, feature_names=x_train.columns\n",
    "                , class_names=['mammals','non-mammals'],filled=True) \n",
    "graph = pydotplus.graph_from_dot_data(dot_data) \n",
    "Image(graph.create_png())"
   ]
  },
  {
   "cell_type": "markdown",
   "metadata": {},
   "source": [
    "## Q4: Test the decision tree performance on the test set. Use the model from Q2. \n",
    "\n",
    "Discuss the results."
   ]
  },
  {
   "cell_type": "code",
   "execution_count": 20,
   "metadata": {
    "ExecuteTime": {
     "end_time": "2024-02-15T21:07:12.845292Z",
     "start_time": "2024-02-15T21:07:12.820017Z"
    }
   },
   "outputs": [],
   "source": [
    "y_test = df_test[\"Class\"]\n",
    "x_test = df_test.drop(['Name','Class'],axis=1)\n",
    "\n",
    "y_pred = clf_depth3.predict(x_test)"
   ]
  },
  {
   "cell_type": "code",
   "execution_count": 24,
   "outputs": [
    {
     "name": "stdout",
     "output_type": "stream",
     "text": [
      "[[1 1]\n",
      " [0 2]]\n"
     ]
    }
   ],
   "source": [
    "from sklearn.metrics import confusion_matrix\n",
    "\n",
    "cm = confusion_matrix(y_test, y_pred)\n",
    "\n",
    "print(cm)"
   ],
   "metadata": {
    "collapsed": false,
    "ExecuteTime": {
     "end_time": "2024-02-15T21:17:53.434671Z",
     "start_time": "2024-02-15T21:17:53.411629Z"
    }
   }
  },
  {
   "cell_type": "markdown",
   "source": [
    "The confusion represents the performance of the model testing on the test data. The top-left is TN, top-right is FP, bottom-left is FN, and bottom-right is TP, where the positive represents \"mammals\" class and negative represents \"non-mammals\" class.\n",
    "<br>\n",
    "The model has an accuracy of 75%. This means it correctly predicts 75% of the instances, whether they are mammals or non-mammals. The recall for the \"mammals\" class is 100%, which means the model is excellent at identifying all mammal instances without missing any. The precision for the \"mammals\" class is 67%, which indicates that when the model predicts an instance as a mammal, it is correct 67% of the time.\n",
    "<br>\n",
    "The model demonstrates strong capability in identifying mammals (high recall) but has room for improvement in distinguishing non-mammals from mammals, as evidenced by the false positive rate. However, the data size either for training or for testing is small. Thus, we need more data to check model performance."
   ],
   "metadata": {
    "collapsed": false
   }
  },
  {
   "cell_type": "markdown",
   "metadata": {},
   "source": [
    "## HealthScan AI: Enhancing Breast Cancer Diagnosis Accuracy\n",
    "\n",
    "HealthScan AI is an innovative project undertaken by a consortium of medical researchers, data scientists, and healthcare providers. The project's aim is to develop an advanced machine learning model to improve the accuracy of breast cancer diagnosis, specifically in classifying tumors as benign or malignant. This initiative is particularly crucial in early-stage cancer detection, where accurate diagnosis can significantly impact treatment outcomes and patient survival rates.\n",
    "\n",
    "Breast cancer diagnosis often relies on mammograms, biopsies, and medical imaging, which sometimes yield ambiguous or inconclusive results. The challenge lies in reducing false positives and negatives, as misclassification can lead to either unnecessary treatments or delayed intervention, respectively.\n",
    "\n",
    "You are tasked with building predictive model that uses data from the Breast Cancer Dataset, a well-known dataset in medical data analysis. This dataset includes features such as tumor size, shape, and cell characteristics, derived from fine-needle aspirate (FNA) of breast mass. The model aims to classify these tumors as benign or malignant with high accuracy.\n",
    "\n",
    "You identified that this problem is a classification problem, and researched your options. Decision tree classifiers are only one of the many techniques we can use. Linear classifiers such as logistic regression and support vector machine (SVM) constructs a linear separating hyperplane to distinguish instances from different classes. Using the following questions as a guide post, let's get started by reading the dataset! "
   ]
  },
  {
   "cell_type": "code",
   "execution_count": 25,
   "metadata": {
    "ExecuteTime": {
     "end_time": "2024-02-15T21:36:32.064380Z",
     "start_time": "2024-02-15T21:36:31.798711Z"
    }
   },
   "outputs": [],
   "source": [
    "from sklearn.datasets import load_breast_cancer\n",
    "cancer = load_breast_cancer()"
   ]
  },
  {
   "cell_type": "code",
   "execution_count": 26,
   "metadata": {
    "ExecuteTime": {
     "end_time": "2024-02-15T21:36:33.382474Z",
     "start_time": "2024-02-15T21:36:33.370791Z"
    }
   },
   "outputs": [
    {
     "data": {
      "text/plain": "1    357\n0    212\ndtype: int64"
     },
     "execution_count": 26,
     "metadata": {},
     "output_type": "execute_result"
    }
   ],
   "source": [
    "pd.Series(cancer.target).value_counts()"
   ]
  },
  {
   "cell_type": "markdown",
   "metadata": {},
   "source": [
    "## Q5: Create the independent and dependent datasets, also divide the dataset into train and test.\n",
    "\n",
    "Use random state = 42. Is there a benefit to using ```stratify``` parameter?"
   ]
  },
  {
   "cell_type": "code",
   "execution_count": 28,
   "metadata": {
    "ExecuteTime": {
     "end_time": "2024-02-15T21:57:06.141080Z",
     "start_time": "2024-02-15T21:57:06.119143Z"
    }
   },
   "outputs": [],
   "source": [
    "from sklearn.model_selection import train_test_split\n",
    "\n",
    "X = cancer.data\n",
    "y = cancer.target\n",
    "\n",
    "# Split the dataset into training and testing sets\n",
    "X_train, X_test, y_train, y_test = train_test_split(X, y, test_size=0.2, random_state=42, stratify=y)"
   ]
  },
  {
   "cell_type": "markdown",
   "source": [
    "The stratify parameter ensures that the train-test split represents the original dataset's distribution of the target variable. This is particularly important for datasets with imbalanced classes in terms of we have 357 VS 212. It ensures that both the training and testing sets have a similar proportion of each class as found in the original dataset. This leads to more reliable evaluation metrics, as the test set will more accurately reflect the performance of the model on unseen data."
   ],
   "metadata": {
    "collapsed": false
   }
  },
  {
   "cell_type": "markdown",
   "metadata": {},
   "source": [
    "## Q6: Train a Logistic Regression model, find the scores of the training and test datasets. Interpret the results."
   ]
  },
  {
   "cell_type": "markdown",
   "metadata": {},
   "source": [
    "Caution, when training and test set performances are very close, it is likely we are underfitting. Is your model under- or over-fitting, why?"
   ]
  },
  {
   "cell_type": "code",
   "execution_count": 31,
   "metadata": {
    "ExecuteTime": {
     "end_time": "2024-02-15T22:01:34.355045Z",
     "start_time": "2024-02-15T22:01:33.669261Z"
    }
   },
   "outputs": [
    {
     "data": {
      "text/plain": "(0.9560439560439561, 0.9649122807017544)"
     },
     "execution_count": 31,
     "metadata": {},
     "output_type": "execute_result"
    }
   ],
   "source": [
    "from sklearn.linear_model import LogisticRegression\n",
    "# Train a Logistic Regression model\n",
    "log_reg = LogisticRegression(max_iter=10000, random_state=42)\n",
    "log_reg.fit(X_train, y_train)\n",
    "\n",
    "# Find the scores of the training and test datasets\n",
    "train_score = log_reg.score(X_train, y_train)\n",
    "test_score = log_reg.score(X_test, y_test)\n",
    "\n",
    "train_score, test_score"
   ]
  },
  {
   "cell_type": "markdown",
   "source": [
    "Noticed that the accuracy on the training set is slightly lower than the accuracy on the test set, and both scores are high, it suggests that the model is well-fitted. It's neither underfitting nor overfitting. "
   ],
   "metadata": {
    "collapsed": false
   }
  },
  {
   "cell_type": "markdown",
   "metadata": {},
   "source": [
    "## Can regularization improve our metrics? Using Ridge and Lasso\n",
    "\n",
    "Most of the time there is discrepancy between performance on the training set and the test set, which may be an indication of under- or over-fitting. When suspected, Ridge and Lasso Regression models are used. \n",
    "\n",
    "Ridge regression formula makes predictions the same way as ordinary least squares (linear regression). However in Ridge regression there is a penalty term employed to avoid overfitting, as a result it produces a more restricted model. When Ridge training set score is less than the Linear Regression model training set score, and Ridge test set score is higher than the Linear Regression model test set score, we can conclude that Linear Model is overfitting. If this is the case, you should proceed with Ridge model since it generalizes better (based on the higher test score).\n",
    "\n",
    "Ridge balances model simplicity and training score (The simpler the model, the smaller the training score would be) using parameter ```alpha```. Higher ```alpha``` values result in smaller coefficients. You can test multiple ```alpha``` values in your analysis. In sklearn implementation you will see the parameter ```C```, which is ```1/alpha```.\n",
    "\n",
    "Lasso also has a penalty term, and some features are entirely ignored by the model by setting coefficients of those features to 0. This is helpful in identifying which features are important , and with any reduction in feature size, the model also may become more interpretable."
   ]
  },
  {
   "cell_type": "markdown",
   "metadata": {},
   "source": [
    "## Q7: By varying the regularization coefficient C (1/alpha), find the best model (test both the training and test datasets)\n",
    "Higher values of C results in more flexible models. "
   ]
  },
  {
   "cell_type": "code",
   "execution_count": null,
   "metadata": {},
   "outputs": [],
   "source": [
    "# YOUR CODE HERE\n",
    "C = [0.01, 1, 10, 100]\n",
    "\n",
    "\n"
   ]
  },
  {
   "cell_type": "markdown",
   "metadata": {},
   "source": [
    "If you stored the accuracy scores in trainAcc and testAcc for training scores and test scores for varying C levels, you may have a plot like this:"
   ]
  },
  {
   "cell_type": "code",
   "execution_count": null,
   "metadata": {},
   "outputs": [],
   "source": [
    "plt.plot(C,trainAcc)\n",
    "plt.plot(C,testAcc)\n",
    "for param in C:\n",
    "    plt.axvline(x=param, ymin=0, ymax=1, linestyle='dashed')"
   ]
  },
  {
   "cell_type": "markdown",
   "metadata": {},
   "source": [
    "The default value C=1 provides a good performance with 95% accuracy on both the training and the test dataset. But as training and test set performance are very close, we can suspect the model may be underfitting. With the last question, we tested multiple C values, by increasing the value of C we enabled the model to be more flexible. \n",
    "\n",
    "Increasing C=100 has higher training set accuracy, and slightly increased test accuracy as well. The graph shows it is a good idea to increase C to build a more complex model.\n",
    "\n",
    "By testing C=0.01, the training and test scores are similar, and decreasing the value of C (less flexible model) still underfits the data. "
   ]
  },
  {
   "cell_type": "markdown",
   "metadata": {},
   "source": [
    "Let's wrap up with a plot the coefficients of our best model, which shows the feature importance."
   ]
  },
  {
   "cell_type": "code",
   "execution_count": null,
   "metadata": {},
   "outputs": [],
   "source": [
    "plt.plot(coef[100].T,'o',label='C100')\n",
    "plt.xticks(range(cancer.data.shape[1]),cancer.feature_names,rotation=90)\n",
    "plt.hlines(0,0,cancer.data.shape[1])\n",
    "plt.ylim(-5,5)\n",
    "plt.xlabel(\"Feature\")\n",
    "plt.ylabel('Coefficient Magnitude');\n",
    "plt.legend()"
   ]
  },
  {
   "cell_type": "markdown",
   "metadata": {},
   "source": [
    "**Assignment 3 Complete!**"
   ]
  }
 ],
 "metadata": {
  "kernelspec": {
   "display_name": "Python 3 (ipykernel)",
   "language": "python",
   "name": "python3"
  },
  "language_info": {
   "codemirror_mode": {
    "name": "ipython",
    "version": 3
   },
   "file_extension": ".py",
   "mimetype": "text/x-python",
   "name": "python",
   "nbconvert_exporter": "python",
   "pygments_lexer": "ipython3",
   "version": "3.10.13"
  }
 },
 "nbformat": 4,
 "nbformat_minor": 4
}
