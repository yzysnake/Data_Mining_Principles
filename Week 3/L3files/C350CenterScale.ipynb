{
 "cells": [
  {
   "cell_type": "markdown",
   "id": "abce8582-d6bc-45ec-915c-020138632141",
   "metadata": {},
   "source": [
    "### StandardScaler centers and scales each feature in the dataseta"
   ]
  },
  {
   "cell_type": "code",
   "execution_count": 1,
   "id": "d200f7fd-47d1-4181-913b-a84256aa5bf5",
   "metadata": {
    "ExecuteTime": {
     "end_time": "2024-01-31T01:42:17.938115Z",
     "start_time": "2024-01-31T01:42:17.694387Z"
    }
   },
   "outputs": [
    {
     "name": "stdout",
     "output_type": "stream",
     "text": [
      "Scaled Data:\n",
      " [[-0.50034662  1.09791391 -1.15017973  1.15701152]\n",
      " [-0.89535711 -1.32092767  1.28770122 -1.28277365]\n",
      " [ 1.39570373  0.22301376 -0.13752149  0.12576212]]\n",
      "Mean of each feature after scaling:\n",
      " [-2.22044605e-16  1.94289029e-16 -7.40148683e-17 -3.70074342e-17]\n",
      "Standard Deviation of each feature after scaling:\n",
      " [1. 1. 1. 1.]\n"
     ]
    }
   ],
   "source": [
    "from sklearn.preprocessing import StandardScaler\n",
    "import numpy as np\n",
    "\n",
    "# Example dataset\n",
    "data = np.array([[1.0, 3.5, -2.2, 6.1],\n",
    "                 [0.5, -1.2, 4.3, -3.6],\n",
    "                 [3.4, 1.8, 0.5, 2.0]])\n",
    "\n",
    "# Create a StandardScaler object\n",
    "scaler = StandardScaler()\n",
    "\n",
    "# Fit and transform the data\n",
    "scaled_data = scaler.fit_transform(data)\n",
    "\n",
    "# The scaled data\n",
    "print(\"Scaled Data:\\n\", scaled_data)\n",
    "\n",
    "# The mean of each feature after scaling (should be close to 0)\n",
    "print(\"Mean of each feature after scaling:\\n\", scaled_data.mean(axis=0))\n",
    "\n",
    "# The standard deviation of each feature after scaling (should be 1)\n",
    "print(\"Standard Deviation of each feature after scaling:\\n\", scaled_data.std(axis=0))\n"
   ]
  },
  {
   "cell_type": "code",
   "execution_count": 2,
   "id": "70563ee6-c513-4dad-8f8b-c8cde6be8f4b",
   "metadata": {
    "ExecuteTime": {
     "end_time": "2024-01-31T01:42:53.859943Z",
     "start_time": "2024-01-31T01:42:53.852004Z"
    }
   },
   "outputs": [
    {
     "data": {
      "text/plain": "array([-0.,  0., -0., -0.])"
     },
     "execution_count": 2,
     "metadata": {},
     "output_type": "execute_result"
    }
   ],
   "source": [
    "amean = scaled_data.mean(axis=0)\n",
    "np.around(amean, decimals = 0)"
   ]
  },
  {
   "cell_type": "code",
   "execution_count": 3,
   "id": "a40c2c3a-fa6d-4985-a6b4-e9aee7b08bea",
   "metadata": {
    "ExecuteTime": {
     "end_time": "2024-01-31T01:42:58.168422Z",
     "start_time": "2024-01-31T01:42:58.149932Z"
    }
   },
   "outputs": [
    {
     "data": {
      "text/plain": "array([-2.22044605e-16,  1.94289029e-16, -7.40148683e-17, -3.70074342e-17])"
     },
     "execution_count": 3,
     "metadata": {},
     "output_type": "execute_result"
    }
   ],
   "source": [
    "amean"
   ]
  },
  {
   "cell_type": "markdown",
   "id": "09b8bfde-d84e-428f-b645-2a706d1e20bf",
   "metadata": {},
   "source": [
    "### Centering data is subtracting the mean from each observation"
   ]
  },
  {
   "cell_type": "code",
   "execution_count": 4,
   "id": "86c0c1b3-c12a-462c-bee5-bccd907fd2bc",
   "metadata": {
    "ExecuteTime": {
     "end_time": "2024-01-31T01:43:00.208780Z",
     "start_time": "2024-01-31T01:43:00.197782Z"
    }
   },
   "outputs": [
    {
     "name": "stdout",
     "output_type": "stream",
     "text": [
      "Centered Data:\n",
      " [[-0.63333333  2.13333333 -3.06666667  4.6       ]\n",
      " [-1.13333333 -2.56666667  3.43333333 -5.1       ]\n",
      " [ 1.76666667  0.43333333 -0.36666667  0.5       ]]\n",
      "Mean of each feature after centering:\n",
      " [-0.  0. -0.  0.]\n"
     ]
    }
   ],
   "source": [
    "# Example dataset\n",
    "data = np.array([[1.0, 3.5, -2.2, 6.1],\n",
    "                 [0.5, -1.2, 4.3, -3.6],\n",
    "                 [3.4, 1.8, 0.5, 2.0]])\n",
    "\n",
    "# Calculate the mean of each feature\n",
    "mean_values = np.mean(data, axis=0)\n",
    "\n",
    "# Center the data by subtracting the mean of each feature\n",
    "centered_data = data - mean_values\n",
    "\n",
    "# The centered data\n",
    "print(\"Centered Data:\\n\", centered_data)\n",
    "\n",
    "# The mean of each feature after centering (should be close to 0)\n",
    "centered_data_mean = centered_data.mean(axis=0)\n",
    "print(\"Mean of each feature after centering:\\n\", np.around(centered_data_mean))#,decimals=0))"
   ]
  },
  {
   "cell_type": "markdown",
   "id": "7cd84ec3-38c2-47b1-afee-7b3743af8eb7",
   "metadata": {},
   "source": [
    "### Scaling is to adjust the range of your data without changing its central location (mean)\n",
    "### MinMaxScaler adjust the range to 0-1"
   ]
  },
  {
   "cell_type": "code",
   "execution_count": 24,
   "id": "dc31dd97-66b6-4738-8542-db13a3545dc7",
   "metadata": {},
   "outputs": [
    {
     "name": "stdout",
     "output_type": "stream",
     "text": [
      "Scaled Data:\n",
      " [[0.17 1.   0.   1.  ]\n",
      " [0.   0.   1.   0.  ]\n",
      " [1.   0.64 0.42 0.58]]\n"
     ]
    }
   ],
   "source": [
    "from sklearn.preprocessing import MinMaxScaler\n",
    "\n",
    "# Example dataset\n",
    "data = np.array([[1.0, 3.5, -2.2, 6.1],\n",
    "                 [0.5, -1.2, 4.3, -3.6],\n",
    "                 [3.4, 1.8, 0.5, 2.0]])\n",
    "\n",
    "# Create a MinMaxScaler object for scaling between 0 and 1\n",
    "scaler = MinMaxScaler(feature_range=(0, 1))\n",
    "\n",
    "# Fit and transform the data\n",
    "scaled_data = scaler.fit_transform(data)\n",
    "\n",
    "# The scaled data\n",
    "print(\"Scaled Data:\\n\", np.around(scaled_data,decimals=2))"
   ]
  }
 ],
 "metadata": {
  "kernelspec": {
   "display_name": "Python 3 (ipykernel)",
   "language": "python",
   "name": "python3"
  },
  "language_info": {
   "codemirror_mode": {
    "name": "ipython",
    "version": 3
   },
   "file_extension": ".py",
   "mimetype": "text/x-python",
   "name": "python",
   "nbconvert_exporter": "python",
   "pygments_lexer": "ipython3",
   "version": "3.10.13"
  }
 },
 "nbformat": 4,
 "nbformat_minor": 5
}
